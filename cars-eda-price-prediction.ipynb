{
 "cells": [
  {
   "cell_type": "code",
   "execution_count": 566,
   "metadata": {
    "_cell_guid": "b1076dfc-b9ad-4769-8c92-a6c4dae69d19",
    "_uuid": "8f2839f25d086af736a60e9eeb907d3b93b6e0e5",
    "execution": {
     "iopub.execute_input": "2025-08-09T17:07:20.507310Z",
     "iopub.status.busy": "2025-08-09T17:07:20.506451Z",
     "iopub.status.idle": "2025-08-09T17:07:20.514423Z",
     "shell.execute_reply": "2025-08-09T17:07:20.512883Z",
     "shell.execute_reply.started": "2025-08-09T17:07:20.507277Z"
    },
    "trusted": true
   },
   "outputs": [],
   "source": [
    "# This Python 3 environment comes with many helpful analytics libraries installed\n",
    "# It is defined by the kaggle/python Docker image: https://github.com/kaggle/docker-python\n",
    "# For example, here's several helpful packages to load\n",
    "\n",
    "import numpy as np # linear algebra\n",
    "import pandas as pd # data processing, CSV file I/O (e.g. pd.read_csv)\n",
    "\n",
    "# Input data files are available in the read-only \"../input/\" directory\n",
    "# For example, running this (by clicking run or pressing Shift+Enter) will list all files under the input directory\n",
    "\n",
    "import os\n",
    "for dirname, _, filenames in os.walk('/kaggle/input'):\n",
    "    for filename in filenames:\n",
    "        print(os.path.join(dirname, filename))\n",
    "\n",
    "# You can write up to 20GB to the current directory (/kaggle/working/) that gets preserved as output when you create a version using \"Save & Run All\" \n",
    "# You can also write temporary files to /kaggle/temp/, but they won't be saved outside of the current session"
   ]
  },
  {
   "cell_type": "code",
   "execution_count": null,
   "metadata": {
    "execution": {
     "iopub.execute_input": "2025-08-09T17:31:35.416879Z",
     "iopub.status.busy": "2025-08-09T17:31:35.416136Z",
     "iopub.status.idle": "2025-08-09T17:31:36.531353Z",
     "shell.execute_reply": "2025-08-09T17:31:36.530385Z",
     "shell.execute_reply.started": "2025-08-09T17:31:35.416845Z"
    },
    "trusted": true
   },
   "outputs": [],
   "source": [
    "import matplotlib.pyplot as plt\n",
    "import seaborn as sns\n",
    "import plotly.express as px\n",
    "import re\n",
    "from catboost import CatBoostRegressor\n",
    "from sklearn.preprocessing import MultiLabelBinarizer\n",
    "from sklearn.model_selection import train_test_split, KFold\n",
    "from sklearn.metrics import mean_squared_error\n",
    "from sklearn.ensemble import StackingRegressor\n",
    "from xgboost import XGBRegressor\n",
    "from sklearn.linear_model import Ridge"
   ]
  },
  {
   "cell_type": "code",
   "execution_count": 568,
   "metadata": {
    "execution": {
     "iopub.execute_input": "2025-08-09T17:16:09.039955Z",
     "iopub.status.busy": "2025-08-09T17:16:09.039537Z",
     "iopub.status.idle": "2025-08-09T17:16:09.054399Z",
     "shell.execute_reply": "2025-08-09T17:16:09.053000Z",
     "shell.execute_reply.started": "2025-08-09T17:16:09.039926Z"
    },
    "trusted": true
   },
   "outputs": [],
   "source": [
    "df = pd.read_csv('Cars Datasets 2025.csv', encoding='ISO-8859-1') "
   ]
  },
  {
   "cell_type": "markdown",
   "metadata": {},
   "source": [
    "# ℹ️ | **Information**"
   ]
  },
  {
   "cell_type": "code",
   "execution_count": 569,
   "metadata": {
    "execution": {
     "iopub.execute_input": "2025-08-09T17:19:05.355556Z",
     "iopub.status.busy": "2025-08-09T17:19:05.355216Z",
     "iopub.status.idle": "2025-08-09T17:19:05.368679Z",
     "shell.execute_reply": "2025-08-09T17:19:05.367648Z",
     "shell.execute_reply.started": "2025-08-09T17:19:05.355529Z"
    },
    "trusted": true
   },
   "outputs": [
    {
     "data": {
      "text/html": [
       "<div>\n",
       "<style scoped>\n",
       "    .dataframe tbody tr th:only-of-type {\n",
       "        vertical-align: middle;\n",
       "    }\n",
       "\n",
       "    .dataframe tbody tr th {\n",
       "        vertical-align: top;\n",
       "    }\n",
       "\n",
       "    .dataframe thead th {\n",
       "        text-align: right;\n",
       "    }\n",
       "</style>\n",
       "<table border=\"1\" class=\"dataframe\">\n",
       "  <thead>\n",
       "    <tr style=\"text-align: right;\">\n",
       "      <th></th>\n",
       "      <th>Company Names</th>\n",
       "      <th>Cars Names</th>\n",
       "      <th>Engines</th>\n",
       "      <th>CC/Battery Capacity</th>\n",
       "      <th>HorsePower</th>\n",
       "      <th>Total Speed</th>\n",
       "      <th>Performance(0 - 100 )KM/H</th>\n",
       "      <th>Cars Prices</th>\n",
       "      <th>Fuel Types</th>\n",
       "      <th>Seats</th>\n",
       "      <th>Torque</th>\n",
       "    </tr>\n",
       "  </thead>\n",
       "  <tbody>\n",
       "    <tr>\n",
       "      <th>0</th>\n",
       "      <td>FERRARI</td>\n",
       "      <td>SF90 STRADALE</td>\n",
       "      <td>V8</td>\n",
       "      <td>3990 cc</td>\n",
       "      <td>963 hp</td>\n",
       "      <td>340 km/h</td>\n",
       "      <td>2.5 sec</td>\n",
       "      <td>$1,100,000</td>\n",
       "      <td>plug in hyrbrid</td>\n",
       "      <td>2</td>\n",
       "      <td>800 Nm</td>\n",
       "    </tr>\n",
       "    <tr>\n",
       "      <th>1</th>\n",
       "      <td>ROLLS ROYCE</td>\n",
       "      <td>PHANTOM</td>\n",
       "      <td>V12</td>\n",
       "      <td>6749 cc</td>\n",
       "      <td>563 hp</td>\n",
       "      <td>250 km/h</td>\n",
       "      <td>5.3 sec</td>\n",
       "      <td>$460,000</td>\n",
       "      <td>Petrol</td>\n",
       "      <td>5</td>\n",
       "      <td>900 Nm</td>\n",
       "    </tr>\n",
       "    <tr>\n",
       "      <th>2</th>\n",
       "      <td>Ford</td>\n",
       "      <td>KA+</td>\n",
       "      <td>1.2L Petrol</td>\n",
       "      <td>1,200 cc</td>\n",
       "      <td>70-85 hp</td>\n",
       "      <td>165 km/h</td>\n",
       "      <td>10.5 sec</td>\n",
       "      <td>$12,000-$15,000</td>\n",
       "      <td>Petrol</td>\n",
       "      <td>5</td>\n",
       "      <td>100 - 140 Nm</td>\n",
       "    </tr>\n",
       "    <tr>\n",
       "      <th>3</th>\n",
       "      <td>MERCEDES</td>\n",
       "      <td>GT 63 S</td>\n",
       "      <td>V8</td>\n",
       "      <td>3,982 cc</td>\n",
       "      <td>630 hp</td>\n",
       "      <td>250 km/h</td>\n",
       "      <td>3.2 sec</td>\n",
       "      <td>$161,000</td>\n",
       "      <td>Petrol</td>\n",
       "      <td>4</td>\n",
       "      <td>900 Nm</td>\n",
       "    </tr>\n",
       "    <tr>\n",
       "      <th>4</th>\n",
       "      <td>AUDI</td>\n",
       "      <td>AUDI R8 Gt</td>\n",
       "      <td>V10</td>\n",
       "      <td>5,204 cc</td>\n",
       "      <td>602 hp</td>\n",
       "      <td>320 km/h</td>\n",
       "      <td>3.6 sec</td>\n",
       "      <td>$253,290</td>\n",
       "      <td>Petrol</td>\n",
       "      <td>2</td>\n",
       "      <td>560 Nm</td>\n",
       "    </tr>\n",
       "  </tbody>\n",
       "</table>\n",
       "</div>"
      ],
      "text/plain": [
       "  Company Names     Cars Names      Engines CC/Battery Capacity HorsePower  \\\n",
       "0       FERRARI  SF90 STRADALE           V8             3990 cc     963 hp   \n",
       "1   ROLLS ROYCE        PHANTOM          V12             6749 cc     563 hp   \n",
       "2          Ford            KA+  1.2L Petrol            1,200 cc   70-85 hp   \n",
       "3      MERCEDES        GT 63 S           V8            3,982 cc     630 hp   \n",
       "4          AUDI     AUDI R8 Gt          V10            5,204 cc     602 hp   \n",
       "\n",
       "  Total Speed Performance(0 - 100 )KM/H      Cars Prices       Fuel Types  \\\n",
       "0    340 km/h                   2.5 sec      $1,100,000   plug in hyrbrid   \n",
       "1    250 km/h                   5.3 sec        $460,000            Petrol   \n",
       "2    165 km/h                  10.5 sec  $12,000-$15,000           Petrol   \n",
       "3    250 km/h                   3.2 sec        $161,000            Petrol   \n",
       "4    320 km/h                   3.6 sec        $253,290            Petrol   \n",
       "\n",
       "  Seats        Torque  \n",
       "0     2        800 Nm  \n",
       "1     5        900 Nm  \n",
       "2     5  100 - 140 Nm  \n",
       "3     4        900 Nm  \n",
       "4     2        560 Nm  "
      ]
     },
     "execution_count": 569,
     "metadata": {},
     "output_type": "execute_result"
    }
   ],
   "source": [
    "df.head()"
   ]
  },
  {
   "cell_type": "code",
   "execution_count": 570,
   "metadata": {},
   "outputs": [
    {
     "data": {
      "text/html": [
       "<div>\n",
       "<style scoped>\n",
       "    .dataframe tbody tr th:only-of-type {\n",
       "        vertical-align: middle;\n",
       "    }\n",
       "\n",
       "    .dataframe tbody tr th {\n",
       "        vertical-align: top;\n",
       "    }\n",
       "\n",
       "    .dataframe thead th {\n",
       "        text-align: right;\n",
       "    }\n",
       "</style>\n",
       "<table border=\"1\" class=\"dataframe\">\n",
       "  <thead>\n",
       "    <tr style=\"text-align: right;\">\n",
       "      <th></th>\n",
       "      <th>Company Names</th>\n",
       "      <th>Cars Names</th>\n",
       "      <th>Engines</th>\n",
       "      <th>CC/Battery Capacity</th>\n",
       "      <th>HorsePower</th>\n",
       "      <th>Total Speed</th>\n",
       "      <th>Performance(0 - 100 )KM/H</th>\n",
       "      <th>Cars Prices</th>\n",
       "      <th>Fuel Types</th>\n",
       "      <th>Seats</th>\n",
       "      <th>Torque</th>\n",
       "    </tr>\n",
       "  </thead>\n",
       "  <tbody>\n",
       "    <tr>\n",
       "      <th>899</th>\n",
       "      <td>Jaguar Land Rover</td>\n",
       "      <td>Jaguar F-Type</td>\n",
       "      <td>V6 / V8 Petrol</td>\n",
       "      <td>2995 cc (V6)</td>\n",
       "      <td>335 hp</td>\n",
       "      <td>260 km/h</td>\n",
       "      <td>5.1 sec</td>\n",
       "      <td>$70,000</td>\n",
       "      <td>Petrol</td>\n",
       "      <td>2</td>\n",
       "      <td>450 Nm</td>\n",
       "    </tr>\n",
       "    <tr>\n",
       "      <th>900</th>\n",
       "      <td>Jaguar Land Rover</td>\n",
       "      <td>Jaguar XE</td>\n",
       "      <td>I4 Petrol</td>\n",
       "      <td>1999 cc (I4)</td>\n",
       "      <td>250 hp</td>\n",
       "      <td>250 km/h</td>\n",
       "      <td>6.5 sec</td>\n",
       "      <td>$45,000</td>\n",
       "      <td>Petrol</td>\n",
       "      <td>5</td>\n",
       "      <td>365 Nm</td>\n",
       "    </tr>\n",
       "    <tr>\n",
       "      <th>901</th>\n",
       "      <td>Jaguar Land Rover</td>\n",
       "      <td>Jaguar XF</td>\n",
       "      <td>I4 Petrol</td>\n",
       "      <td>1999 cc (I4)</td>\n",
       "      <td>250 hp</td>\n",
       "      <td>250 km/h</td>\n",
       "      <td>6.5 sec</td>\n",
       "      <td>$50,000</td>\n",
       "      <td>Petrol</td>\n",
       "      <td>5</td>\n",
       "      <td>365 Nm</td>\n",
       "    </tr>\n",
       "    <tr>\n",
       "      <th>902</th>\n",
       "      <td>Jaguar Land Rover</td>\n",
       "      <td>Jaguar XJ</td>\n",
       "      <td>V6 Petrol</td>\n",
       "      <td>2995 cc (V6)</td>\n",
       "      <td>300 hp</td>\n",
       "      <td>250 km/h</td>\n",
       "      <td>6.0 sec</td>\n",
       "      <td>$85,000</td>\n",
       "      <td>Petrol</td>\n",
       "      <td>5</td>\n",
       "      <td>400 Nm</td>\n",
       "    </tr>\n",
       "    <tr>\n",
       "      <th>903</th>\n",
       "      <td>Jaguar Land Rover</td>\n",
       "      <td>Jaguar E-PACE</td>\n",
       "      <td>I4 Petrol</td>\n",
       "      <td>1999 cc (I4)</td>\n",
       "      <td>200 hp</td>\n",
       "      <td>230 km/h</td>\n",
       "      <td>7.0 sec</td>\n",
       "      <td>$50,000</td>\n",
       "      <td>Petrol</td>\n",
       "      <td>5</td>\n",
       "      <td>430 Nm</td>\n",
       "    </tr>\n",
       "    <tr>\n",
       "      <th>904</th>\n",
       "      <td>Jaguar Land Rover</td>\n",
       "      <td>Jaguar I-PACE</td>\n",
       "      <td>Electric (Dual Motor)</td>\n",
       "      <td>90 kWh (Battery)</td>\n",
       "      <td>400 hp</td>\n",
       "      <td>200 km/h</td>\n",
       "      <td>4.8 sec</td>\n",
       "      <td>$70,000</td>\n",
       "      <td>Electric</td>\n",
       "      <td>5</td>\n",
       "      <td>696 Nm</td>\n",
       "    </tr>\n",
       "    <tr>\n",
       "      <th>905</th>\n",
       "      <td>Jaguar Land Rover</td>\n",
       "      <td>Jaguar F-PACE</td>\n",
       "      <td>I4 Petrol / V6 Petrol</td>\n",
       "      <td>1999 cc (I4) / 2995 cc (V6)</td>\n",
       "      <td>250 hp / 340 hp</td>\n",
       "      <td>230 km/h</td>\n",
       "      <td>7.2 sec / 5.4 sec</td>\n",
       "      <td>$55,000 / $65,000</td>\n",
       "      <td>Petrol</td>\n",
       "      <td>5</td>\n",
       "      <td>365 Nm / 480 Nm</td>\n",
       "    </tr>\n",
       "    <tr>\n",
       "      <th>906</th>\n",
       "      <td>Jaguar Land Rover</td>\n",
       "      <td>Jaguar X-TYPE</td>\n",
       "      <td>I4 Petrol</td>\n",
       "      <td>1998 cc (I4)</td>\n",
       "      <td>160 hp</td>\n",
       "      <td>215 km/h</td>\n",
       "      <td>9.0 sec</td>\n",
       "      <td>$40,000</td>\n",
       "      <td>Petrol</td>\n",
       "      <td>5</td>\n",
       "      <td>215 Nm</td>\n",
       "    </tr>\n",
       "    <tr>\n",
       "      <th>907</th>\n",
       "      <td>Jaguar Land Rover</td>\n",
       "      <td>Jaguar F-PACE R-Dynamic</td>\n",
       "      <td>I4 Petrol / V6 Petrol</td>\n",
       "      <td>1999 cc (I4) / 2995 cc (V6)</td>\n",
       "      <td>340 hp</td>\n",
       "      <td>250 km/h</td>\n",
       "      <td>5.4 sec</td>\n",
       "      <td>$65,000</td>\n",
       "      <td>Petrol</td>\n",
       "      <td>5</td>\n",
       "      <td>480 Nm</td>\n",
       "    </tr>\n",
       "    <tr>\n",
       "      <th>908</th>\n",
       "      <td>Jaguar Land Rover</td>\n",
       "      <td>Jaguar XE R-Dynamic</td>\n",
       "      <td>I4 Petrol</td>\n",
       "      <td>1999 cc (I4)</td>\n",
       "      <td>340 hp</td>\n",
       "      <td>250 km/h</td>\n",
       "      <td>5.4 sec</td>\n",
       "      <td>$60,000</td>\n",
       "      <td>Petrol</td>\n",
       "      <td>5</td>\n",
       "      <td>450 Nm</td>\n",
       "    </tr>\n",
       "    <tr>\n",
       "      <th>909</th>\n",
       "      <td>Jaguar Land Rover</td>\n",
       "      <td>Jaguar F-Type SVR</td>\n",
       "      <td>V8 Petrol</td>\n",
       "      <td>5000 cc (V8)</td>\n",
       "      <td>575 hp</td>\n",
       "      <td>320 km/h</td>\n",
       "      <td>3.7 sec</td>\n",
       "      <td>$120,000</td>\n",
       "      <td>Petrol</td>\n",
       "      <td>2</td>\n",
       "      <td>700 Nm</td>\n",
       "    </tr>\n",
       "    <tr>\n",
       "      <th>910</th>\n",
       "      <td>Jaguar Land Rover</td>\n",
       "      <td>Jaguar I-PACE Electric Performance</td>\n",
       "      <td>Electric (Dual Motor)</td>\n",
       "      <td>90 kWh (Battery)</td>\n",
       "      <td>400 hp</td>\n",
       "      <td>200 km/h</td>\n",
       "      <td>4.5 sec</td>\n",
       "      <td>$85,000</td>\n",
       "      <td>Electric</td>\n",
       "      <td>5</td>\n",
       "      <td>696 Nm</td>\n",
       "    </tr>\n",
       "    <tr>\n",
       "      <th>911</th>\n",
       "      <td>Jaguar Land Rover</td>\n",
       "      <td>Jaguar F-PACE SVR</td>\n",
       "      <td>V8 Petrol</td>\n",
       "      <td>5000 cc (V8)</td>\n",
       "      <td>550 hp</td>\n",
       "      <td>283 km/h</td>\n",
       "      <td>4.0 sec</td>\n",
       "      <td>$85,000</td>\n",
       "      <td>Petrol</td>\n",
       "      <td>5</td>\n",
       "      <td>700 Nm</td>\n",
       "    </tr>\n",
       "    <tr>\n",
       "      <th>912</th>\n",
       "      <td>Jaguar Land Rover</td>\n",
       "      <td>Jaguar XE S</td>\n",
       "      <td>I4 Petrol</td>\n",
       "      <td>1999 cc (I4)</td>\n",
       "      <td>340 hp</td>\n",
       "      <td>250 km/h</td>\n",
       "      <td>5.3 sec</td>\n",
       "      <td>$55,000</td>\n",
       "      <td>Petrol</td>\n",
       "      <td>5</td>\n",
       "      <td>450 Nm</td>\n",
       "    </tr>\n",
       "    <tr>\n",
       "      <th>913</th>\n",
       "      <td>Jaguar Land Rover</td>\n",
       "      <td>Jaguar XF R-Dynamic</td>\n",
       "      <td>I4 Petrol / V6 Petrol</td>\n",
       "      <td>1999 cc (I4) / 2995 cc (V6)</td>\n",
       "      <td>340 hp</td>\n",
       "      <td>250 km/h</td>\n",
       "      <td>5.4 sec</td>\n",
       "      <td>$65,000</td>\n",
       "      <td>Petrol</td>\n",
       "      <td>5</td>\n",
       "      <td>480 Nm</td>\n",
       "    </tr>\n",
       "    <tr>\n",
       "      <th>914</th>\n",
       "      <td>Jaguar Land Rover</td>\n",
       "      <td>Jaguar XJ LWB (Long Wheelbase)</td>\n",
       "      <td>V6 Petrol</td>\n",
       "      <td>2995 cc (V6)</td>\n",
       "      <td>300 hp</td>\n",
       "      <td>250 km/h</td>\n",
       "      <td>6.0 sec</td>\n",
       "      <td>$90,000</td>\n",
       "      <td>Petrol</td>\n",
       "      <td>5</td>\n",
       "      <td>400 Nm</td>\n",
       "    </tr>\n",
       "    <tr>\n",
       "      <th>915</th>\n",
       "      <td>Jaguar Land Rover</td>\n",
       "      <td>Jaguar F-Type Heritage Edition</td>\n",
       "      <td>V8 Petrol</td>\n",
       "      <td>5000 cc (V8)</td>\n",
       "      <td>550 hp</td>\n",
       "      <td>300 km/h</td>\n",
       "      <td>3.9 sec</td>\n",
       "      <td>$110,000</td>\n",
       "      <td>Petrol</td>\n",
       "      <td>2</td>\n",
       "      <td>680 Nm</td>\n",
       "    </tr>\n",
       "    <tr>\n",
       "      <th>916</th>\n",
       "      <td>Jaguar Land Rover</td>\n",
       "      <td>Jaguar E-PACE S</td>\n",
       "      <td>I4 Petrol</td>\n",
       "      <td>1999 cc (I4)</td>\n",
       "      <td>200 hp</td>\n",
       "      <td>230 km/h</td>\n",
       "      <td>7.0 sec</td>\n",
       "      <td>$50,000</td>\n",
       "      <td>Petrol</td>\n",
       "      <td>5</td>\n",
       "      <td>430 Nm</td>\n",
       "    </tr>\n",
       "    <tr>\n",
       "      <th>917</th>\n",
       "      <td>Jaguar Land Rover</td>\n",
       "      <td>Jaguar I-PACE HSE</td>\n",
       "      <td>Electric (Dual Motor)</td>\n",
       "      <td>90 kWh (Battery)</td>\n",
       "      <td>400 hp</td>\n",
       "      <td>200 km/h</td>\n",
       "      <td>4.5 sec</td>\n",
       "      <td>$90,000</td>\n",
       "      <td>Electric</td>\n",
       "      <td>5</td>\n",
       "      <td>696 Nm</td>\n",
       "    </tr>\n",
       "    <tr>\n",
       "      <th>918</th>\n",
       "      <td>Jaguar Land Rover</td>\n",
       "      <td>Jaguar F-Type V8 R</td>\n",
       "      <td>V8 Petrol</td>\n",
       "      <td>5000 cc (V8)</td>\n",
       "      <td>550 hp</td>\n",
       "      <td>300 km/h</td>\n",
       "      <td>3.9 sec</td>\n",
       "      <td>$100,000</td>\n",
       "      <td>Petrol</td>\n",
       "      <td>2</td>\n",
       "      <td>680 Nm</td>\n",
       "    </tr>\n",
       "    <tr>\n",
       "      <th>919</th>\n",
       "      <td>Jaguar Land Rover</td>\n",
       "      <td>Jaguar F-Type R-Dynamic</td>\n",
       "      <td>I4 Petrol / V6 Petrol</td>\n",
       "      <td>1999 cc (I4) / 2995 cc (V6)</td>\n",
       "      <td>300 hp</td>\n",
       "      <td>250 km/h</td>\n",
       "      <td>5.1 sec</td>\n",
       "      <td>$70,000</td>\n",
       "      <td>Petrol</td>\n",
       "      <td>2</td>\n",
       "      <td>400 Nm</td>\n",
       "    </tr>\n",
       "    <tr>\n",
       "      <th>920</th>\n",
       "      <td>Jaguar Land Rover</td>\n",
       "      <td>Jaguar XE P300 R-Dynamic</td>\n",
       "      <td>I4 Petrol</td>\n",
       "      <td>1999 cc (I4)</td>\n",
       "      <td>300 hp</td>\n",
       "      <td>250 km/h</td>\n",
       "      <td>5.5 sec</td>\n",
       "      <td>$55,000</td>\n",
       "      <td>Petrol</td>\n",
       "      <td>5</td>\n",
       "      <td>400 Nm</td>\n",
       "    </tr>\n",
       "    <tr>\n",
       "      <th>921</th>\n",
       "      <td>Jaguar Land Rover</td>\n",
       "      <td>Jaguar XF Sportbrake</td>\n",
       "      <td>I4 Petrol / V6 Petrol</td>\n",
       "      <td>1999 cc (I4) / 2995 cc (V6)</td>\n",
       "      <td>250 hp</td>\n",
       "      <td>250 km/h</td>\n",
       "      <td>6.5 sec</td>\n",
       "      <td>$60,000</td>\n",
       "      <td>Petrol</td>\n",
       "      <td>5</td>\n",
       "      <td>400 Nm</td>\n",
       "    </tr>\n",
       "    <tr>\n",
       "      <th>922</th>\n",
       "      <td>Jaguar Land Rover</td>\n",
       "      <td>Jaguar I-PACE EV400 HSE</td>\n",
       "      <td>Electric (Dual Motor)</td>\n",
       "      <td>90 kWh (Battery)</td>\n",
       "      <td>400 hp</td>\n",
       "      <td>200 km/h</td>\n",
       "      <td>4.5 sec</td>\n",
       "      <td>$85,000</td>\n",
       "      <td>Electric</td>\n",
       "      <td>5</td>\n",
       "      <td>696 Nm</td>\n",
       "    </tr>\n",
       "    <tr>\n",
       "      <th>923</th>\n",
       "      <td>Jaguar Land Rover</td>\n",
       "      <td>Jaguar F-PACE S 30t AWD</td>\n",
       "      <td>I4 Petrol</td>\n",
       "      <td>1999 cc (I4)</td>\n",
       "      <td>247 hp</td>\n",
       "      <td>225 km/h</td>\n",
       "      <td>6.4 sec</td>\n",
       "      <td>$60,000</td>\n",
       "      <td>Petrol</td>\n",
       "      <td>5</td>\n",
       "      <td>365 Nm</td>\n",
       "    </tr>\n",
       "    <tr>\n",
       "      <th>924</th>\n",
       "      <td>Jaguar Land Rover</td>\n",
       "      <td>Jaguar E-PACE R-Dynamic</td>\n",
       "      <td>I4 Petrol</td>\n",
       "      <td>1999 cc (I4)</td>\n",
       "      <td>246 hp</td>\n",
       "      <td>230 km/h</td>\n",
       "      <td>6.8 sec</td>\n",
       "      <td>$55,000</td>\n",
       "      <td>Petrol</td>\n",
       "      <td>5</td>\n",
       "      <td>430 Nm</td>\n",
       "    </tr>\n",
       "    <tr>\n",
       "      <th>925</th>\n",
       "      <td>Jaguar Land Rover</td>\n",
       "      <td>Jaguar XJ50</td>\n",
       "      <td>V6 Petrol</td>\n",
       "      <td>2995 cc (V6)</td>\n",
       "      <td>300 hp</td>\n",
       "      <td>250 km/h</td>\n",
       "      <td>6.0 sec</td>\n",
       "      <td>$80,000</td>\n",
       "      <td>Petrol</td>\n",
       "      <td>5</td>\n",
       "      <td>400 Nm</td>\n",
       "    </tr>\n",
       "    <tr>\n",
       "      <th>926</th>\n",
       "      <td>Jaguar Land Rover</td>\n",
       "      <td>Jaguar F-Type 75th Anniversary Edition</td>\n",
       "      <td>V8 Petrol</td>\n",
       "      <td>5000 cc (V8)</td>\n",
       "      <td>550 hp</td>\n",
       "      <td>300 km/h</td>\n",
       "      <td>3.9 sec</td>\n",
       "      <td>$100,000</td>\n",
       "      <td>Petrol</td>\n",
       "      <td>2</td>\n",
       "      <td>680 Nm</td>\n",
       "    </tr>\n",
       "    <tr>\n",
       "      <th>927</th>\n",
       "      <td>Jaguar Land Rover</td>\n",
       "      <td>Jaguar F-PACE S AWD</td>\n",
       "      <td>I4 Petrol / V6 Petrol</td>\n",
       "      <td>1999 cc (I4) / 2995 cc (V6)</td>\n",
       "      <td>340 hp</td>\n",
       "      <td>250 km/h</td>\n",
       "      <td>5.4 sec</td>\n",
       "      <td>$65,000</td>\n",
       "      <td>Petrol</td>\n",
       "      <td>5</td>\n",
       "      <td>480 Nm</td>\n",
       "    </tr>\n",
       "    <tr>\n",
       "      <th>928</th>\n",
       "      <td>Jaguar Land Rover</td>\n",
       "      <td>Jaguar XE SE</td>\n",
       "      <td>I4 Petrol</td>\n",
       "      <td>1999 cc (I4)</td>\n",
       "      <td>250 hp</td>\n",
       "      <td>240 km/h</td>\n",
       "      <td>6.2 sec</td>\n",
       "      <td>$50,000</td>\n",
       "      <td>Petrol</td>\n",
       "      <td>5</td>\n",
       "      <td>365 Nm</td>\n",
       "    </tr>\n",
       "    <tr>\n",
       "      <th>929</th>\n",
       "      <td>Jaguar Land Rover</td>\n",
       "      <td>Jaguar F-Type V6 S Convertible</td>\n",
       "      <td>V6 Petrol</td>\n",
       "      <td>2995 cc (V6)</td>\n",
       "      <td>380 hp</td>\n",
       "      <td>280 km/h</td>\n",
       "      <td>4.8 sec</td>\n",
       "      <td>$80,000</td>\n",
       "      <td>Petrol</td>\n",
       "      <td>2</td>\n",
       "      <td>460 Nm</td>\n",
       "    </tr>\n",
       "    <tr>\n",
       "      <th>930</th>\n",
       "      <td>Jaguar Land Rover</td>\n",
       "      <td>Jaguar XE R-Sport AWD</td>\n",
       "      <td>I4 Petrol / V6 Petrol</td>\n",
       "      <td>1999 cc (I4) / 2995 cc (V6)</td>\n",
       "      <td>300 hp</td>\n",
       "      <td>250 km/h</td>\n",
       "      <td>5.5 sec</td>\n",
       "      <td>$55,000</td>\n",
       "      <td>Petrol</td>\n",
       "      <td>5</td>\n",
       "      <td>400 Nm</td>\n",
       "    </tr>\n",
       "    <tr>\n",
       "      <th>931</th>\n",
       "      <td>Jaguar Land Rover</td>\n",
       "      <td>Jaguar XF Portfolio AWD</td>\n",
       "      <td>I4 Petrol / V6 Petrol</td>\n",
       "      <td>1999 cc (I4) / 2995 cc (V6)</td>\n",
       "      <td>340 hp</td>\n",
       "      <td>250 km/h</td>\n",
       "      <td>5.4 sec</td>\n",
       "      <td>$60,000</td>\n",
       "      <td>Petrol</td>\n",
       "      <td>5</td>\n",
       "      <td>450 Nm</td>\n",
       "    </tr>\n",
       "    <tr>\n",
       "      <th>932</th>\n",
       "      <td>Jaguar Land Rover</td>\n",
       "      <td>Jaguar F-Type Coupe R</td>\n",
       "      <td>V8 Petrol</td>\n",
       "      <td>5000 cc (V8)</td>\n",
       "      <td>550 hp</td>\n",
       "      <td>300 km/h</td>\n",
       "      <td>3.9 sec</td>\n",
       "      <td>$100,000</td>\n",
       "      <td>Petrol</td>\n",
       "      <td>2</td>\n",
       "      <td>680 Nm</td>\n",
       "    </tr>\n",
       "    <tr>\n",
       "      <th>933</th>\n",
       "      <td>Jaguar Land Rover</td>\n",
       "      <td>Jaguar I-PACE First Edition</td>\n",
       "      <td>Electric (Dual Motor)</td>\n",
       "      <td>90 kWh (Battery)</td>\n",
       "      <td>400 hp</td>\n",
       "      <td>200 km/h</td>\n",
       "      <td>4.5 sec</td>\n",
       "      <td>$85,000</td>\n",
       "      <td>Electric</td>\n",
       "      <td>5</td>\n",
       "      <td>696 Nm</td>\n",
       "    </tr>\n",
       "    <tr>\n",
       "      <th>934</th>\n",
       "      <td>Jaguar Land Rover</td>\n",
       "      <td>Jaguar F-PACE Prestige AWD</td>\n",
       "      <td>I4 Petrol / V6 Petrol</td>\n",
       "      <td>1999 cc (I4) / 2995 cc (V6)</td>\n",
       "      <td>340 hp</td>\n",
       "      <td>250 km/h</td>\n",
       "      <td>5.4 sec</td>\n",
       "      <td>$65,000</td>\n",
       "      <td>Petrol</td>\n",
       "      <td>5</td>\n",
       "      <td>480 Nm</td>\n",
       "    </tr>\n",
       "    <tr>\n",
       "      <th>935</th>\n",
       "      <td>Jaguar Land Rover</td>\n",
       "      <td>Jaguar XJ Supercharged</td>\n",
       "      <td>V8 Petrol</td>\n",
       "      <td>5000 cc (V8)</td>\n",
       "      <td>510 hp</td>\n",
       "      <td>280 km/h</td>\n",
       "      <td>4.2 sec</td>\n",
       "      <td>$90,000</td>\n",
       "      <td>Petrol</td>\n",
       "      <td>5</td>\n",
       "      <td>625 Nm</td>\n",
       "    </tr>\n",
       "    <tr>\n",
       "      <th>936</th>\n",
       "      <td>Jaguar Land Rover</td>\n",
       "      <td>Jaguar F-Type P450 AWD</td>\n",
       "      <td>V8 Petrol</td>\n",
       "      <td>5000 cc (V8)</td>\n",
       "      <td>450 hp</td>\n",
       "      <td>290 km/h</td>\n",
       "      <td>4.0 sec</td>\n",
       "      <td>$90,000</td>\n",
       "      <td>Petrol</td>\n",
       "      <td>2</td>\n",
       "      <td>600 Nm</td>\n",
       "    </tr>\n",
       "    <tr>\n",
       "      <th>937</th>\n",
       "      <td>Jaguar Land Rover</td>\n",
       "      <td>Jaguar F-PACE P400e Plug-in Hybrid</td>\n",
       "      <td>I4 Petrol + Electric Motor</td>\n",
       "      <td>1999 cc (I4) + Electric</td>\n",
       "      <td>398 hp</td>\n",
       "      <td>220 km/h</td>\n",
       "      <td>5.1 sec</td>\n",
       "      <td>$75,000</td>\n",
       "      <td>Plug-in Hybrid</td>\n",
       "      <td>5</td>\n",
       "      <td>640 Nm</td>\n",
       "    </tr>\n",
       "    <tr>\n",
       "      <th>938</th>\n",
       "      <td>Jaguar Land Rover</td>\n",
       "      <td>Jaguar F-Type P300 Coupe</td>\n",
       "      <td>I4 Petrol</td>\n",
       "      <td>1999 cc (I4)</td>\n",
       "      <td>300 hp</td>\n",
       "      <td>250 km/h</td>\n",
       "      <td>5.5 sec</td>\n",
       "      <td>$60,000</td>\n",
       "      <td>Petrol</td>\n",
       "      <td>2</td>\n",
       "      <td>400 Nm</td>\n",
       "    </tr>\n",
       "  </tbody>\n",
       "</table>\n",
       "</div>"
      ],
      "text/plain": [
       "         Company Names                              Cars Names  \\\n",
       "899  Jaguar Land Rover                           Jaguar F-Type   \n",
       "900  Jaguar Land Rover                               Jaguar XE   \n",
       "901  Jaguar Land Rover                               Jaguar XF   \n",
       "902  Jaguar Land Rover                               Jaguar XJ   \n",
       "903  Jaguar Land Rover                           Jaguar E-PACE   \n",
       "904  Jaguar Land Rover                           Jaguar I-PACE   \n",
       "905  Jaguar Land Rover                           Jaguar F-PACE   \n",
       "906  Jaguar Land Rover                           Jaguar X-TYPE   \n",
       "907  Jaguar Land Rover                 Jaguar F-PACE R-Dynamic   \n",
       "908  Jaguar Land Rover                     Jaguar XE R-Dynamic   \n",
       "909  Jaguar Land Rover                       Jaguar F-Type SVR   \n",
       "910  Jaguar Land Rover      Jaguar I-PACE Electric Performance   \n",
       "911  Jaguar Land Rover                       Jaguar F-PACE SVR   \n",
       "912  Jaguar Land Rover                             Jaguar XE S   \n",
       "913  Jaguar Land Rover                     Jaguar XF R-Dynamic   \n",
       "914  Jaguar Land Rover          Jaguar XJ LWB (Long Wheelbase)   \n",
       "915  Jaguar Land Rover          Jaguar F-Type Heritage Edition   \n",
       "916  Jaguar Land Rover                         Jaguar E-PACE S   \n",
       "917  Jaguar Land Rover                       Jaguar I-PACE HSE   \n",
       "918  Jaguar Land Rover                      Jaguar F-Type V8 R   \n",
       "919  Jaguar Land Rover                 Jaguar F-Type R-Dynamic   \n",
       "920  Jaguar Land Rover                Jaguar XE P300 R-Dynamic   \n",
       "921  Jaguar Land Rover                    Jaguar XF Sportbrake   \n",
       "922  Jaguar Land Rover                 Jaguar I-PACE EV400 HSE   \n",
       "923  Jaguar Land Rover                 Jaguar F-PACE S 30t AWD   \n",
       "924  Jaguar Land Rover                 Jaguar E-PACE R-Dynamic   \n",
       "925  Jaguar Land Rover                             Jaguar XJ50   \n",
       "926  Jaguar Land Rover  Jaguar F-Type 75th Anniversary Edition   \n",
       "927  Jaguar Land Rover                     Jaguar F-PACE S AWD   \n",
       "928  Jaguar Land Rover                            Jaguar XE SE   \n",
       "929  Jaguar Land Rover          Jaguar F-Type V6 S Convertible   \n",
       "930  Jaguar Land Rover                   Jaguar XE R-Sport AWD   \n",
       "931  Jaguar Land Rover                 Jaguar XF Portfolio AWD   \n",
       "932  Jaguar Land Rover                   Jaguar F-Type Coupe R   \n",
       "933  Jaguar Land Rover             Jaguar I-PACE First Edition   \n",
       "934  Jaguar Land Rover              Jaguar F-PACE Prestige AWD   \n",
       "935  Jaguar Land Rover                  Jaguar XJ Supercharged   \n",
       "936  Jaguar Land Rover                  Jaguar F-Type P450 AWD   \n",
       "937  Jaguar Land Rover      Jaguar F-PACE P400e Plug-in Hybrid   \n",
       "938  Jaguar Land Rover                Jaguar F-Type P300 Coupe   \n",
       "\n",
       "                        Engines          CC/Battery Capacity       HorsePower  \\\n",
       "899              V6 / V8 Petrol                 2995 cc (V6)           335 hp   \n",
       "900                   I4 Petrol                 1999 cc (I4)           250 hp   \n",
       "901                   I4 Petrol                 1999 cc (I4)           250 hp   \n",
       "902                   V6 Petrol                 2995 cc (V6)           300 hp   \n",
       "903                   I4 Petrol                 1999 cc (I4)           200 hp   \n",
       "904       Electric (Dual Motor)             90 kWh (Battery)           400 hp   \n",
       "905       I4 Petrol / V6 Petrol  1999 cc (I4) / 2995 cc (V6)  250 hp / 340 hp   \n",
       "906                   I4 Petrol                 1998 cc (I4)           160 hp   \n",
       "907       I4 Petrol / V6 Petrol  1999 cc (I4) / 2995 cc (V6)           340 hp   \n",
       "908                   I4 Petrol                 1999 cc (I4)           340 hp   \n",
       "909                   V8 Petrol                 5000 cc (V8)           575 hp   \n",
       "910       Electric (Dual Motor)             90 kWh (Battery)           400 hp   \n",
       "911                   V8 Petrol                 5000 cc (V8)           550 hp   \n",
       "912                   I4 Petrol                 1999 cc (I4)           340 hp   \n",
       "913       I4 Petrol / V6 Petrol  1999 cc (I4) / 2995 cc (V6)           340 hp   \n",
       "914                   V6 Petrol                 2995 cc (V6)           300 hp   \n",
       "915                   V8 Petrol                 5000 cc (V8)           550 hp   \n",
       "916                   I4 Petrol                 1999 cc (I4)           200 hp   \n",
       "917       Electric (Dual Motor)             90 kWh (Battery)           400 hp   \n",
       "918                   V8 Petrol                 5000 cc (V8)           550 hp   \n",
       "919       I4 Petrol / V6 Petrol  1999 cc (I4) / 2995 cc (V6)           300 hp   \n",
       "920                   I4 Petrol                 1999 cc (I4)           300 hp   \n",
       "921       I4 Petrol / V6 Petrol  1999 cc (I4) / 2995 cc (V6)           250 hp   \n",
       "922       Electric (Dual Motor)             90 kWh (Battery)           400 hp   \n",
       "923                   I4 Petrol                 1999 cc (I4)           247 hp   \n",
       "924                   I4 Petrol                 1999 cc (I4)           246 hp   \n",
       "925                   V6 Petrol                 2995 cc (V6)           300 hp   \n",
       "926                   V8 Petrol                 5000 cc (V8)           550 hp   \n",
       "927       I4 Petrol / V6 Petrol  1999 cc (I4) / 2995 cc (V6)           340 hp   \n",
       "928                   I4 Petrol                 1999 cc (I4)           250 hp   \n",
       "929                   V6 Petrol                 2995 cc (V6)           380 hp   \n",
       "930       I4 Petrol / V6 Petrol  1999 cc (I4) / 2995 cc (V6)           300 hp   \n",
       "931       I4 Petrol / V6 Petrol  1999 cc (I4) / 2995 cc (V6)           340 hp   \n",
       "932                   V8 Petrol                 5000 cc (V8)           550 hp   \n",
       "933       Electric (Dual Motor)             90 kWh (Battery)           400 hp   \n",
       "934       I4 Petrol / V6 Petrol  1999 cc (I4) / 2995 cc (V6)           340 hp   \n",
       "935                   V8 Petrol                 5000 cc (V8)           510 hp   \n",
       "936                   V8 Petrol                 5000 cc (V8)           450 hp   \n",
       "937  I4 Petrol + Electric Motor      1999 cc (I4) + Electric           398 hp   \n",
       "938                   I4 Petrol                 1999 cc (I4)           300 hp   \n",
       "\n",
       "    Total Speed Performance(0 - 100 )KM/H        Cars Prices      Fuel Types  \\\n",
       "899    260 km/h                   5.1 sec           $70,000           Petrol   \n",
       "900    250 km/h                   6.5 sec           $45,000           Petrol   \n",
       "901    250 km/h                   6.5 sec           $50,000           Petrol   \n",
       "902    250 km/h                   6.0 sec           $85,000           Petrol   \n",
       "903    230 km/h                   7.0 sec           $50,000           Petrol   \n",
       "904    200 km/h                   4.8 sec           $70,000         Electric   \n",
       "905    230 km/h         7.2 sec / 5.4 sec  $55,000 / $65,000          Petrol   \n",
       "906    215 km/h                   9.0 sec           $40,000           Petrol   \n",
       "907    250 km/h                   5.4 sec           $65,000           Petrol   \n",
       "908    250 km/h                   5.4 sec           $60,000           Petrol   \n",
       "909    320 km/h                   3.7 sec          $120,000           Petrol   \n",
       "910    200 km/h                   4.5 sec           $85,000         Electric   \n",
       "911    283 km/h                   4.0 sec           $85,000           Petrol   \n",
       "912    250 km/h                   5.3 sec           $55,000           Petrol   \n",
       "913    250 km/h                   5.4 sec           $65,000           Petrol   \n",
       "914    250 km/h                   6.0 sec           $90,000           Petrol   \n",
       "915    300 km/h                   3.9 sec          $110,000           Petrol   \n",
       "916    230 km/h                   7.0 sec           $50,000           Petrol   \n",
       "917    200 km/h                   4.5 sec           $90,000         Electric   \n",
       "918    300 km/h                   3.9 sec          $100,000           Petrol   \n",
       "919    250 km/h                   5.1 sec           $70,000           Petrol   \n",
       "920    250 km/h                   5.5 sec           $55,000           Petrol   \n",
       "921    250 km/h                   6.5 sec           $60,000           Petrol   \n",
       "922    200 km/h                   4.5 sec           $85,000         Electric   \n",
       "923    225 km/h                   6.4 sec           $60,000           Petrol   \n",
       "924    230 km/h                   6.8 sec           $55,000           Petrol   \n",
       "925    250 km/h                   6.0 sec           $80,000           Petrol   \n",
       "926    300 km/h                   3.9 sec          $100,000           Petrol   \n",
       "927    250 km/h                   5.4 sec           $65,000           Petrol   \n",
       "928    240 km/h                   6.2 sec           $50,000           Petrol   \n",
       "929    280 km/h                   4.8 sec           $80,000           Petrol   \n",
       "930    250 km/h                   5.5 sec           $55,000           Petrol   \n",
       "931    250 km/h                   5.4 sec           $60,000           Petrol   \n",
       "932    300 km/h                   3.9 sec          $100,000           Petrol   \n",
       "933    200 km/h                   4.5 sec           $85,000         Electric   \n",
       "934    250 km/h                   5.4 sec           $65,000           Petrol   \n",
       "935    280 km/h                   4.2 sec           $90,000           Petrol   \n",
       "936    290 km/h                   4.0 sec           $90,000           Petrol   \n",
       "937    220 km/h                   5.1 sec           $75,000   Plug-in Hybrid   \n",
       "938    250 km/h                   5.5 sec           $60,000           Petrol   \n",
       "\n",
       "    Seats           Torque  \n",
       "899     2           450 Nm  \n",
       "900     5           365 Nm  \n",
       "901     5           365 Nm  \n",
       "902     5           400 Nm  \n",
       "903     5           430 Nm  \n",
       "904     5           696 Nm  \n",
       "905     5  365 Nm / 480 Nm  \n",
       "906     5           215 Nm  \n",
       "907     5           480 Nm  \n",
       "908     5           450 Nm  \n",
       "909     2           700 Nm  \n",
       "910     5           696 Nm  \n",
       "911     5           700 Nm  \n",
       "912     5           450 Nm  \n",
       "913     5           480 Nm  \n",
       "914     5           400 Nm  \n",
       "915     2           680 Nm  \n",
       "916     5           430 Nm  \n",
       "917     5           696 Nm  \n",
       "918     2           680 Nm  \n",
       "919     2           400 Nm  \n",
       "920     5           400 Nm  \n",
       "921     5           400 Nm  \n",
       "922     5           696 Nm  \n",
       "923     5           365 Nm  \n",
       "924     5           430 Nm  \n",
       "925     5           400 Nm  \n",
       "926     2           680 Nm  \n",
       "927     5           480 Nm  \n",
       "928     5           365 Nm  \n",
       "929     2           460 Nm  \n",
       "930     5           400 Nm  \n",
       "931     5           450 Nm  \n",
       "932     2           680 Nm  \n",
       "933     5           696 Nm  \n",
       "934     5           480 Nm  \n",
       "935     5           625 Nm  \n",
       "936     2           600 Nm  \n",
       "937     5           640 Nm  \n",
       "938     2           400 Nm  "
      ]
     },
     "execution_count": 570,
     "metadata": {},
     "output_type": "execute_result"
    }
   ],
   "source": [
    "df[df['Company Names'] == 'Jaguar Land Rover']"
   ]
  },
  {
   "cell_type": "code",
   "execution_count": 571,
   "metadata": {
    "execution": {
     "iopub.execute_input": "2025-08-09T17:22:55.007431Z",
     "iopub.status.busy": "2025-08-09T17:22:55.007119Z",
     "iopub.status.idle": "2025-08-09T17:22:55.013431Z",
     "shell.execute_reply": "2025-08-09T17:22:55.012582Z",
     "shell.execute_reply.started": "2025-08-09T17:22:55.007409Z"
    },
    "trusted": true
   },
   "outputs": [
    {
     "data": {
      "text/plain": [
       "(1218, 11)"
      ]
     },
     "execution_count": 571,
     "metadata": {},
     "output_type": "execute_result"
    }
   ],
   "source": [
    "df.shape"
   ]
  },
  {
   "cell_type": "code",
   "execution_count": 572,
   "metadata": {
    "execution": {
     "iopub.execute_input": "2025-08-09T17:22:13.020240Z",
     "iopub.status.busy": "2025-08-09T17:22:13.019877Z",
     "iopub.status.idle": "2025-08-09T17:22:13.047170Z",
     "shell.execute_reply": "2025-08-09T17:22:13.046106Z",
     "shell.execute_reply.started": "2025-08-09T17:22:13.020214Z"
    },
    "trusted": true
   },
   "outputs": [
    {
     "name": "stdout",
     "output_type": "stream",
     "text": [
      "<class 'pandas.core.frame.DataFrame'>\n",
      "RangeIndex: 1218 entries, 0 to 1217\n",
      "Data columns (total 11 columns):\n",
      " #   Column                     Non-Null Count  Dtype \n",
      "---  ------                     --------------  ----- \n",
      " 0   Company Names              1218 non-null   object\n",
      " 1   Cars Names                 1218 non-null   object\n",
      " 2   Engines                    1218 non-null   object\n",
      " 3   CC/Battery Capacity        1215 non-null   object\n",
      " 4   HorsePower                 1218 non-null   object\n",
      " 5   Total Speed                1218 non-null   object\n",
      " 6   Performance(0 - 100 )KM/H  1212 non-null   object\n",
      " 7   Cars Prices                1218 non-null   object\n",
      " 8   Fuel Types                 1218 non-null   object\n",
      " 9   Seats                      1218 non-null   object\n",
      " 10  Torque                     1217 non-null   object\n",
      "dtypes: object(11)\n",
      "memory usage: 104.8+ KB\n"
     ]
    }
   ],
   "source": [
    "df.info()"
   ]
  },
  {
   "cell_type": "code",
   "execution_count": 573,
   "metadata": {
    "execution": {
     "iopub.execute_input": "2025-08-09T17:24:04.397254Z",
     "iopub.status.busy": "2025-08-09T17:24:04.396473Z",
     "iopub.status.idle": "2025-08-09T17:24:04.427748Z",
     "shell.execute_reply": "2025-08-09T17:24:04.426740Z",
     "shell.execute_reply.started": "2025-08-09T17:24:04.397223Z"
    },
    "trusted": true
   },
   "outputs": [
    {
     "data": {
      "text/html": [
       "<div>\n",
       "<style scoped>\n",
       "    .dataframe tbody tr th:only-of-type {\n",
       "        vertical-align: middle;\n",
       "    }\n",
       "\n",
       "    .dataframe tbody tr th {\n",
       "        vertical-align: top;\n",
       "    }\n",
       "\n",
       "    .dataframe thead th {\n",
       "        text-align: right;\n",
       "    }\n",
       "</style>\n",
       "<table border=\"1\" class=\"dataframe\">\n",
       "  <thead>\n",
       "    <tr style=\"text-align: right;\">\n",
       "      <th></th>\n",
       "      <th>Company Names</th>\n",
       "      <th>Cars Names</th>\n",
       "      <th>Engines</th>\n",
       "      <th>CC/Battery Capacity</th>\n",
       "      <th>HorsePower</th>\n",
       "      <th>Total Speed</th>\n",
       "      <th>Performance(0 - 100 )KM/H</th>\n",
       "      <th>Cars Prices</th>\n",
       "      <th>Fuel Types</th>\n",
       "      <th>Seats</th>\n",
       "      <th>Torque</th>\n",
       "    </tr>\n",
       "  </thead>\n",
       "  <tbody>\n",
       "    <tr>\n",
       "      <th>count</th>\n",
       "      <td>1218</td>\n",
       "      <td>1218</td>\n",
       "      <td>1218</td>\n",
       "      <td>1215</td>\n",
       "      <td>1218</td>\n",
       "      <td>1218</td>\n",
       "      <td>1212</td>\n",
       "      <td>1218</td>\n",
       "      <td>1218</td>\n",
       "      <td>1218</td>\n",
       "      <td>1217</td>\n",
       "    </tr>\n",
       "    <tr>\n",
       "      <th>unique</th>\n",
       "      <td>37</td>\n",
       "      <td>1201</td>\n",
       "      <td>356</td>\n",
       "      <td>311</td>\n",
       "      <td>456</td>\n",
       "      <td>114</td>\n",
       "      <td>180</td>\n",
       "      <td>535</td>\n",
       "      <td>23</td>\n",
       "      <td>19</td>\n",
       "      <td>263</td>\n",
       "    </tr>\n",
       "    <tr>\n",
       "      <th>top</th>\n",
       "      <td>Nissan</td>\n",
       "      <td>Macan T</td>\n",
       "      <td>I4</td>\n",
       "      <td>2,000 cc</td>\n",
       "      <td>355 hp</td>\n",
       "      <td>250 km/h</td>\n",
       "      <td>6.5 sec</td>\n",
       "      <td>$35,000</td>\n",
       "      <td>Petrol</td>\n",
       "      <td>5</td>\n",
       "      <td>400 Nm</td>\n",
       "    </tr>\n",
       "    <tr>\n",
       "      <th>freq</th>\n",
       "      <td>149</td>\n",
       "      <td>2</td>\n",
       "      <td>64</td>\n",
       "      <td>31</td>\n",
       "      <td>23</td>\n",
       "      <td>145</td>\n",
       "      <td>45</td>\n",
       "      <td>36</td>\n",
       "      <td>871</td>\n",
       "      <td>692</td>\n",
       "      <td>72</td>\n",
       "    </tr>\n",
       "  </tbody>\n",
       "</table>\n",
       "</div>"
      ],
      "text/plain": [
       "       Company Names Cars Names Engines CC/Battery Capacity HorsePower  \\\n",
       "count           1218       1218    1218                1215       1218   \n",
       "unique            37       1201     356                 311        456   \n",
       "top           Nissan    Macan T      I4            2,000 cc     355 hp   \n",
       "freq             149          2      64                  31         23   \n",
       "\n",
       "       Total Speed Performance(0 - 100 )KM/H Cars Prices Fuel Types Seats  \\\n",
       "count         1218                      1212        1218       1218  1218   \n",
       "unique         114                       180         535         23    19   \n",
       "top       250 km/h                   6.5 sec    $35,000      Petrol     5   \n",
       "freq           145                        45          36        871   692   \n",
       "\n",
       "        Torque  \n",
       "count     1217  \n",
       "unique     263  \n",
       "top     400 Nm  \n",
       "freq        72  "
      ]
     },
     "execution_count": 573,
     "metadata": {},
     "output_type": "execute_result"
    }
   ],
   "source": [
    "df.describe()"
   ]
  },
  {
   "cell_type": "code",
   "execution_count": 574,
   "metadata": {
    "execution": {
     "iopub.execute_input": "2025-08-09T17:23:54.738554Z",
     "iopub.status.busy": "2025-08-09T17:23:54.738217Z",
     "iopub.status.idle": "2025-08-09T17:23:54.747265Z",
     "shell.execute_reply": "2025-08-09T17:23:54.746372Z",
     "shell.execute_reply.started": "2025-08-09T17:23:54.738528Z"
    },
    "trusted": true
   },
   "outputs": [
    {
     "data": {
      "text/plain": [
       "Company Names                0\n",
       "Cars Names                   0\n",
       "Engines                      0\n",
       "CC/Battery Capacity          3\n",
       "HorsePower                   0\n",
       "Total Speed                  0\n",
       "Performance(0 - 100 )KM/H    6\n",
       "Cars Prices                  0\n",
       "Fuel Types                   0\n",
       "Seats                        0\n",
       "Torque                       1\n",
       "dtype: int64"
      ]
     },
     "execution_count": 574,
     "metadata": {},
     "output_type": "execute_result"
    }
   ],
   "source": [
    "df.isnull().sum()"
   ]
  },
  {
   "cell_type": "code",
   "execution_count": 575,
   "metadata": {},
   "outputs": [
    {
     "data": {
      "text/plain": [
       "Company Names                object\n",
       "Cars Names                   object\n",
       "Engines                      object\n",
       "CC/Battery Capacity          object\n",
       "HorsePower                   object\n",
       "Total Speed                  object\n",
       "Performance(0 - 100 )KM/H    object\n",
       "Cars Prices                  object\n",
       "Fuel Types                   object\n",
       "Seats                        object\n",
       "Torque                       object\n",
       "dtype: object"
      ]
     },
     "execution_count": 575,
     "metadata": {},
     "output_type": "execute_result"
    }
   ],
   "source": [
    "df.dtypes"
   ]
  },
  {
   "cell_type": "code",
   "execution_count": 576,
   "metadata": {
    "execution": {
     "iopub.execute_input": "2025-08-09T17:26:50.564416Z",
     "iopub.status.busy": "2025-08-09T17:26:50.564135Z",
     "iopub.status.idle": "2025-08-09T17:26:50.570350Z",
     "shell.execute_reply": "2025-08-09T17:26:50.569188Z",
     "shell.execute_reply.started": "2025-08-09T17:26:50.564395Z"
    },
    "trusted": true
   },
   "outputs": [],
   "source": [
    "df.fillna(0, inplace=True)"
   ]
  },
  {
   "cell_type": "code",
   "execution_count": 577,
   "metadata": {
    "execution": {
     "iopub.execute_input": "2025-08-09T17:26:55.808306Z",
     "iopub.status.busy": "2025-08-09T17:26:55.807956Z",
     "iopub.status.idle": "2025-08-09T17:26:55.818785Z",
     "shell.execute_reply": "2025-08-09T17:26:55.817911Z",
     "shell.execute_reply.started": "2025-08-09T17:26:55.808281Z"
    },
    "trusted": true
   },
   "outputs": [
    {
     "data": {
      "text/plain": [
       "4"
      ]
     },
     "execution_count": 577,
     "metadata": {},
     "output_type": "execute_result"
    }
   ],
   "source": [
    "df.duplicated().sum()"
   ]
  },
  {
   "cell_type": "code",
   "execution_count": 578,
   "metadata": {
    "execution": {
     "iopub.execute_input": "2025-08-09T17:27:43.786134Z",
     "iopub.status.busy": "2025-08-09T17:27:43.785685Z",
     "iopub.status.idle": "2025-08-09T17:27:43.802984Z",
     "shell.execute_reply": "2025-08-09T17:27:43.802060Z",
     "shell.execute_reply.started": "2025-08-09T17:27:43.786101Z"
    },
    "trusted": true
   },
   "outputs": [
    {
     "data": {
      "text/html": [
       "<div>\n",
       "<style scoped>\n",
       "    .dataframe tbody tr th:only-of-type {\n",
       "        vertical-align: middle;\n",
       "    }\n",
       "\n",
       "    .dataframe tbody tr th {\n",
       "        vertical-align: top;\n",
       "    }\n",
       "\n",
       "    .dataframe thead th {\n",
       "        text-align: right;\n",
       "    }\n",
       "</style>\n",
       "<table border=\"1\" class=\"dataframe\">\n",
       "  <thead>\n",
       "    <tr style=\"text-align: right;\">\n",
       "      <th></th>\n",
       "      <th>Company Names</th>\n",
       "      <th>Cars Names</th>\n",
       "      <th>Engines</th>\n",
       "      <th>CC/Battery Capacity</th>\n",
       "      <th>HorsePower</th>\n",
       "      <th>Total Speed</th>\n",
       "      <th>Performance(0 - 100 )KM/H</th>\n",
       "      <th>Cars Prices</th>\n",
       "      <th>Fuel Types</th>\n",
       "      <th>Seats</th>\n",
       "      <th>Torque</th>\n",
       "    </tr>\n",
       "  </thead>\n",
       "  <tbody>\n",
       "    <tr>\n",
       "      <th>336</th>\n",
       "      <td>Volkswagen</td>\n",
       "      <td>Golf Cabriolet</td>\n",
       "      <td>1.2L I4 Turbo / 2.0L I4 Turbo</td>\n",
       "      <td>1197 cc / 1984 cc</td>\n",
       "      <td>105 - 210 hp</td>\n",
       "      <td>217 km/h</td>\n",
       "      <td>8.4 sec</td>\n",
       "      <td>$30,000</td>\n",
       "      <td>Petrol</td>\n",
       "      <td>4</td>\n",
       "      <td>200 Nm</td>\n",
       "    </tr>\n",
       "    <tr>\n",
       "      <th>354</th>\n",
       "      <td>Volkswagen</td>\n",
       "      <td>Jetta Hybrid</td>\n",
       "      <td>1.4L I4 Turbo + Electric Motor</td>\n",
       "      <td>1395 cc</td>\n",
       "      <td>170 hp</td>\n",
       "      <td>210 km/h</td>\n",
       "      <td>8.6 sec</td>\n",
       "      <td>$28,000</td>\n",
       "      <td>Hybrid</td>\n",
       "      <td>5</td>\n",
       "      <td>250 Nm</td>\n",
       "    </tr>\n",
       "    <tr>\n",
       "      <th>658</th>\n",
       "      <td>Tata Motors</td>\n",
       "      <td>Tiago EV</td>\n",
       "      <td>Permanent Magnet Synchronous</td>\n",
       "      <td>24 kWh</td>\n",
       "      <td>74 hp</td>\n",
       "      <td>120 km/h</td>\n",
       "      <td>5.7 sec</td>\n",
       "      <td>$11,000</td>\n",
       "      <td>Electric</td>\n",
       "      <td>5</td>\n",
       "      <td>114 Nm</td>\n",
       "    </tr>\n",
       "    <tr>\n",
       "      <th>755</th>\n",
       "      <td>Chevrolet</td>\n",
       "      <td>Tahoe RST</td>\n",
       "      <td>5.3L V8 Gasoline</td>\n",
       "      <td>5300 cc</td>\n",
       "      <td>355 hp</td>\n",
       "      <td>180 km/h</td>\n",
       "      <td>7.4 sec</td>\n",
       "      <td>$64,100</td>\n",
       "      <td>Petrol</td>\n",
       "      <td>7</td>\n",
       "      <td>519 Nm</td>\n",
       "    </tr>\n",
       "  </tbody>\n",
       "</table>\n",
       "</div>"
      ],
      "text/plain": [
       "    Company Names      Cars Names                         Engines  \\\n",
       "336    Volkswagen  Golf Cabriolet   1.2L I4 Turbo / 2.0L I4 Turbo   \n",
       "354    Volkswagen    Jetta Hybrid  1.4L I4 Turbo + Electric Motor   \n",
       "658   Tata Motors        Tiago EV    Permanent Magnet Synchronous   \n",
       "755     Chevrolet       Tahoe RST                5.3L V8 Gasoline   \n",
       "\n",
       "    CC/Battery Capacity    HorsePower Total Speed Performance(0 - 100 )KM/H  \\\n",
       "336   1197 cc / 1984 cc  105 - 210 hp    217 km/h                   8.4 sec   \n",
       "354             1395 cc        170 hp    210 km/h                   8.6 sec   \n",
       "658              24 kWh         74 hp    120 km/h                   5.7 sec   \n",
       "755             5300 cc        355 hp    180 km/h                   7.4 sec   \n",
       "\n",
       "    Cars Prices Fuel Types Seats  Torque  \n",
       "336    $30,000      Petrol     4  200 Nm  \n",
       "354    $28,000      Hybrid     5  250 Nm  \n",
       "658    $11,000    Electric     5  114 Nm  \n",
       "755    $64,100      Petrol     7  519 Nm  "
      ]
     },
     "execution_count": 578,
     "metadata": {},
     "output_type": "execute_result"
    }
   ],
   "source": [
    "df[df.duplicated()]"
   ]
  },
  {
   "cell_type": "markdown",
   "metadata": {},
   "source": [
    "# 🧹 | **Preprocessing**"
   ]
  },
  {
   "cell_type": "code",
   "execution_count": 579,
   "metadata": {},
   "outputs": [
    {
     "data": {
      "text/html": [
       "<div>\n",
       "<style scoped>\n",
       "    .dataframe tbody tr th:only-of-type {\n",
       "        vertical-align: middle;\n",
       "    }\n",
       "\n",
       "    .dataframe tbody tr th {\n",
       "        vertical-align: top;\n",
       "    }\n",
       "\n",
       "    .dataframe thead th {\n",
       "        text-align: right;\n",
       "    }\n",
       "</style>\n",
       "<table border=\"1\" class=\"dataframe\">\n",
       "  <thead>\n",
       "    <tr style=\"text-align: right;\">\n",
       "      <th></th>\n",
       "      <th>Company Names</th>\n",
       "      <th>Cars Names</th>\n",
       "      <th>Engines</th>\n",
       "      <th>CC/Battery Capacity</th>\n",
       "      <th>HorsePower</th>\n",
       "      <th>Total Speed</th>\n",
       "      <th>Performance(0 - 100 )KM/H</th>\n",
       "      <th>Cars Prices</th>\n",
       "      <th>Fuel Types</th>\n",
       "      <th>Seats</th>\n",
       "      <th>Torque</th>\n",
       "    </tr>\n",
       "  </thead>\n",
       "  <tbody>\n",
       "    <tr>\n",
       "      <th>0</th>\n",
       "      <td>ferrari</td>\n",
       "      <td>sf90 stradale</td>\n",
       "      <td>V8</td>\n",
       "      <td>3990 cc</td>\n",
       "      <td>963</td>\n",
       "      <td>340</td>\n",
       "      <td>2.5</td>\n",
       "      <td>1100000</td>\n",
       "      <td>plug in hyrbrid</td>\n",
       "      <td>2</td>\n",
       "      <td>800</td>\n",
       "    </tr>\n",
       "    <tr>\n",
       "      <th>1</th>\n",
       "      <td>rolls royce</td>\n",
       "      <td>phantom</td>\n",
       "      <td>V12</td>\n",
       "      <td>6749 cc</td>\n",
       "      <td>563</td>\n",
       "      <td>250</td>\n",
       "      <td>5.3</td>\n",
       "      <td>460000</td>\n",
       "      <td>Petrol</td>\n",
       "      <td>5</td>\n",
       "      <td>900</td>\n",
       "    </tr>\n",
       "    <tr>\n",
       "      <th>2</th>\n",
       "      <td>ford</td>\n",
       "      <td>ka+</td>\n",
       "      <td>1.2L Petrol</td>\n",
       "      <td>1,200 cc</td>\n",
       "      <td>70-85</td>\n",
       "      <td>165</td>\n",
       "      <td>10.5</td>\n",
       "      <td>12000-15000</td>\n",
       "      <td>Petrol</td>\n",
       "      <td>5</td>\n",
       "      <td>100 - 140</td>\n",
       "    </tr>\n",
       "    <tr>\n",
       "      <th>3</th>\n",
       "      <td>mercedes</td>\n",
       "      <td>gt 63 s</td>\n",
       "      <td>V8</td>\n",
       "      <td>3,982 cc</td>\n",
       "      <td>630</td>\n",
       "      <td>250</td>\n",
       "      <td>3.2</td>\n",
       "      <td>161000</td>\n",
       "      <td>Petrol</td>\n",
       "      <td>4</td>\n",
       "      <td>900</td>\n",
       "    </tr>\n",
       "    <tr>\n",
       "      <th>4</th>\n",
       "      <td>audi</td>\n",
       "      <td>audi r8 gt</td>\n",
       "      <td>V10</td>\n",
       "      <td>5,204 cc</td>\n",
       "      <td>602</td>\n",
       "      <td>320</td>\n",
       "      <td>3.6</td>\n",
       "      <td>253290</td>\n",
       "      <td>Petrol</td>\n",
       "      <td>2</td>\n",
       "      <td>560</td>\n",
       "    </tr>\n",
       "    <tr>\n",
       "      <th>...</th>\n",
       "      <td>...</td>\n",
       "      <td>...</td>\n",
       "      <td>...</td>\n",
       "      <td>...</td>\n",
       "      <td>...</td>\n",
       "      <td>...</td>\n",
       "      <td>...</td>\n",
       "      <td>...</td>\n",
       "      <td>...</td>\n",
       "      <td>...</td>\n",
       "      <td>...</td>\n",
       "    </tr>\n",
       "    <tr>\n",
       "      <th>1213</th>\n",
       "      <td>toyota</td>\n",
       "      <td>crown signia</td>\n",
       "      <td>2.5L Hybrid I4</td>\n",
       "      <td>2487 cc</td>\n",
       "      <td>240</td>\n",
       "      <td>180</td>\n",
       "      <td>7.6</td>\n",
       "      <td>43590  48000</td>\n",
       "      <td>Hybrid (Gas + Electric)</td>\n",
       "      <td>5</td>\n",
       "      <td>239</td>\n",
       "    </tr>\n",
       "    <tr>\n",
       "      <th>1214</th>\n",
       "      <td>toyota</td>\n",
       "      <td>4runner (6th gen)</td>\n",
       "      <td>2.4L Turbo I4 (i-FORCE MAX Hybrid)</td>\n",
       "      <td>2393 cc + Battery</td>\n",
       "      <td>326</td>\n",
       "      <td>180</td>\n",
       "      <td>6.8</td>\n",
       "      <td>50000</td>\n",
       "      <td>Hybrid</td>\n",
       "      <td>7</td>\n",
       "      <td>630</td>\n",
       "    </tr>\n",
       "    <tr>\n",
       "      <th>1215</th>\n",
       "      <td>toyota</td>\n",
       "      <td>corolla cross</td>\n",
       "      <td>2.0L Gas / 2.0L Hybrid</td>\n",
       "      <td>1987 cc / Hybrid batt</td>\n",
       "      <td>169  196</td>\n",
       "      <td>190</td>\n",
       "      <td>8.0  9.2</td>\n",
       "      <td>25210  29135</td>\n",
       "      <td>Gas / Hybrid</td>\n",
       "      <td>5</td>\n",
       "      <td>190  210</td>\n",
       "    </tr>\n",
       "    <tr>\n",
       "      <th>1216</th>\n",
       "      <td>toyota</td>\n",
       "      <td>c-hr+</td>\n",
       "      <td>1.8L / 2.0L Hybrid</td>\n",
       "      <td>1798 / 1987 cc + batt</td>\n",
       "      <td>140  198</td>\n",
       "      <td>180</td>\n",
       "      <td>7.9  10.5</td>\n",
       "      <td> 33000</td>\n",
       "      <td>Hybrid</td>\n",
       "      <td>5</td>\n",
       "      <td>190  205</td>\n",
       "    </tr>\n",
       "    <tr>\n",
       "      <th>1217</th>\n",
       "      <td>toyota</td>\n",
       "      <td>rav4 (6th gen)</td>\n",
       "      <td>2.5L Hybrid / Plug-in Hybrid</td>\n",
       "      <td>2487 cc + batt</td>\n",
       "      <td>219  302</td>\n",
       "      <td>200</td>\n",
       "      <td>6.0  8.1</td>\n",
       "      <td>29000  43000</td>\n",
       "      <td>Hybrid / Plug-in</td>\n",
       "      <td>5</td>\n",
       "      <td>221  400</td>\n",
       "    </tr>\n",
       "  </tbody>\n",
       "</table>\n",
       "<p>1218 rows × 11 columns</p>\n",
       "</div>"
      ],
      "text/plain": [
       "     Company Names         Cars Names                             Engines  \\\n",
       "0          ferrari      sf90 stradale                                  V8   \n",
       "1      rolls royce            phantom                                 V12   \n",
       "2             ford                ka+                         1.2L Petrol   \n",
       "3         mercedes            gt 63 s                                  V8   \n",
       "4             audi         audi r8 gt                                 V10   \n",
       "...            ...                ...                                 ...   \n",
       "1213        toyota       crown signia                      2.5L Hybrid I4   \n",
       "1214        toyota  4runner (6th gen)  2.4L Turbo I4 (i-FORCE MAX Hybrid)   \n",
       "1215        toyota      corolla cross              2.0L Gas / 2.0L Hybrid   \n",
       "1216        toyota             c-hr+                   1.8L / 2.0L Hybrid   \n",
       "1217        toyota     rav4 (6th gen)        2.5L Hybrid / Plug-in Hybrid   \n",
       "\n",
       "        CC/Battery Capacity HorsePower Total Speed Performance(0 - 100 )KM/H  \\\n",
       "0                   3990 cc        963         340                       2.5   \n",
       "1                   6749 cc        563         250                       5.3   \n",
       "2                  1,200 cc      70-85         165                      10.5   \n",
       "3                  3,982 cc        630         250                       3.2   \n",
       "4                  5,204 cc        602         320                       3.6   \n",
       "...                     ...        ...         ...                       ...   \n",
       "1213                2487 cc        240         180                       7.6   \n",
       "1214      2393 cc + Battery        326         180                       6.8   \n",
       "1215  1987 cc / Hybrid batt  169  196         190                 8.0  9.2   \n",
       "1216  1798 / 1987 cc + batt  140  198         180                7.9  10.5   \n",
       "1217         2487 cc + batt  219  302         200                 6.0  8.1   \n",
       "\n",
       "        Cars Prices               Fuel Types Seats     Torque  \n",
       "0          1100000           plug in hyrbrid     2        800  \n",
       "1           460000                    Petrol     5        900  \n",
       "2       12000-15000                   Petrol     5  100 - 140  \n",
       "3           161000                    Petrol     4        900  \n",
       "4           253290                    Petrol     2        560  \n",
       "...             ...                      ...   ...        ...  \n",
       "1213  43590  48000  Hybrid (Gas + Electric)     5        239  \n",
       "1214         50000                    Hybrid     7        630  \n",
       "1215  25210  29135             Gas / Hybrid     5  190  210  \n",
       "1216         33000                   Hybrid     5  190  205  \n",
       "1217  29000  43000         Hybrid / Plug-in     5  221  400  \n",
       "\n",
       "[1218 rows x 11 columns]"
      ]
     },
     "execution_count": 579,
     "metadata": {},
     "output_type": "execute_result"
    }
   ],
   "source": [
    "df['Company Names'] = df['Company Names'].str.lower()\n",
    "df['Cars Names'] = df['Cars Names'].str.lower()\n",
    "df['Performance(0 - 100 )KM/H'] = df['Performance(0 - 100 )KM/H'].str.replace(' sec', '')\n",
    "df['HorsePower'] = df['HorsePower'].str.replace(' hp', '')\n",
    "df['Total Speed'] = df['Total Speed'].str.replace(' km/h', '')\n",
    "df['Torque'] = df['Torque'].str.replace(' Nm', '')\n",
    "df['Cars Prices'] = df['Cars Prices'].str.replace('$', '').str.replace(',', '')\n",
    "df"
   ]
  },
  {
   "cell_type": "code",
   "execution_count": 580,
   "metadata": {},
   "outputs": [],
   "source": [
    "def clean_numeric_cell(cell):\n",
    "    if pd.isnull(cell):\n",
    "        return np.nan\n",
    "    cell = str(cell).replace(\",\", \"\")\n",
    "    numbers = re.findall(r'\\d+(?:\\.\\d+)?', cell)\n",
    "    numbers = [float(num) for num in numbers]\n",
    "    return sum(numbers) / len(numbers) if numbers else np.nan\n",
    "\n",
    "# List of columns to clean\n",
    "columns_to_clean = [\n",
    "    'Cars Prices'\n",
    "]\n",
    "\n",
    "# Apply the function to each column\n",
    "for col in columns_to_clean:\n",
    "    df[col] = df[col].apply(clean_numeric_cell)\n"
   ]
  },
  {
   "cell_type": "code",
   "execution_count": 581,
   "metadata": {},
   "outputs": [
    {
     "data": {
      "text/html": [
       "<div>\n",
       "<style scoped>\n",
       "    .dataframe tbody tr th:only-of-type {\n",
       "        vertical-align: middle;\n",
       "    }\n",
       "\n",
       "    .dataframe tbody tr th {\n",
       "        vertical-align: top;\n",
       "    }\n",
       "\n",
       "    .dataframe thead th {\n",
       "        text-align: right;\n",
       "    }\n",
       "</style>\n",
       "<table border=\"1\" class=\"dataframe\">\n",
       "  <thead>\n",
       "    <tr style=\"text-align: right;\">\n",
       "      <th></th>\n",
       "      <th>Company Names</th>\n",
       "      <th>Cars Names</th>\n",
       "      <th>Engines</th>\n",
       "      <th>CC/Battery Capacity</th>\n",
       "      <th>HorsePower</th>\n",
       "      <th>Total Speed</th>\n",
       "      <th>Performance(0 - 100 )KM/H</th>\n",
       "      <th>Cars Prices</th>\n",
       "      <th>Fuel Types</th>\n",
       "      <th>Seats</th>\n",
       "      <th>Torque</th>\n",
       "    </tr>\n",
       "  </thead>\n",
       "  <tbody>\n",
       "    <tr>\n",
       "      <th>1208</th>\n",
       "      <td>mazda</td>\n",
       "      <td>bongo truck</td>\n",
       "      <td>2.0L Inline-4</td>\n",
       "      <td>1,998 cc</td>\n",
       "      <td>120.0</td>\n",
       "      <td>130</td>\n",
       "      <td>15.0</td>\n",
       "      <td>16500.0</td>\n",
       "      <td>Petrol</td>\n",
       "      <td>2</td>\n",
       "      <td>150.0</td>\n",
       "    </tr>\n",
       "    <tr>\n",
       "      <th>1209</th>\n",
       "      <td>mazda</td>\n",
       "      <td>rotary pickup</td>\n",
       "      <td>1.3L Wankel Rotary Engine</td>\n",
       "      <td>1,308 cc</td>\n",
       "      <td>130.0</td>\n",
       "      <td>150</td>\n",
       "      <td>14.5</td>\n",
       "      <td>20000.0</td>\n",
       "      <td>Petrol</td>\n",
       "      <td>2</td>\n",
       "      <td>160.0</td>\n",
       "    </tr>\n",
       "    <tr>\n",
       "      <th>1210</th>\n",
       "      <td>mazda</td>\n",
       "      <td>luce rotary coupe</td>\n",
       "      <td>1.3L Wankel Rotary Engine</td>\n",
       "      <td>1,308 cc</td>\n",
       "      <td>135.0</td>\n",
       "      <td>175</td>\n",
       "      <td>12.0</td>\n",
       "      <td>27500.0</td>\n",
       "      <td>Petrol</td>\n",
       "      <td>4</td>\n",
       "      <td>180.0</td>\n",
       "    </tr>\n",
       "    <tr>\n",
       "      <th>1211</th>\n",
       "      <td>mazda</td>\n",
       "      <td>millenia s</td>\n",
       "      <td>2.5L V6</td>\n",
       "      <td>2,500 cc</td>\n",
       "      <td>200.0</td>\n",
       "      <td>220</td>\n",
       "      <td>8.0</td>\n",
       "      <td>32500.0</td>\n",
       "      <td>Petrol</td>\n",
       "      <td>5</td>\n",
       "      <td>250.0</td>\n",
       "    </tr>\n",
       "    <tr>\n",
       "      <th>1212</th>\n",
       "      <td>mazda</td>\n",
       "      <td>787b (race car)</td>\n",
       "      <td>2.6L Wankel Rotary Engine</td>\n",
       "      <td>2,620 cc</td>\n",
       "      <td>700.0</td>\n",
       "      <td>320</td>\n",
       "      <td>3.5</td>\n",
       "      <td>6000000.0</td>\n",
       "      <td>Petrol</td>\n",
       "      <td>1</td>\n",
       "      <td>500.0</td>\n",
       "    </tr>\n",
       "    <tr>\n",
       "      <th>1213</th>\n",
       "      <td>toyota</td>\n",
       "      <td>crown signia</td>\n",
       "      <td>2.5L Hybrid I4</td>\n",
       "      <td>2487 cc</td>\n",
       "      <td>240.0</td>\n",
       "      <td>180</td>\n",
       "      <td>7.6</td>\n",
       "      <td>45795.0</td>\n",
       "      <td>Hybrid (Gas + Electric)</td>\n",
       "      <td>5</td>\n",
       "      <td>239.0</td>\n",
       "    </tr>\n",
       "    <tr>\n",
       "      <th>1214</th>\n",
       "      <td>toyota</td>\n",
       "      <td>4runner (6th gen)</td>\n",
       "      <td>2.4L Turbo I4 (i-FORCE MAX Hybrid)</td>\n",
       "      <td>2393 cc + Battery</td>\n",
       "      <td>326.0</td>\n",
       "      <td>180</td>\n",
       "      <td>6.8</td>\n",
       "      <td>50000.0</td>\n",
       "      <td>Hybrid</td>\n",
       "      <td>7</td>\n",
       "      <td>630.0</td>\n",
       "    </tr>\n",
       "    <tr>\n",
       "      <th>1215</th>\n",
       "      <td>toyota</td>\n",
       "      <td>corolla cross</td>\n",
       "      <td>2.0L Gas / 2.0L Hybrid</td>\n",
       "      <td>1987 cc / Hybrid batt</td>\n",
       "      <td>169196.0</td>\n",
       "      <td>190</td>\n",
       "      <td>nan</td>\n",
       "      <td>27172.5</td>\n",
       "      <td>Gas / Hybrid</td>\n",
       "      <td>5</td>\n",
       "      <td>190210.0</td>\n",
       "    </tr>\n",
       "    <tr>\n",
       "      <th>1216</th>\n",
       "      <td>toyota</td>\n",
       "      <td>c-hr+</td>\n",
       "      <td>1.8L / 2.0L Hybrid</td>\n",
       "      <td>1798 / 1987 cc + batt</td>\n",
       "      <td>140198.0</td>\n",
       "      <td>180</td>\n",
       "      <td>nan</td>\n",
       "      <td>33000.0</td>\n",
       "      <td>Hybrid</td>\n",
       "      <td>5</td>\n",
       "      <td>190205.0</td>\n",
       "    </tr>\n",
       "    <tr>\n",
       "      <th>1217</th>\n",
       "      <td>toyota</td>\n",
       "      <td>rav4 (6th gen)</td>\n",
       "      <td>2.5L Hybrid / Plug-in Hybrid</td>\n",
       "      <td>2487 cc + batt</td>\n",
       "      <td>219302.0</td>\n",
       "      <td>200</td>\n",
       "      <td>nan</td>\n",
       "      <td>36000.0</td>\n",
       "      <td>Hybrid / Plug-in</td>\n",
       "      <td>5</td>\n",
       "      <td>221400.0</td>\n",
       "    </tr>\n",
       "  </tbody>\n",
       "</table>\n",
       "</div>"
      ],
      "text/plain": [
       "     Company Names         Cars Names                             Engines  \\\n",
       "1208         mazda        bongo truck                       2.0L Inline-4   \n",
       "1209         mazda      rotary pickup           1.3L Wankel Rotary Engine   \n",
       "1210         mazda  luce rotary coupe           1.3L Wankel Rotary Engine   \n",
       "1211         mazda         millenia s                             2.5L V6   \n",
       "1212         mazda    787b (race car)           2.6L Wankel Rotary Engine   \n",
       "1213        toyota       crown signia                      2.5L Hybrid I4   \n",
       "1214        toyota  4runner (6th gen)  2.4L Turbo I4 (i-FORCE MAX Hybrid)   \n",
       "1215        toyota      corolla cross              2.0L Gas / 2.0L Hybrid   \n",
       "1216        toyota             c-hr+                   1.8L / 2.0L Hybrid   \n",
       "1217        toyota     rav4 (6th gen)        2.5L Hybrid / Plug-in Hybrid   \n",
       "\n",
       "        CC/Battery Capacity  HorsePower Total Speed Performance(0 - 100 )KM/H  \\\n",
       "1208               1,998 cc       120.0         130                      15.0   \n",
       "1209               1,308 cc       130.0         150                      14.5   \n",
       "1210               1,308 cc       135.0         175                      12.0   \n",
       "1211               2,500 cc       200.0         220                       8.0   \n",
       "1212               2,620 cc       700.0         320                       3.5   \n",
       "1213                2487 cc       240.0         180                       7.6   \n",
       "1214      2393 cc + Battery       326.0         180                       6.8   \n",
       "1215  1987 cc / Hybrid batt    169196.0         190                       nan   \n",
       "1216  1798 / 1987 cc + batt    140198.0         180                       nan   \n",
       "1217         2487 cc + batt    219302.0         200                       nan   \n",
       "\n",
       "      Cars Prices               Fuel Types Seats    Torque  \n",
       "1208      16500.0                   Petrol     2     150.0  \n",
       "1209      20000.0                   Petrol     2     160.0  \n",
       "1210      27500.0                   Petrol     4     180.0  \n",
       "1211      32500.0                   Petrol     5     250.0  \n",
       "1212    6000000.0                   Petrol     1     500.0  \n",
       "1213      45795.0  Hybrid (Gas + Electric)     5     239.0  \n",
       "1214      50000.0                   Hybrid     7     630.0  \n",
       "1215      27172.5             Gas / Hybrid     5  190210.0  \n",
       "1216      33000.0                   Hybrid     5  190205.0  \n",
       "1217      36000.0         Hybrid / Plug-in     5  221400.0  "
      ]
     },
     "execution_count": 581,
     "metadata": {},
     "output_type": "execute_result"
    }
   ],
   "source": [
    "def clean_dataset(df):    \n",
    "    def parse_intervals(col):\n",
    "        \n",
    "        try:\n",
    "            col = str(col)\n",
    "            cleaned = re.sub(r'[^\\d.,-]', '', col)\n",
    "            cleaned = cleaned.replace(',', '')\n",
    "            \n",
    "            if '-' in cleaned or '–' in cleaned:\n",
    "                cleaned = cleaned.replace('–', '-')\n",
    "                cleaned = cleaned.replace('', '-')\n",
    "                parts = cleaned.split('-')\n",
    "                parts = [p.strip() for p in parts if p.strip()]\n",
    "                \n",
    "                if len(parts) == 2:\n",
    "                    low = float(parts[0])\n",
    "                    high = float(parts[1])\n",
    "                    return (low + high) / 2\n",
    "                return float(parts[0]) if parts else None\n",
    "            return float(cleaned) if cleaned else None\n",
    "        except:\n",
    "            return None\n",
    "\n",
    "    numeric_cols = {\n",
    "        'Cars Prices': None,\n",
    "        'Torque': None,\n",
    "        'HorsePower': None,\n",
    "        'Performance(0 - 100 )KM/H': None\n",
    "    }\n",
    "    \n",
    "    for col in numeric_cols:\n",
    "        if col in df.columns:\n",
    "            df[col] = df[col].apply(parse_intervals)\n",
    "\n",
    "    units_to_remove = {\n",
    "        'Performance(0 - 100 )KM/H': ' sec',\n",
    "        'HorsePower': ' hp',\n",
    "        'Total Speed': ' km/h',\n",
    "        'Torque': ' Nm'\n",
    "    }\n",
    "    \n",
    "    for col, unit in units_to_remove.items():\n",
    "        if col in df.columns:\n",
    "            df[col] = df[col].astype(str).str.replace(unit, '', regex=False)\n",
    "            try:\n",
    "                df[col] = pd.to_numeric(df[col])\n",
    "            except:\n",
    "                pass\n",
    "    \n",
    "    return df\n",
    "\n",
    "df = clean_dataset(df)\n",
    "df.tail(10)"
   ]
  },
  {
   "cell_type": "code",
   "execution_count": 582,
   "metadata": {
    "execution": {
     "iopub.execute_input": "2025-08-09T17:28:24.491099Z",
     "iopub.status.busy": "2025-08-09T17:28:24.490753Z",
     "iopub.status.idle": "2025-08-09T17:28:24.501132Z",
     "shell.execute_reply": "2025-08-09T17:28:24.499863Z",
     "shell.execute_reply.started": "2025-08-09T17:28:24.491073Z"
    },
    "trusted": true
   },
   "outputs": [],
   "source": [
    "df = df.drop_duplicates()"
   ]
  },
  {
   "cell_type": "code",
   "execution_count": 583,
   "metadata": {},
   "outputs": [
    {
     "data": {
      "text/plain": [
       "array(['plug in hyrbrid', 'Petrol', 'Diesel', 'Hybrid', 'Electric',\n",
       "       'Petrol/Diesel', 'Plug-in Hybrid', 'Petrol/AWD', 'Petrol/Hybrid',\n",
       "       'Hydrogen', 'Diesel/Petrol', 'Petrol/EV', 'Hybrid/Electric',\n",
       "       'Petrol, Hybrid', 'Petrol, Diesel', 'Hybrid (Petrol)',\n",
       "       'CNG/Petrol', 'Hybrid/Petrol', 'Diesel Hybrid', 'Petrol (Hybrid)',\n",
       "       'Hybrid (Gas + Electric)', 'Gas / Hybrid', 'Hybrid / Plug-in'],\n",
       "      dtype=object)"
      ]
     },
     "execution_count": 583,
     "metadata": {},
     "output_type": "execute_result"
    }
   ],
   "source": [
    "df['Fuel Types'].unique()"
   ]
  },
  {
   "cell_type": "markdown",
   "metadata": {},
   "source": [
    "Are the same:\n",
    "* 'Petrol/Hybrid', 'Petrol, Hybrid', 'Hybrid/Petrol', 'Petrol (Hybrid)' \n",
    "* 'Hybrid (Gas + Electric)', 'Gas / Hybrid'"
   ]
  },
  {
   "cell_type": "code",
   "execution_count": 584,
   "metadata": {},
   "outputs": [
    {
     "data": {
      "text/html": [
       "<div>\n",
       "<style scoped>\n",
       "    .dataframe tbody tr th:only-of-type {\n",
       "        vertical-align: middle;\n",
       "    }\n",
       "\n",
       "    .dataframe tbody tr th {\n",
       "        vertical-align: top;\n",
       "    }\n",
       "\n",
       "    .dataframe thead th {\n",
       "        text-align: right;\n",
       "    }\n",
       "</style>\n",
       "<table border=\"1\" class=\"dataframe\">\n",
       "  <thead>\n",
       "    <tr style=\"text-align: right;\">\n",
       "      <th></th>\n",
       "      <th>Company Names</th>\n",
       "      <th>Cars Names</th>\n",
       "      <th>Engines</th>\n",
       "      <th>CC/Battery Capacity</th>\n",
       "      <th>HorsePower</th>\n",
       "      <th>Total Speed</th>\n",
       "      <th>Performance(0 - 100 )KM/H</th>\n",
       "      <th>Cars Prices</th>\n",
       "      <th>Seats</th>\n",
       "      <th>Torque</th>\n",
       "      <th>awd</th>\n",
       "      <th>compressed_natural_gas</th>\n",
       "      <th>diesel</th>\n",
       "      <th>electric</th>\n",
       "      <th>hybrid</th>\n",
       "      <th>hydrogen</th>\n",
       "      <th>petrol</th>\n",
       "      <th>plugin</th>\n",
       "      <th>plugin hybrid</th>\n",
       "    </tr>\n",
       "  </thead>\n",
       "  <tbody>\n",
       "    <tr>\n",
       "      <th>1208</th>\n",
       "      <td>mazda</td>\n",
       "      <td>bongo truck</td>\n",
       "      <td>2.0L Inline-4</td>\n",
       "      <td>1,998 cc</td>\n",
       "      <td>120.0</td>\n",
       "      <td>130</td>\n",
       "      <td>15.0</td>\n",
       "      <td>16500.0</td>\n",
       "      <td>2</td>\n",
       "      <td>150.0</td>\n",
       "      <td>0</td>\n",
       "      <td>0</td>\n",
       "      <td>0</td>\n",
       "      <td>0</td>\n",
       "      <td>0</td>\n",
       "      <td>0</td>\n",
       "      <td>1</td>\n",
       "      <td>0</td>\n",
       "      <td>0</td>\n",
       "    </tr>\n",
       "    <tr>\n",
       "      <th>1209</th>\n",
       "      <td>mazda</td>\n",
       "      <td>rotary pickup</td>\n",
       "      <td>1.3L Wankel Rotary Engine</td>\n",
       "      <td>1,308 cc</td>\n",
       "      <td>130.0</td>\n",
       "      <td>150</td>\n",
       "      <td>14.5</td>\n",
       "      <td>20000.0</td>\n",
       "      <td>2</td>\n",
       "      <td>160.0</td>\n",
       "      <td>0</td>\n",
       "      <td>0</td>\n",
       "      <td>0</td>\n",
       "      <td>0</td>\n",
       "      <td>0</td>\n",
       "      <td>0</td>\n",
       "      <td>1</td>\n",
       "      <td>0</td>\n",
       "      <td>0</td>\n",
       "    </tr>\n",
       "    <tr>\n",
       "      <th>1210</th>\n",
       "      <td>mazda</td>\n",
       "      <td>luce rotary coupe</td>\n",
       "      <td>1.3L Wankel Rotary Engine</td>\n",
       "      <td>1,308 cc</td>\n",
       "      <td>135.0</td>\n",
       "      <td>175</td>\n",
       "      <td>12.0</td>\n",
       "      <td>27500.0</td>\n",
       "      <td>4</td>\n",
       "      <td>180.0</td>\n",
       "      <td>0</td>\n",
       "      <td>0</td>\n",
       "      <td>0</td>\n",
       "      <td>0</td>\n",
       "      <td>0</td>\n",
       "      <td>0</td>\n",
       "      <td>1</td>\n",
       "      <td>0</td>\n",
       "      <td>0</td>\n",
       "    </tr>\n",
       "    <tr>\n",
       "      <th>1211</th>\n",
       "      <td>mazda</td>\n",
       "      <td>millenia s</td>\n",
       "      <td>2.5L V6</td>\n",
       "      <td>2,500 cc</td>\n",
       "      <td>200.0</td>\n",
       "      <td>220</td>\n",
       "      <td>8.0</td>\n",
       "      <td>32500.0</td>\n",
       "      <td>5</td>\n",
       "      <td>250.0</td>\n",
       "      <td>0</td>\n",
       "      <td>0</td>\n",
       "      <td>0</td>\n",
       "      <td>0</td>\n",
       "      <td>0</td>\n",
       "      <td>0</td>\n",
       "      <td>1</td>\n",
       "      <td>0</td>\n",
       "      <td>0</td>\n",
       "    </tr>\n",
       "    <tr>\n",
       "      <th>1212</th>\n",
       "      <td>mazda</td>\n",
       "      <td>787b (race car)</td>\n",
       "      <td>2.6L Wankel Rotary Engine</td>\n",
       "      <td>2,620 cc</td>\n",
       "      <td>700.0</td>\n",
       "      <td>320</td>\n",
       "      <td>3.5</td>\n",
       "      <td>6000000.0</td>\n",
       "      <td>1</td>\n",
       "      <td>500.0</td>\n",
       "      <td>0</td>\n",
       "      <td>0</td>\n",
       "      <td>0</td>\n",
       "      <td>0</td>\n",
       "      <td>0</td>\n",
       "      <td>0</td>\n",
       "      <td>1</td>\n",
       "      <td>0</td>\n",
       "      <td>0</td>\n",
       "    </tr>\n",
       "    <tr>\n",
       "      <th>1213</th>\n",
       "      <td>toyota</td>\n",
       "      <td>crown signia</td>\n",
       "      <td>2.5L Hybrid I4</td>\n",
       "      <td>2487 cc</td>\n",
       "      <td>240.0</td>\n",
       "      <td>180</td>\n",
       "      <td>7.6</td>\n",
       "      <td>45795.0</td>\n",
       "      <td>5</td>\n",
       "      <td>239.0</td>\n",
       "      <td>0</td>\n",
       "      <td>0</td>\n",
       "      <td>0</td>\n",
       "      <td>1</td>\n",
       "      <td>1</td>\n",
       "      <td>0</td>\n",
       "      <td>1</td>\n",
       "      <td>0</td>\n",
       "      <td>0</td>\n",
       "    </tr>\n",
       "    <tr>\n",
       "      <th>1214</th>\n",
       "      <td>toyota</td>\n",
       "      <td>4runner (6th gen)</td>\n",
       "      <td>2.4L Turbo I4 (i-FORCE MAX Hybrid)</td>\n",
       "      <td>2393 cc + Battery</td>\n",
       "      <td>326.0</td>\n",
       "      <td>180</td>\n",
       "      <td>6.8</td>\n",
       "      <td>50000.0</td>\n",
       "      <td>7</td>\n",
       "      <td>630.0</td>\n",
       "      <td>0</td>\n",
       "      <td>0</td>\n",
       "      <td>0</td>\n",
       "      <td>0</td>\n",
       "      <td>1</td>\n",
       "      <td>0</td>\n",
       "      <td>0</td>\n",
       "      <td>0</td>\n",
       "      <td>0</td>\n",
       "    </tr>\n",
       "    <tr>\n",
       "      <th>1215</th>\n",
       "      <td>toyota</td>\n",
       "      <td>corolla cross</td>\n",
       "      <td>2.0L Gas / 2.0L Hybrid</td>\n",
       "      <td>1987 cc / Hybrid batt</td>\n",
       "      <td>169196.0</td>\n",
       "      <td>190</td>\n",
       "      <td>nan</td>\n",
       "      <td>27172.5</td>\n",
       "      <td>5</td>\n",
       "      <td>190210.0</td>\n",
       "      <td>0</td>\n",
       "      <td>0</td>\n",
       "      <td>0</td>\n",
       "      <td>0</td>\n",
       "      <td>1</td>\n",
       "      <td>0</td>\n",
       "      <td>1</td>\n",
       "      <td>0</td>\n",
       "      <td>0</td>\n",
       "    </tr>\n",
       "    <tr>\n",
       "      <th>1216</th>\n",
       "      <td>toyota</td>\n",
       "      <td>c-hr+</td>\n",
       "      <td>1.8L / 2.0L Hybrid</td>\n",
       "      <td>1798 / 1987 cc + batt</td>\n",
       "      <td>140198.0</td>\n",
       "      <td>180</td>\n",
       "      <td>nan</td>\n",
       "      <td>33000.0</td>\n",
       "      <td>5</td>\n",
       "      <td>190205.0</td>\n",
       "      <td>0</td>\n",
       "      <td>0</td>\n",
       "      <td>0</td>\n",
       "      <td>0</td>\n",
       "      <td>1</td>\n",
       "      <td>0</td>\n",
       "      <td>0</td>\n",
       "      <td>0</td>\n",
       "      <td>0</td>\n",
       "    </tr>\n",
       "    <tr>\n",
       "      <th>1217</th>\n",
       "      <td>toyota</td>\n",
       "      <td>rav4 (6th gen)</td>\n",
       "      <td>2.5L Hybrid / Plug-in Hybrid</td>\n",
       "      <td>2487 cc + batt</td>\n",
       "      <td>219302.0</td>\n",
       "      <td>200</td>\n",
       "      <td>nan</td>\n",
       "      <td>36000.0</td>\n",
       "      <td>5</td>\n",
       "      <td>221400.0</td>\n",
       "      <td>0</td>\n",
       "      <td>0</td>\n",
       "      <td>0</td>\n",
       "      <td>0</td>\n",
       "      <td>1</td>\n",
       "      <td>0</td>\n",
       "      <td>0</td>\n",
       "      <td>1</td>\n",
       "      <td>0</td>\n",
       "    </tr>\n",
       "  </tbody>\n",
       "</table>\n",
       "</div>"
      ],
      "text/plain": [
       "     Company Names         Cars Names                             Engines  \\\n",
       "1208         mazda        bongo truck                       2.0L Inline-4   \n",
       "1209         mazda      rotary pickup           1.3L Wankel Rotary Engine   \n",
       "1210         mazda  luce rotary coupe           1.3L Wankel Rotary Engine   \n",
       "1211         mazda         millenia s                             2.5L V6   \n",
       "1212         mazda    787b (race car)           2.6L Wankel Rotary Engine   \n",
       "1213        toyota       crown signia                      2.5L Hybrid I4   \n",
       "1214        toyota  4runner (6th gen)  2.4L Turbo I4 (i-FORCE MAX Hybrid)   \n",
       "1215        toyota      corolla cross              2.0L Gas / 2.0L Hybrid   \n",
       "1216        toyota             c-hr+                   1.8L / 2.0L Hybrid   \n",
       "1217        toyota     rav4 (6th gen)        2.5L Hybrid / Plug-in Hybrid   \n",
       "\n",
       "        CC/Battery Capacity  HorsePower Total Speed Performance(0 - 100 )KM/H  \\\n",
       "1208               1,998 cc       120.0         130                      15.0   \n",
       "1209               1,308 cc       130.0         150                      14.5   \n",
       "1210               1,308 cc       135.0         175                      12.0   \n",
       "1211               2,500 cc       200.0         220                       8.0   \n",
       "1212               2,620 cc       700.0         320                       3.5   \n",
       "1213                2487 cc       240.0         180                       7.6   \n",
       "1214      2393 cc + Battery       326.0         180                       6.8   \n",
       "1215  1987 cc / Hybrid batt    169196.0         190                       nan   \n",
       "1216  1798 / 1987 cc + batt    140198.0         180                       nan   \n",
       "1217         2487 cc + batt    219302.0         200                       nan   \n",
       "\n",
       "      Cars Prices Seats    Torque  awd  compressed_natural_gas  diesel  \\\n",
       "1208      16500.0     2     150.0    0                       0       0   \n",
       "1209      20000.0     2     160.0    0                       0       0   \n",
       "1210      27500.0     4     180.0    0                       0       0   \n",
       "1211      32500.0     5     250.0    0                       0       0   \n",
       "1212    6000000.0     1     500.0    0                       0       0   \n",
       "1213      45795.0     5     239.0    0                       0       0   \n",
       "1214      50000.0     7     630.0    0                       0       0   \n",
       "1215      27172.5     5  190210.0    0                       0       0   \n",
       "1216      33000.0     5  190205.0    0                       0       0   \n",
       "1217      36000.0     5  221400.0    0                       0       0   \n",
       "\n",
       "      electric  hybrid  hydrogen  petrol  plugin  plugin hybrid  \n",
       "1208         0       0         0       1       0              0  \n",
       "1209         0       0         0       1       0              0  \n",
       "1210         0       0         0       1       0              0  \n",
       "1211         0       0         0       1       0              0  \n",
       "1212         0       0         0       1       0              0  \n",
       "1213         1       1         0       1       0              0  \n",
       "1214         0       1         0       0       0              0  \n",
       "1215         0       1         0       1       0              0  \n",
       "1216         0       1         0       0       0              0  \n",
       "1217         0       1         0       0       1              0  "
      ]
     },
     "execution_count": 584,
     "metadata": {},
     "output_type": "execute_result"
    }
   ],
   "source": [
    "def normalize_fuel_type(item):\n",
    "    item = str(item).lower().strip()\n",
    "    item = re.sub(r'[^\\w\\s-]', ' ', item) \n",
    "    item = re.sub(r'plug[-\\s]?in', 'plugin', item)\n",
    "    \n",
    "    replacements = {\n",
    "        'gas': 'petrol',\n",
    "        'ev': 'electric',\n",
    "        'hyrbrid': 'hybrid',\n",
    "        'cng': 'compressed_natural_gas'\n",
    "    }\n",
    "    for wrong, correct in replacements.items():\n",
    "        item = item.replace(wrong, correct)\n",
    "\n",
    "    separators_re = re.compile(r'[,/&+]|\\band\\b|\\s+')\n",
    "    parts = [p.strip() for p in separators_re.split(item) if p.strip()]\n",
    "\n",
    "    final_parts = []\n",
    "    i = 0\n",
    "    while i < len(parts):\n",
    "        if parts[i] == 'plugin' and i+1 < len(parts) and parts[i+1] == 'hybrid':\n",
    "            final_parts.append('plugin hybrid')\n",
    "            i += 2\n",
    "        else:\n",
    "            final_parts.append(parts[i])\n",
    "            i += 1\n",
    "    \n",
    "    return final_parts\n",
    "\n",
    "mlb = MultiLabelBinarizer()\n",
    "fuel_encoded = mlb.fit_transform(df['Fuel Types'].apply(normalize_fuel_type))\n",
    "df = df.drop(columns=['Fuel Types'])\n",
    "df[mlb.classes_] = fuel_encoded\n",
    "df.tail(10)"
   ]
  },
  {
   "cell_type": "code",
   "execution_count": 585,
   "metadata": {},
   "outputs": [
    {
     "data": {
      "text/plain": [
       "array(['2', '5', '4', '2+2', '7', '8', '20', '15', '12', '3', '9', '6',\n",
       "       '1', '2\\x9615', '2\\x967', '2\\x966', '7\\x968', '2\\x969', '2\\x9612'],\n",
       "      dtype=object)"
      ]
     },
     "execution_count": 585,
     "metadata": {},
     "output_type": "execute_result"
    }
   ],
   "source": [
    "df['Seats'].unique()"
   ]
  },
  {
   "cell_type": "code",
   "execution_count": 586,
   "metadata": {},
   "outputs": [],
   "source": [
    "def clean_seats(item):\n",
    "    replacements = {\n",
    "        '2\\x9615': '2',\n",
    "        '2\\x967': '2',\n",
    "        '2\\x966': '2',\n",
    "        '7\\x968': '2',\n",
    "        '2\\x969': '2',\n",
    "        '2\\x9612': '2',\n",
    "        '2+2': '4'\n",
    "    }\n",
    "\n",
    "    for wrong, correct in replacements.items():\n",
    "        item = item.replace(wrong, correct)\n",
    "    \n",
    "    cleaned = ''.join(c for c in item if c.isdigit() or c == '+')\n",
    "    \n",
    "    if '+' in cleaned:\n",
    "        parts = cleaned.split('+')\n",
    "        try:\n",
    "            return sum(int(p) for p in parts)\n",
    "        except:\n",
    "            return 0\n",
    "    \n",
    "    try:\n",
    "        return int(cleaned) if cleaned else 0\n",
    "    except:\n",
    "        return 0\n",
    "\n",
    "df['Seats'] = df['Seats'].apply(clean_seats)"
   ]
  },
  {
   "cell_type": "code",
   "execution_count": 587,
   "metadata": {},
   "outputs": [
    {
     "data": {
      "text/plain": [
       "array(['3990 cc', '6749 cc', '1,200 cc', '3,982 cc', '5,204 cc',\n",
       "       '3,994 cc', '3,996 cc', '6,498 cc', '3,900 cc', '6496 cc',\n",
       "       '6,496 cc', '2,998 cc', '1,998 cc', '2,387 cc', '5,663 cc',\n",
       "       '3,799 cc', '3,696 cc', '2,488 cc', '3,498 cc', '5,598 cc',\n",
       "       '5,935 cc', '3,998 cc', '6,592 cc', '6,749 cc', '1991 cc',\n",
       "       '2,996 cc', '1,991 cc', 0, '5,980 cc', '4,395 cc', '2,993 cc',\n",
       "       '4,935 cc', '3,993 cc', '2,995 cc', '1,984 cc', '95 kwh',\n",
       "       '11.6 kwh', '1,499 cc', '1,496 cc', '1,995 cc', '1,598 cc',\n",
       "       '1,969 cc', '2,480 cc', '1,996 cc', '1,600 cc / 13.8 kwh',\n",
       "       '1,498 cc', '1,600 cc / 1.49 kwh', '1,598 cc / 13.8 kwh',\n",
       "       '3,471 cc', '3,500 cc', '1,798 cc', '2,494 cc', '3,456 cc',\n",
       "       '3,956 cc', '2,694 cc', '1,986 cc',\n",
       "       '64.8 kwh (Base Model),72.8 kwh (Higher End Model', '1,497 cc',\n",
       "       '1,197 cc', '1,396 cc', '1,999 cc', '2,179 cc', '1,997 cc',\n",
       "       '1,462 cc', '1,618 cc', '3,346 cc', '3,445 cc', '1,987 cc',\n",
       "       '1.24 kwh', '2,755 cc', 'HYBRID(2,494 cc),V6(3,456 cc)',\n",
       "       '4,009 cc', '1,490 cc', '998 cc', '75 KWH', '65 KWH', '1,600 cc',\n",
       "       '72.6 KWH', '2,500 cc', '1,591 cc', '2,000 cc',\n",
       "       '53.6 kwh(Standard Range) / 77.4 kwh(Long Range)', '3,800 cc',\n",
       "       '39.2 kwh', '1.56 kwh', '3,300 cc', '1498 cc / 40 - 58 kWh',\n",
       "       '1984 cc', '1498 cc', '999 cc / 1598 cc', '77 kWh', '32.3 kWh',\n",
       "       '2967 cc / 3956 cc', '2967 cc', '3954 cc', '58 - 77 kWh',\n",
       "       '1968 cc', '999 cc', '999 cc / 1498 cc', '2995 cc',\n",
       "       '1395 cc / 1968 cc', '1199 cc', '58 kWh', '1498 cc / 1968 cc',\n",
       "       '1390 cc / 1199 cc', '2861 cc', '2967 cc / 5998 cc',\n",
       "       '1197 cc / 1984 cc', '1390 cc / 1598 cc', '1192 cc',\n",
       "       '1198 cc / 1390 cc', '1598 cc', '35.8 kWh', '1598 cc / 1896 cc',\n",
       "       '1984 cc / 3597 cc', '~50 kWh (Estimate)',\n",
       "       '1395 cc + Electric Motor', '3956 cc', '1395 cc', '1781 cc',\n",
       "       '3189 cc', '1598 cc / 1984 cc', '800 cc + Electric Motor',\n",
       "       '1395 cc + Battery', '3996 cc', '5552 cc', '1332 cc', '3498 cc',\n",
       "       '2997 cc', '1798 cc', '1198 cc', '1461 cc', '3799 cc', '3696 cc',\n",
       "       '87 kWh', '1197 cc', '1997 cc', '1998 cc', '2498 cc', '1796 cc',\n",
       "       '4750 cc', '2488 cc', '1497 cc', '5026 cc', '1838 cc', '2960 cc',\n",
       "       '2438 cc', '2568 cc', '2298 cc', '1397 cc', '2825 cc', '2664 cc',\n",
       "       '3000 cc', '1595 cc', '3495 cc', '987 cc', '2389 cc', '2999 cc',\n",
       "       '659 cc', '1770 cc', '1597 cc', '4494 cc', '2393 cc', '1769 cc',\n",
       "       '2663 cc', '4169 cc', '3275 cc', '4130 cc', '2753 cc', '1809 cc',\n",
       "       '1839 cc', '2953 cc', '2894 cc', '17.9 kWh Battery', '2981 cc',\n",
       "       '3745 cc', '79.2 kWh', '93.4 kWh', '1988 cc', '2497 cc', '3995 cc',\n",
       "       '95 kWh', '2000 cc', '2700 cc', '4194 cc', '24 kWh',\n",
       "       '1199 cc / 1497 cc', '624 cc', '1396 cc', '1193 cc', '26 kWh',\n",
       "       '1248 cc / 1199 cc', '6200 cc', '1248 cc / 1368 cc', '40.5 kWh',\n",
       "       '1956 cc', '2179 cc', '2956 cc', '30.2 kWh', '100 kWh', '60 kWh',\n",
       "       '82 kWh', '75 kWh', '200 kWh', '3600 cc', '2400 cc', '1300 cc',\n",
       "       '5700 cc', '6400 cc', '17.3 kWh', '11.4 kWh', '1,500 cc',\n",
       "       '3200 cc', '1400 cc', '1500 cc', '5300 cc', '6600 cc', '66 kWh',\n",
       "       '2800 cc', '1200 cc', '4300 cc', '2500 cc', '212 kWh', '3,564 cc',\n",
       "       '5,327 cc', '2,713 cc', '6,600 cc', '6,162 cc', '4,300 cc',\n",
       "       '1591 cc', '1,599 cc (petrol) + Electric Motor', '3778 cc',\n",
       "       '1999 cc', '77.4 kWh', '3500 cc',\n",
       "       '1,598 cc (petrol) + Electric Motor', '3300 cc',\n",
       "       '1,599 cc (Petrol) + Electric Motor', '50 kWh', '7993 cc',\n",
       "       '13000 cc', '16100 cc', '12800 cc', '7700 cc', '5100 cc',\n",
       "       '2995 cc (V6)', '1999 cc (I4)', '90 kWh (Battery)',\n",
       "       '1999 cc (I4) / 2995 cc (V6)', '1998 cc (I4)', '5000 cc (V8)',\n",
       "       '1999 cc (I4) + Electric', '3,493 cc (V6)', '3,500 cc (V6)',\n",
       "       '1,500 cc (I4)', '2,400 cc (I4)', '2,400 cc', '3,493 cc',\n",
       "       '3,000 cc', '1,199 cc', '1,560 cc', '2,200 cc', '-',\n",
       "       '1,500 - 2,000 cc', '2,000 - 3,500 cc', '1,000 - 1,500 cc',\n",
       "       '1,000 - 2,000 cc', '1,500 - 2,500 cc', '2,000 - 2,700 cc',\n",
       "       '2,300 - 3,000 cc', '3,500 - 5,400 cc', '2,300 - 2,700 cc',\n",
       "       '3,300 - 5,000 cc', '6,200 - 7,300 cc', '6,700 - 7,300 cc',\n",
       "       '2,500 - 2,000 cc', 'Battery (68-98 kWh)', 'Battery (98 kWh)',\n",
       "       '5,000 cc', '2,300 cc', '2,700 cc', '1,000 cc', '6,700 cc',\n",
       "       '5,200 cc', '7,300 cc', '89 kWh (Electric)',\n",
       "       '3,000 cc (petrol) + Electric Motor',\n",
       "       '2,500 cc (petrol) + Electric Motor', '2,400 cc / 20 kWh battery',\n",
       "       '3,200 cc', '16 kWh battery', '1,100 - 1,500 cc',\n",
       "       '1,600 - 2,000 cc', '2,000 - 2,200 cc', '7,500 cc', '1,800 cc',\n",
       "       '660 cc', '35.5 kWh battery', '1,300 cc', '657 cc', '2,600 cc',\n",
       "       '1,308 cc', '1,588 cc', '1,590 cc', '360 cc', '1,298 cc',\n",
       "       '2,620 cc', '2487 cc', '2393 cc + Battery',\n",
       "       '1987 cc / Hybrid batt', '1798 / 1987 cc + batt', '2487 cc + batt'],\n",
       "      dtype=object)"
      ]
     },
     "execution_count": 587,
     "metadata": {},
     "output_type": "execute_result"
    }
   ],
   "source": [
    "df['CC/Battery Capacity'].unique()"
   ]
  },
  {
   "cell_type": "code",
   "execution_count": 588,
   "metadata": {},
   "outputs": [],
   "source": [
    "def convert_power(value):\n",
    "    \"\"\"\n",
    "    Улучшенная обработка всех форматов:\n",
    "    - Диапазоны (58-77 cc, 40-58 kWh)\n",
    "    - Одиночные значения\n",
    "    - Смешанные случаи (cc + kWh)\n",
    "    - Учет battery как признака гибрида\n",
    "    \"\"\"\n",
    "    if pd.isna(value) or str(value).lower() == 'nan':\n",
    "        return pd.Series({'Engine_CC': np.nan, 'Battery_W': np.nan})\n",
    "    \n",
    "    value = str(value).lower()\n",
    "    cc_values = []\n",
    "    kwh_values = []\n",
    "    has_battery = 'battery' in value or 'batt' in value\n",
    "    \n",
    "    # 1. Обработка диапазонов cc (58-77 cc)\n",
    "    range_cc = re.findall(r'(\\d+)\\s*-\\s*(\\d+)\\s*cc', value)\n",
    "    for start, end in range_cc:\n",
    "        cc_values.extend([float(start), float(end)])\n",
    "    \n",
    "    # 2. Одиночные значения cc (улучшенное выражение)\n",
    "    single_cc = re.findall(r'(?<![\\d-])(\\d+[,.]?\\d*)\\s*cc(?!\\s*kwh)', value.replace(',', ''))\n",
    "    cc_values.extend([float(x) for x in single_cc])\n",
    "    \n",
    "    # 3. Обработка диапазонов kwh (40-58 kwh)\n",
    "    range_kwh = re.findall(r'(\\d+\\.?\\d*)\\s*-\\s*(\\d+\\.?\\d*)\\s*kwh', value)\n",
    "    for start, end in range_kwh:\n",
    "        kwh_values.extend([float(start), float(end)])\n",
    "    \n",
    "    # 4. Одиночные значения kwh\n",
    "    single_kwh = re.findall(r'(?<![\\d-])(\\d+[,.]?\\d*)\\s*kwh', value.replace(',', ''))\n",
    "    kwh_values.extend([float(x) for x in single_kwh])\n",
    "    \n",
    "    # 5. Если есть battery, но нет kwh\n",
    "    if has_battery and not kwh_values:\n",
    "        batt_num = re.search(r'(\\d+[,.]?\\d*)\\s*(?:kwh\\s*)?batt', value)\n",
    "        if batt_num:\n",
    "            kwh_values.append(float(batt_num.group(1)))\n",
    "    \n",
    "    # Расчет средних значений\n",
    "    engine_cc = round(np.mean(cc_values)) if cc_values else np.nan\n",
    "    battery_w = round(np.mean(kwh_values)*1000) if kwh_values else np.nan\n",
    "    \n",
    "    return pd.Series({\n",
    "        'Engine_CC': engine_cc,\n",
    "        'Battery_W': battery_w\n",
    "    })\n",
    "\n",
    "df[['Engine_CC', 'Battery_W']] = df['CC/Battery Capacity'].apply(convert_power)\n"
   ]
  },
  {
   "cell_type": "code",
   "execution_count": 589,
   "metadata": {},
   "outputs": [
    {
     "data": {
      "text/plain": [
       "count       110.000000\n",
       "mean      77631.427273\n",
       "std       48801.550128\n",
       "min        1240.000000\n",
       "25%       50000.000000\n",
       "50%       77400.000000\n",
       "75%       93400.000000\n",
       "max      212000.000000\n",
       "Name: Battery_W, dtype: float64"
      ]
     },
     "execution_count": 589,
     "metadata": {},
     "output_type": "execute_result"
    }
   ],
   "source": [
    "df['Battery_W'].describe()"
   ]
  },
  {
   "cell_type": "code",
   "execution_count": 590,
   "metadata": {},
   "outputs": [],
   "source": [
    "def fill_hybrid_battery(df, battery_col='Battery_W', source_col='CC/Battery Capacity'):\n",
    "\n",
    "    # Копируем датафрейм для безопасного изменения\n",
    "    df_filled = df.copy()\n",
    "    \n",
    "    # 1. Определяем гибриды (есть cc И указание на батарею/гибрид)\n",
    "    hybrid_mask = (\n",
    "        df_filled[source_col].str.contains(r'\\d+\\s*cc', case=False, na=False) & \n",
    "        df_filled[source_col].str.contains('battery|batt|hybrid', case=False, na=False)\n",
    "    )\n",
    "    \n",
    "    # 2. Вычисляем среднюю мощность известных гибридов\n",
    "    known_hybrids = df_filled[hybrid_mask & df_filled[battery_col].notna()]\n",
    "    mean_battery = known_hybrids[battery_col].mean()\n",
    "    \n",
    "    # 3. Если нет данных, используем типичное значение для гибридов (например, 15 kWh)\n",
    "    if pd.isna(mean_battery):\n",
    "        mean_battery = 15000  # 15 kWh в ваттах\n",
    "    \n",
    "    # 4. Заполняем пропуски у гибридов\n",
    "    fill_mask = hybrid_mask & df_filled[battery_col].isna()\n",
    "    df_filled.loc[fill_mask, battery_col] = mean_battery\n",
    "    \n",
    "    return df_filled\n",
    "df = fill_hybrid_battery(df)"
   ]
  },
  {
   "cell_type": "code",
   "execution_count": 591,
   "metadata": {},
   "outputs": [
    {
     "data": {
      "text/html": [
       "<div>\n",
       "<style scoped>\n",
       "    .dataframe tbody tr th:only-of-type {\n",
       "        vertical-align: middle;\n",
       "    }\n",
       "\n",
       "    .dataframe tbody tr th {\n",
       "        vertical-align: top;\n",
       "    }\n",
       "\n",
       "    .dataframe thead th {\n",
       "        text-align: right;\n",
       "    }\n",
       "</style>\n",
       "<table border=\"1\" class=\"dataframe\">\n",
       "  <thead>\n",
       "    <tr style=\"text-align: right;\">\n",
       "      <th></th>\n",
       "      <th>Company Names</th>\n",
       "      <th>Cars Names</th>\n",
       "      <th>Engines</th>\n",
       "      <th>HorsePower</th>\n",
       "      <th>Total Speed</th>\n",
       "      <th>Performance(0 - 100 )KM/H</th>\n",
       "      <th>Cars Prices</th>\n",
       "      <th>Seats</th>\n",
       "      <th>Torque</th>\n",
       "      <th>awd</th>\n",
       "      <th>compressed_natural_gas</th>\n",
       "      <th>diesel</th>\n",
       "      <th>electric</th>\n",
       "      <th>hybrid</th>\n",
       "      <th>hydrogen</th>\n",
       "      <th>petrol</th>\n",
       "      <th>plugin</th>\n",
       "      <th>plugin hybrid</th>\n",
       "      <th>Engine_CC</th>\n",
       "      <th>Battery_W</th>\n",
       "    </tr>\n",
       "  </thead>\n",
       "  <tbody>\n",
       "    <tr>\n",
       "      <th>0</th>\n",
       "      <td>ferrari</td>\n",
       "      <td>sf90 stradale</td>\n",
       "      <td>V8</td>\n",
       "      <td>963.0</td>\n",
       "      <td>340</td>\n",
       "      <td>2.5</td>\n",
       "      <td>1100000.0</td>\n",
       "      <td>2</td>\n",
       "      <td>800.0</td>\n",
       "      <td>0</td>\n",
       "      <td>0</td>\n",
       "      <td>0</td>\n",
       "      <td>0</td>\n",
       "      <td>0</td>\n",
       "      <td>0</td>\n",
       "      <td>0</td>\n",
       "      <td>0</td>\n",
       "      <td>1</td>\n",
       "      <td>3990.0</td>\n",
       "      <td>NaN</td>\n",
       "    </tr>\n",
       "    <tr>\n",
       "      <th>1</th>\n",
       "      <td>rolls royce</td>\n",
       "      <td>phantom</td>\n",
       "      <td>V12</td>\n",
       "      <td>563.0</td>\n",
       "      <td>250</td>\n",
       "      <td>5.3</td>\n",
       "      <td>460000.0</td>\n",
       "      <td>5</td>\n",
       "      <td>900.0</td>\n",
       "      <td>0</td>\n",
       "      <td>0</td>\n",
       "      <td>0</td>\n",
       "      <td>0</td>\n",
       "      <td>0</td>\n",
       "      <td>0</td>\n",
       "      <td>1</td>\n",
       "      <td>0</td>\n",
       "      <td>0</td>\n",
       "      <td>6749.0</td>\n",
       "      <td>NaN</td>\n",
       "    </tr>\n",
       "    <tr>\n",
       "      <th>2</th>\n",
       "      <td>ford</td>\n",
       "      <td>ka+</td>\n",
       "      <td>1.2L Petrol</td>\n",
       "      <td>77.5</td>\n",
       "      <td>165</td>\n",
       "      <td>10.5</td>\n",
       "      <td>13500.0</td>\n",
       "      <td>5</td>\n",
       "      <td>120.0</td>\n",
       "      <td>0</td>\n",
       "      <td>0</td>\n",
       "      <td>0</td>\n",
       "      <td>0</td>\n",
       "      <td>0</td>\n",
       "      <td>0</td>\n",
       "      <td>1</td>\n",
       "      <td>0</td>\n",
       "      <td>0</td>\n",
       "      <td>1200.0</td>\n",
       "      <td>NaN</td>\n",
       "    </tr>\n",
       "    <tr>\n",
       "      <th>3</th>\n",
       "      <td>mercedes</td>\n",
       "      <td>gt 63 s</td>\n",
       "      <td>V8</td>\n",
       "      <td>630.0</td>\n",
       "      <td>250</td>\n",
       "      <td>3.2</td>\n",
       "      <td>161000.0</td>\n",
       "      <td>4</td>\n",
       "      <td>900.0</td>\n",
       "      <td>0</td>\n",
       "      <td>0</td>\n",
       "      <td>0</td>\n",
       "      <td>0</td>\n",
       "      <td>0</td>\n",
       "      <td>0</td>\n",
       "      <td>1</td>\n",
       "      <td>0</td>\n",
       "      <td>0</td>\n",
       "      <td>3982.0</td>\n",
       "      <td>NaN</td>\n",
       "    </tr>\n",
       "    <tr>\n",
       "      <th>4</th>\n",
       "      <td>audi</td>\n",
       "      <td>audi r8 gt</td>\n",
       "      <td>V10</td>\n",
       "      <td>602.0</td>\n",
       "      <td>320</td>\n",
       "      <td>3.6</td>\n",
       "      <td>253290.0</td>\n",
       "      <td>2</td>\n",
       "      <td>560.0</td>\n",
       "      <td>0</td>\n",
       "      <td>0</td>\n",
       "      <td>0</td>\n",
       "      <td>0</td>\n",
       "      <td>0</td>\n",
       "      <td>0</td>\n",
       "      <td>1</td>\n",
       "      <td>0</td>\n",
       "      <td>0</td>\n",
       "      <td>5204.0</td>\n",
       "      <td>NaN</td>\n",
       "    </tr>\n",
       "    <tr>\n",
       "      <th>...</th>\n",
       "      <td>...</td>\n",
       "      <td>...</td>\n",
       "      <td>...</td>\n",
       "      <td>...</td>\n",
       "      <td>...</td>\n",
       "      <td>...</td>\n",
       "      <td>...</td>\n",
       "      <td>...</td>\n",
       "      <td>...</td>\n",
       "      <td>...</td>\n",
       "      <td>...</td>\n",
       "      <td>...</td>\n",
       "      <td>...</td>\n",
       "      <td>...</td>\n",
       "      <td>...</td>\n",
       "      <td>...</td>\n",
       "      <td>...</td>\n",
       "      <td>...</td>\n",
       "      <td>...</td>\n",
       "      <td>...</td>\n",
       "    </tr>\n",
       "    <tr>\n",
       "      <th>1213</th>\n",
       "      <td>toyota</td>\n",
       "      <td>crown signia</td>\n",
       "      <td>2.5L Hybrid I4</td>\n",
       "      <td>240.0</td>\n",
       "      <td>180</td>\n",
       "      <td>7.6</td>\n",
       "      <td>45795.0</td>\n",
       "      <td>5</td>\n",
       "      <td>239.0</td>\n",
       "      <td>0</td>\n",
       "      <td>0</td>\n",
       "      <td>0</td>\n",
       "      <td>1</td>\n",
       "      <td>1</td>\n",
       "      <td>0</td>\n",
       "      <td>1</td>\n",
       "      <td>0</td>\n",
       "      <td>0</td>\n",
       "      <td>2487.0</td>\n",
       "      <td>NaN</td>\n",
       "    </tr>\n",
       "    <tr>\n",
       "      <th>1214</th>\n",
       "      <td>toyota</td>\n",
       "      <td>4runner (6th gen)</td>\n",
       "      <td>2.4L Turbo I4 (i-FORCE MAX Hybrid)</td>\n",
       "      <td>326.0</td>\n",
       "      <td>180</td>\n",
       "      <td>6.8</td>\n",
       "      <td>50000.0</td>\n",
       "      <td>7</td>\n",
       "      <td>630.0</td>\n",
       "      <td>0</td>\n",
       "      <td>0</td>\n",
       "      <td>0</td>\n",
       "      <td>0</td>\n",
       "      <td>1</td>\n",
       "      <td>0</td>\n",
       "      <td>0</td>\n",
       "      <td>0</td>\n",
       "      <td>0</td>\n",
       "      <td>2393.0</td>\n",
       "      <td>20000.0</td>\n",
       "    </tr>\n",
       "    <tr>\n",
       "      <th>1215</th>\n",
       "      <td>toyota</td>\n",
       "      <td>corolla cross</td>\n",
       "      <td>2.0L Gas / 2.0L Hybrid</td>\n",
       "      <td>169196.0</td>\n",
       "      <td>190</td>\n",
       "      <td>nan</td>\n",
       "      <td>27172.5</td>\n",
       "      <td>5</td>\n",
       "      <td>190210.0</td>\n",
       "      <td>0</td>\n",
       "      <td>0</td>\n",
       "      <td>0</td>\n",
       "      <td>0</td>\n",
       "      <td>1</td>\n",
       "      <td>0</td>\n",
       "      <td>1</td>\n",
       "      <td>0</td>\n",
       "      <td>0</td>\n",
       "      <td>1987.0</td>\n",
       "      <td>20000.0</td>\n",
       "    </tr>\n",
       "    <tr>\n",
       "      <th>1216</th>\n",
       "      <td>toyota</td>\n",
       "      <td>c-hr+</td>\n",
       "      <td>1.8L / 2.0L Hybrid</td>\n",
       "      <td>140198.0</td>\n",
       "      <td>180</td>\n",
       "      <td>nan</td>\n",
       "      <td>33000.0</td>\n",
       "      <td>5</td>\n",
       "      <td>190205.0</td>\n",
       "      <td>0</td>\n",
       "      <td>0</td>\n",
       "      <td>0</td>\n",
       "      <td>0</td>\n",
       "      <td>1</td>\n",
       "      <td>0</td>\n",
       "      <td>0</td>\n",
       "      <td>0</td>\n",
       "      <td>0</td>\n",
       "      <td>1987.0</td>\n",
       "      <td>20000.0</td>\n",
       "    </tr>\n",
       "    <tr>\n",
       "      <th>1217</th>\n",
       "      <td>toyota</td>\n",
       "      <td>rav4 (6th gen)</td>\n",
       "      <td>2.5L Hybrid / Plug-in Hybrid</td>\n",
       "      <td>219302.0</td>\n",
       "      <td>200</td>\n",
       "      <td>nan</td>\n",
       "      <td>36000.0</td>\n",
       "      <td>5</td>\n",
       "      <td>221400.0</td>\n",
       "      <td>0</td>\n",
       "      <td>0</td>\n",
       "      <td>0</td>\n",
       "      <td>0</td>\n",
       "      <td>1</td>\n",
       "      <td>0</td>\n",
       "      <td>0</td>\n",
       "      <td>1</td>\n",
       "      <td>0</td>\n",
       "      <td>2487.0</td>\n",
       "      <td>20000.0</td>\n",
       "    </tr>\n",
       "  </tbody>\n",
       "</table>\n",
       "<p>1213 rows × 20 columns</p>\n",
       "</div>"
      ],
      "text/plain": [
       "     Company Names         Cars Names                             Engines  \\\n",
       "0          ferrari      sf90 stradale                                  V8   \n",
       "1      rolls royce            phantom                                 V12   \n",
       "2             ford                ka+                         1.2L Petrol   \n",
       "3         mercedes            gt 63 s                                  V8   \n",
       "4             audi         audi r8 gt                                 V10   \n",
       "...            ...                ...                                 ...   \n",
       "1213        toyota       crown signia                      2.5L Hybrid I4   \n",
       "1214        toyota  4runner (6th gen)  2.4L Turbo I4 (i-FORCE MAX Hybrid)   \n",
       "1215        toyota      corolla cross              2.0L Gas / 2.0L Hybrid   \n",
       "1216        toyota             c-hr+                   1.8L / 2.0L Hybrid   \n",
       "1217        toyota     rav4 (6th gen)        2.5L Hybrid / Plug-in Hybrid   \n",
       "\n",
       "      HorsePower Total Speed Performance(0 - 100 )KM/H  Cars Prices  Seats  \\\n",
       "0          963.0         340                       2.5    1100000.0      2   \n",
       "1          563.0         250                       5.3     460000.0      5   \n",
       "2           77.5         165                      10.5      13500.0      5   \n",
       "3          630.0         250                       3.2     161000.0      4   \n",
       "4          602.0         320                       3.6     253290.0      2   \n",
       "...          ...         ...                       ...          ...    ...   \n",
       "1213       240.0         180                       7.6      45795.0      5   \n",
       "1214       326.0         180                       6.8      50000.0      7   \n",
       "1215    169196.0         190                       nan      27172.5      5   \n",
       "1216    140198.0         180                       nan      33000.0      5   \n",
       "1217    219302.0         200                       nan      36000.0      5   \n",
       "\n",
       "        Torque  awd  compressed_natural_gas  diesel  electric  hybrid  \\\n",
       "0        800.0    0                       0       0         0       0   \n",
       "1        900.0    0                       0       0         0       0   \n",
       "2        120.0    0                       0       0         0       0   \n",
       "3        900.0    0                       0       0         0       0   \n",
       "4        560.0    0                       0       0         0       0   \n",
       "...        ...  ...                     ...     ...       ...     ...   \n",
       "1213     239.0    0                       0       0         1       1   \n",
       "1214     630.0    0                       0       0         0       1   \n",
       "1215  190210.0    0                       0       0         0       1   \n",
       "1216  190205.0    0                       0       0         0       1   \n",
       "1217  221400.0    0                       0       0         0       1   \n",
       "\n",
       "      hydrogen  petrol  plugin  plugin hybrid  Engine_CC  Battery_W  \n",
       "0            0       0       0              1     3990.0        NaN  \n",
       "1            0       1       0              0     6749.0        NaN  \n",
       "2            0       1       0              0     1200.0        NaN  \n",
       "3            0       1       0              0     3982.0        NaN  \n",
       "4            0       1       0              0     5204.0        NaN  \n",
       "...        ...     ...     ...            ...        ...        ...  \n",
       "1213         0       1       0              0     2487.0        NaN  \n",
       "1214         0       0       0              0     2393.0    20000.0  \n",
       "1215         0       1       0              0     1987.0    20000.0  \n",
       "1216         0       0       0              0     1987.0    20000.0  \n",
       "1217         0       0       1              0     2487.0    20000.0  \n",
       "\n",
       "[1213 rows x 20 columns]"
      ]
     },
     "execution_count": 591,
     "metadata": {},
     "output_type": "execute_result"
    }
   ],
   "source": [
    "df=df.drop('CC/Battery Capacity', axis=1)\n",
    "df"
   ]
  },
  {
   "cell_type": "code",
   "execution_count": 592,
   "metadata": {},
   "outputs": [],
   "source": [
    "import pandas as pd\n",
    "import numpy as np\n",
    "\n",
    "def clean_power_column(power_series):\n",
    "    cleaned = power_series.copy()\n",
    "    cleaned = cleaned.str.replace(r'\\(est\\.\\)', '', regex=True)\n",
    "    cleaned = cleaned.str.extract(r'(\\d+)')[0]\n",
    "    cleaned = pd.to_numeric(cleaned, errors='coerce')\n",
    "    cleaned = cleaned.astype(pd.Int64Dtype()) \n",
    "    return cleaned\n",
    "\n",
    "df['Total Speed'] = clean_power_column(df['Total Speed'])\n",
    "df['Performance(0 - 100 )KM/H'] = clean_power_column(df['Performance(0 - 100 )KM/H'])\n",
    "df['Torque'] = clean_power_column(df['Torque'])"
   ]
  },
  {
   "cell_type": "code",
   "execution_count": 593,
   "metadata": {},
   "outputs": [
    {
     "data": {
      "text/plain": [
       "Company Names                 object\n",
       "Cars Names                    object\n",
       "Engines                       object\n",
       "HorsePower                   float64\n",
       "Total Speed                    Int64\n",
       "Performance(0 - 100 )KM/H      Int64\n",
       "Cars Prices                  float64\n",
       "Seats                          int64\n",
       "Torque                         Int64\n",
       "awd                            int32\n",
       "compressed_natural_gas         int32\n",
       "diesel                         int32\n",
       "electric                       int32\n",
       "hybrid                         int32\n",
       "hydrogen                       int32\n",
       "petrol                         int32\n",
       "plugin                         int32\n",
       "plugin hybrid                  int32\n",
       "Engine_CC                    float64\n",
       "Battery_W                    float64\n",
       "dtype: object"
      ]
     },
     "execution_count": 593,
     "metadata": {},
     "output_type": "execute_result"
    }
   ],
   "source": [
    "df.dtypes"
   ]
  },
  {
   "cell_type": "code",
   "execution_count": 594,
   "metadata": {},
   "outputs": [
    {
     "data": {
      "text/plain": [
       "356"
      ]
     },
     "execution_count": 594,
     "metadata": {},
     "output_type": "execute_result"
    }
   ],
   "source": [
    "df['Engines'].nunique()"
   ]
  },
  {
   "cell_type": "code",
   "execution_count": 595,
   "metadata": {},
   "outputs": [],
   "source": [
    "def clean_engine_type(engine_str):\n",
    "    engine_str = str(engine_str).strip().lower()\n",
    "    engine_str = re.sub(r'\\d+\\.\\d+l', '', engine_str)\n",
    "    engine_str = re.sub(r'[^a-z0-9+]', ' ', engine_str)\n",
    "    \n",
    "    replacements = {\n",
    "        'v8': 'V8',\n",
    "        'v6': 'V6',\n",
    "        'v10': 'V10',\n",
    "        'v12': 'V12',\n",
    "        'i3': 'I3',\n",
    "        'i4': 'I4',\n",
    "        'i6': 'I6',\n",
    "        'boxer4': 'Boxer-4',\n",
    "        'electric': 'Electric',\n",
    "        'hybrid': 'Hybrid',\n",
    "        'turbo': 'Turbo',\n",
    "        'diesel': 'Diesel',\n",
    "        'petrol': 'Petrol',\n",
    "        'hydrogen fuel cell': 'Hydrogen',\n",
    "        'plug in hybrid': 'PHEV',\n",
    "        'wankel': 'Rotary',\n",
    "        'rotary': 'Rotary'\n",
    "    }\n",
    "    \n",
    "    for key, value in replacements.items():\n",
    "        if key in engine_str:\n",
    "            return value\n",
    "        \n",
    "    return engine_str.title() if engine_str else \"Other\"\n",
    "\n",
    "df['Engines'] = df['Engines'].apply(clean_engine_type)"
   ]
  },
  {
   "cell_type": "code",
   "execution_count": 596,
   "metadata": {},
   "outputs": [
    {
     "data": {
      "text/plain": [
       "37"
      ]
     },
     "execution_count": 596,
     "metadata": {},
     "output_type": "execute_result"
    }
   ],
   "source": [
    "df['Engines'].nunique()"
   ]
  },
  {
   "cell_type": "code",
   "execution_count": 597,
   "metadata": {},
   "outputs": [
    {
     "name": "stdout",
     "output_type": "stream",
     "text": [
      "Пропусков в ценах: 1\n"
     ]
    }
   ],
   "source": [
    "print(f\"Пропусков в ценах: {df['Cars Prices'].isna().sum()}\")\n",
    "\n",
    "df = df.dropna(subset=['Cars Prices'])"
   ]
  },
  {
   "cell_type": "code",
   "execution_count": null,
   "metadata": {},
   "outputs": [
    {
     "name": "stderr",
     "output_type": "stream",
     "text": [
      "C:\\Users\\Asus\\AppData\\Local\\Temp\\ipykernel_25084\\3778044951.py:4: SettingWithCopyWarning:\n",
      "\n",
      "\n",
      "A value is trying to be set on a copy of a slice from a DataFrame.\n",
      "Try using .loc[row_indexer,col_indexer] = value instead\n",
      "\n",
      "See the caveats in the documentation: https://pandas.pydata.org/pandas-docs/stable/user_guide/indexing.html#returning-a-view-versus-a-copy\n",
      "\n",
      "C:\\Users\\Asus\\AppData\\Local\\Temp\\ipykernel_25084\\3778044951.py:4: SettingWithCopyWarning:\n",
      "\n",
      "\n",
      "A value is trying to be set on a copy of a slice from a DataFrame.\n",
      "Try using .loc[row_indexer,col_indexer] = value instead\n",
      "\n",
      "See the caveats in the documentation: https://pandas.pydata.org/pandas-docs/stable/user_guide/indexing.html#returning-a-view-versus-a-copy\n",
      "\n",
      "C:\\Users\\Asus\\AppData\\Local\\Temp\\ipykernel_25084\\3778044951.py:4: SettingWithCopyWarning:\n",
      "\n",
      "\n",
      "A value is trying to be set on a copy of a slice from a DataFrame.\n",
      "Try using .loc[row_indexer,col_indexer] = value instead\n",
      "\n",
      "See the caveats in the documentation: https://pandas.pydata.org/pandas-docs/stable/user_guide/indexing.html#returning-a-view-versus-a-copy\n",
      "\n",
      "C:\\Users\\Asus\\AppData\\Local\\Temp\\ipykernel_25084\\3778044951.py:4: SettingWithCopyWarning:\n",
      "\n",
      "\n",
      "A value is trying to be set on a copy of a slice from a DataFrame.\n",
      "Try using .loc[row_indexer,col_indexer] = value instead\n",
      "\n",
      "See the caveats in the documentation: https://pandas.pydata.org/pandas-docs/stable/user_guide/indexing.html#returning-a-view-versus-a-copy\n",
      "\n",
      "C:\\Users\\Asus\\AppData\\Local\\Temp\\ipykernel_25084\\3778044951.py:9: SettingWithCopyWarning:\n",
      "\n",
      "\n",
      "A value is trying to be set on a copy of a slice from a DataFrame.\n",
      "Try using .loc[row_indexer,col_indexer] = value instead\n",
      "\n",
      "See the caveats in the documentation: https://pandas.pydata.org/pandas-docs/stable/user_guide/indexing.html#returning-a-view-versus-a-copy\n",
      "\n"
     ]
    }
   ],
   "source": [
    "numeric_cols = ['HorsePower', 'Total Speed', 'Performance(0 - 100 )KM/H', \n",
    "               'Seats', 'Torque', 'Engine_CC', 'Battery_W']\n",
    "for col in numeric_cols:\n",
    "    df[col] = df[col].fillna(df[col].median())\n",
    "\n",
    "categorical_cols = ['Company Names', 'Cars Names', 'Engines']\n",
    "for col in categorical_cols:\n",
    "    df[col] = df[col].fillna(df[col].mode()[0])"
   ]
  },
  {
   "cell_type": "code",
   "execution_count": null,
   "metadata": {},
   "outputs": [
    {
     "name": "stderr",
     "output_type": "stream",
     "text": [
      "C:\\Users\\Asus\\AppData\\Local\\Temp\\ipykernel_25084\\3979503799.py:2: SettingWithCopyWarning:\n",
      "\n",
      "\n",
      "A value is trying to be set on a copy of a slice from a DataFrame.\n",
      "Try using .loc[row_indexer,col_indexer] = value instead\n",
      "\n",
      "See the caveats in the documentation: https://pandas.pydata.org/pandas-docs/stable/user_guide/indexing.html#returning-a-view-versus-a-copy\n",
      "\n",
      "C:\\Users\\Asus\\AppData\\Local\\Temp\\ipykernel_25084\\3979503799.py:5: SettingWithCopyWarning:\n",
      "\n",
      "\n",
      "A value is trying to be set on a copy of a slice from a DataFrame.\n",
      "Try using .loc[row_indexer,col_indexer] = value instead\n",
      "\n",
      "See the caveats in the documentation: https://pandas.pydata.org/pandas-docs/stable/user_guide/indexing.html#returning-a-view-versus-a-copy\n",
      "\n"
     ]
    }
   ],
   "source": [
    "df['power_to_cc'] = df['HorsePower'] / df['Engine_CC']\n",
    "df['is_luxury'] = (df['Cars Prices'] > df['Cars Prices'].quantile(0.9)).astype(int)"
   ]
  },
  {
   "cell_type": "code",
   "execution_count": null,
   "metadata": {},
   "outputs": [],
   "source": [
    "price_99 = df['Cars Prices'].quantile(0.99)\n",
    "df = df[df['Cars Prices'] <= price_99]\n",
    "df['log_price'] = np.log1p(df['Cars Prices'])\n",
    "y = df['log_price']  "
   ]
  },
  {
   "cell_type": "code",
   "execution_count": null,
   "metadata": {},
   "outputs": [],
   "source": [
    "from category_encoders import TargetEncoder\n",
    "\n",
    "encoder = TargetEncoder()\n",
    "df[categorical_cols] = encoder.fit_transform(df[categorical_cols], df['Cars Prices'])"
   ]
  },
  {
   "cell_type": "markdown",
   "metadata": {},
   "source": [
    "# 📊 | **EDA**"
   ]
  },
  {
   "cell_type": "code",
   "execution_count": 602,
   "metadata": {
    "execution": {
     "iopub.execute_input": "2025-08-09T17:37:53.320655Z",
     "iopub.status.busy": "2025-08-09T17:37:53.320331Z",
     "iopub.status.idle": "2025-08-09T17:37:53.509602Z",
     "shell.execute_reply": "2025-08-09T17:37:53.508781Z",
     "shell.execute_reply.started": "2025-08-09T17:37:53.320630Z"
    },
    "trusted": true
   },
   "outputs": [
    {
     "data": {
      "application/vnd.plotly.v1+json": {
       "config": {
        "plotlyServerURL": "https://plot.ly"
       },
       "data": [
        {
         "alignmentgroup": "True",
         "hovertemplate": "company name=%{x}<br>count=%{marker.color}<extra></extra>",
         "legendgroup": "",
         "marker": {
          "color": [
           159,
           107,
           96,
           85,
           70,
           60,
           59,
           57,
           54,
           53,
           50,
           41,
           40,
           29,
           28,
           27,
           23,
           23,
           21,
           21,
           20,
           19,
           12,
           10,
           10,
           9,
           7,
           3,
           3,
           1,
           1,
           1
          ],
          "coloraxis": "coloraxis",
          "pattern": {
           "shape": ""
          }
         },
         "name": "",
         "offsetgroup": "",
         "orientation": "v",
         "showlegend": false,
         "textposition": "auto",
         "type": "bar",
         "x": [
          59194.60995018559,
          36444.89985951843,
          138360.17837550322,
          24424.13500843022,
          36440.826541682225,
          29762.859732083958,
          63617.06674404859,
          45471.06256338988,
          36843.69492226964,
          55114.81704508523,
          44181.593535983055,
          68657.4628089428,
          73016.43668315354,
          301995.76805570815,
          33308.66761653748,
          68682.41592498265,
          51968.20198205179,
          311156.69054323394,
          81318.75535539226,
          82011.47789277518,
          70890.90617180984,
          66224.77781443812,
          85022.56492085588,
          81601.19416084033,
          194882.54813893873,
          187645.5132142572,
          68843.87035362302,
          70149.5264784721,
          69171.24646627637,
          72694.12139096957,
          112442.2603088654,
          109709.98234724245
         ],
         "xaxis": "x",
         "y": [
          159,
          107,
          96,
          85,
          70,
          60,
          59,
          57,
          54,
          53,
          50,
          41,
          40,
          29,
          28,
          27,
          23,
          23,
          21,
          21,
          20,
          19,
          12,
          10,
          10,
          9,
          7,
          3,
          3,
          1,
          1,
          1
         ],
         "yaxis": "y"
        }
       ],
       "layout": {
        "barmode": "relative",
        "coloraxis": {
         "colorbar": {
          "title": {
           "text": "count"
          }
         },
         "colorscale": [
          [
           0,
           "#440154"
          ],
          [
           0.1111111111111111,
           "#482878"
          ],
          [
           0.2222222222222222,
           "#3e4989"
          ],
          [
           0.3333333333333333,
           "#31688e"
          ],
          [
           0.4444444444444444,
           "#26828e"
          ],
          [
           0.5555555555555556,
           "#1f9e89"
          ],
          [
           0.6666666666666666,
           "#35b779"
          ],
          [
           0.7777777777777778,
           "#6ece58"
          ],
          [
           0.8888888888888888,
           "#b5de2b"
          ],
          [
           1,
           "#fde725"
          ]
         ]
        },
        "font": {
         "color": "white"
        },
        "hovermode": "x unified",
        "legend": {
         "tracegroupgap": 0
        },
        "paper_bgcolor": "#0f1022",
        "plot_bgcolor": "#23233A",
        "template": {
         "data": {
          "bar": [
           {
            "error_x": {
             "color": "#2a3f5f"
            },
            "error_y": {
             "color": "#2a3f5f"
            },
            "marker": {
             "line": {
              "color": "#E5ECF6",
              "width": 0.5
             },
             "pattern": {
              "fillmode": "overlay",
              "size": 10,
              "solidity": 0.2
             }
            },
            "type": "bar"
           }
          ],
          "barpolar": [
           {
            "marker": {
             "line": {
              "color": "#E5ECF6",
              "width": 0.5
             },
             "pattern": {
              "fillmode": "overlay",
              "size": 10,
              "solidity": 0.2
             }
            },
            "type": "barpolar"
           }
          ],
          "carpet": [
           {
            "aaxis": {
             "endlinecolor": "#2a3f5f",
             "gridcolor": "white",
             "linecolor": "white",
             "minorgridcolor": "white",
             "startlinecolor": "#2a3f5f"
            },
            "baxis": {
             "endlinecolor": "#2a3f5f",
             "gridcolor": "white",
             "linecolor": "white",
             "minorgridcolor": "white",
             "startlinecolor": "#2a3f5f"
            },
            "type": "carpet"
           }
          ],
          "choropleth": [
           {
            "colorbar": {
             "outlinewidth": 0,
             "ticks": ""
            },
            "type": "choropleth"
           }
          ],
          "contour": [
           {
            "colorbar": {
             "outlinewidth": 0,
             "ticks": ""
            },
            "colorscale": [
             [
              0,
              "#0d0887"
             ],
             [
              0.1111111111111111,
              "#46039f"
             ],
             [
              0.2222222222222222,
              "#7201a8"
             ],
             [
              0.3333333333333333,
              "#9c179e"
             ],
             [
              0.4444444444444444,
              "#bd3786"
             ],
             [
              0.5555555555555556,
              "#d8576b"
             ],
             [
              0.6666666666666666,
              "#ed7953"
             ],
             [
              0.7777777777777778,
              "#fb9f3a"
             ],
             [
              0.8888888888888888,
              "#fdca26"
             ],
             [
              1,
              "#f0f921"
             ]
            ],
            "type": "contour"
           }
          ],
          "contourcarpet": [
           {
            "colorbar": {
             "outlinewidth": 0,
             "ticks": ""
            },
            "type": "contourcarpet"
           }
          ],
          "heatmap": [
           {
            "colorbar": {
             "outlinewidth": 0,
             "ticks": ""
            },
            "colorscale": [
             [
              0,
              "#0d0887"
             ],
             [
              0.1111111111111111,
              "#46039f"
             ],
             [
              0.2222222222222222,
              "#7201a8"
             ],
             [
              0.3333333333333333,
              "#9c179e"
             ],
             [
              0.4444444444444444,
              "#bd3786"
             ],
             [
              0.5555555555555556,
              "#d8576b"
             ],
             [
              0.6666666666666666,
              "#ed7953"
             ],
             [
              0.7777777777777778,
              "#fb9f3a"
             ],
             [
              0.8888888888888888,
              "#fdca26"
             ],
             [
              1,
              "#f0f921"
             ]
            ],
            "type": "heatmap"
           }
          ],
          "heatmapgl": [
           {
            "colorbar": {
             "outlinewidth": 0,
             "ticks": ""
            },
            "colorscale": [
             [
              0,
              "#0d0887"
             ],
             [
              0.1111111111111111,
              "#46039f"
             ],
             [
              0.2222222222222222,
              "#7201a8"
             ],
             [
              0.3333333333333333,
              "#9c179e"
             ],
             [
              0.4444444444444444,
              "#bd3786"
             ],
             [
              0.5555555555555556,
              "#d8576b"
             ],
             [
              0.6666666666666666,
              "#ed7953"
             ],
             [
              0.7777777777777778,
              "#fb9f3a"
             ],
             [
              0.8888888888888888,
              "#fdca26"
             ],
             [
              1,
              "#f0f921"
             ]
            ],
            "type": "heatmapgl"
           }
          ],
          "histogram": [
           {
            "marker": {
             "pattern": {
              "fillmode": "overlay",
              "size": 10,
              "solidity": 0.2
             }
            },
            "type": "histogram"
           }
          ],
          "histogram2d": [
           {
            "colorbar": {
             "outlinewidth": 0,
             "ticks": ""
            },
            "colorscale": [
             [
              0,
              "#0d0887"
             ],
             [
              0.1111111111111111,
              "#46039f"
             ],
             [
              0.2222222222222222,
              "#7201a8"
             ],
             [
              0.3333333333333333,
              "#9c179e"
             ],
             [
              0.4444444444444444,
              "#bd3786"
             ],
             [
              0.5555555555555556,
              "#d8576b"
             ],
             [
              0.6666666666666666,
              "#ed7953"
             ],
             [
              0.7777777777777778,
              "#fb9f3a"
             ],
             [
              0.8888888888888888,
              "#fdca26"
             ],
             [
              1,
              "#f0f921"
             ]
            ],
            "type": "histogram2d"
           }
          ],
          "histogram2dcontour": [
           {
            "colorbar": {
             "outlinewidth": 0,
             "ticks": ""
            },
            "colorscale": [
             [
              0,
              "#0d0887"
             ],
             [
              0.1111111111111111,
              "#46039f"
             ],
             [
              0.2222222222222222,
              "#7201a8"
             ],
             [
              0.3333333333333333,
              "#9c179e"
             ],
             [
              0.4444444444444444,
              "#bd3786"
             ],
             [
              0.5555555555555556,
              "#d8576b"
             ],
             [
              0.6666666666666666,
              "#ed7953"
             ],
             [
              0.7777777777777778,
              "#fb9f3a"
             ],
             [
              0.8888888888888888,
              "#fdca26"
             ],
             [
              1,
              "#f0f921"
             ]
            ],
            "type": "histogram2dcontour"
           }
          ],
          "mesh3d": [
           {
            "colorbar": {
             "outlinewidth": 0,
             "ticks": ""
            },
            "type": "mesh3d"
           }
          ],
          "parcoords": [
           {
            "line": {
             "colorbar": {
              "outlinewidth": 0,
              "ticks": ""
             }
            },
            "type": "parcoords"
           }
          ],
          "pie": [
           {
            "automargin": true,
            "type": "pie"
           }
          ],
          "scatter": [
           {
            "fillpattern": {
             "fillmode": "overlay",
             "size": 10,
             "solidity": 0.2
            },
            "type": "scatter"
           }
          ],
          "scatter3d": [
           {
            "line": {
             "colorbar": {
              "outlinewidth": 0,
              "ticks": ""
             }
            },
            "marker": {
             "colorbar": {
              "outlinewidth": 0,
              "ticks": ""
             }
            },
            "type": "scatter3d"
           }
          ],
          "scattercarpet": [
           {
            "marker": {
             "colorbar": {
              "outlinewidth": 0,
              "ticks": ""
             }
            },
            "type": "scattercarpet"
           }
          ],
          "scattergeo": [
           {
            "marker": {
             "colorbar": {
              "outlinewidth": 0,
              "ticks": ""
             }
            },
            "type": "scattergeo"
           }
          ],
          "scattergl": [
           {
            "marker": {
             "colorbar": {
              "outlinewidth": 0,
              "ticks": ""
             }
            },
            "type": "scattergl"
           }
          ],
          "scattermapbox": [
           {
            "marker": {
             "colorbar": {
              "outlinewidth": 0,
              "ticks": ""
             }
            },
            "type": "scattermapbox"
           }
          ],
          "scatterpolar": [
           {
            "marker": {
             "colorbar": {
              "outlinewidth": 0,
              "ticks": ""
             }
            },
            "type": "scatterpolar"
           }
          ],
          "scatterpolargl": [
           {
            "marker": {
             "colorbar": {
              "outlinewidth": 0,
              "ticks": ""
             }
            },
            "type": "scatterpolargl"
           }
          ],
          "scatterternary": [
           {
            "marker": {
             "colorbar": {
              "outlinewidth": 0,
              "ticks": ""
             }
            },
            "type": "scatterternary"
           }
          ],
          "surface": [
           {
            "colorbar": {
             "outlinewidth": 0,
             "ticks": ""
            },
            "colorscale": [
             [
              0,
              "#0d0887"
             ],
             [
              0.1111111111111111,
              "#46039f"
             ],
             [
              0.2222222222222222,
              "#7201a8"
             ],
             [
              0.3333333333333333,
              "#9c179e"
             ],
             [
              0.4444444444444444,
              "#bd3786"
             ],
             [
              0.5555555555555556,
              "#d8576b"
             ],
             [
              0.6666666666666666,
              "#ed7953"
             ],
             [
              0.7777777777777778,
              "#fb9f3a"
             ],
             [
              0.8888888888888888,
              "#fdca26"
             ],
             [
              1,
              "#f0f921"
             ]
            ],
            "type": "surface"
           }
          ],
          "table": [
           {
            "cells": {
             "fill": {
              "color": "#EBF0F8"
             },
             "line": {
              "color": "white"
             }
            },
            "header": {
             "fill": {
              "color": "#C8D4E3"
             },
             "line": {
              "color": "white"
             }
            },
            "type": "table"
           }
          ]
         },
         "layout": {
          "annotationdefaults": {
           "arrowcolor": "#2a3f5f",
           "arrowhead": 0,
           "arrowwidth": 1
          },
          "autotypenumbers": "strict",
          "coloraxis": {
           "colorbar": {
            "outlinewidth": 0,
            "ticks": ""
           }
          },
          "colorscale": {
           "diverging": [
            [
             0,
             "#8e0152"
            ],
            [
             0.1,
             "#c51b7d"
            ],
            [
             0.2,
             "#de77ae"
            ],
            [
             0.3,
             "#f1b6da"
            ],
            [
             0.4,
             "#fde0ef"
            ],
            [
             0.5,
             "#f7f7f7"
            ],
            [
             0.6,
             "#e6f5d0"
            ],
            [
             0.7,
             "#b8e186"
            ],
            [
             0.8,
             "#7fbc41"
            ],
            [
             0.9,
             "#4d9221"
            ],
            [
             1,
             "#276419"
            ]
           ],
           "sequential": [
            [
             0,
             "#0d0887"
            ],
            [
             0.1111111111111111,
             "#46039f"
            ],
            [
             0.2222222222222222,
             "#7201a8"
            ],
            [
             0.3333333333333333,
             "#9c179e"
            ],
            [
             0.4444444444444444,
             "#bd3786"
            ],
            [
             0.5555555555555556,
             "#d8576b"
            ],
            [
             0.6666666666666666,
             "#ed7953"
            ],
            [
             0.7777777777777778,
             "#fb9f3a"
            ],
            [
             0.8888888888888888,
             "#fdca26"
            ],
            [
             1,
             "#f0f921"
            ]
           ],
           "sequentialminus": [
            [
             0,
             "#0d0887"
            ],
            [
             0.1111111111111111,
             "#46039f"
            ],
            [
             0.2222222222222222,
             "#7201a8"
            ],
            [
             0.3333333333333333,
             "#9c179e"
            ],
            [
             0.4444444444444444,
             "#bd3786"
            ],
            [
             0.5555555555555556,
             "#d8576b"
            ],
            [
             0.6666666666666666,
             "#ed7953"
            ],
            [
             0.7777777777777778,
             "#fb9f3a"
            ],
            [
             0.8888888888888888,
             "#fdca26"
            ],
            [
             1,
             "#f0f921"
            ]
           ]
          },
          "colorway": [
           "#636efa",
           "#EF553B",
           "#00cc96",
           "#ab63fa",
           "#FFA15A",
           "#19d3f3",
           "#FF6692",
           "#B6E880",
           "#FF97FF",
           "#FECB52"
          ],
          "font": {
           "color": "#2a3f5f"
          },
          "geo": {
           "bgcolor": "white",
           "lakecolor": "white",
           "landcolor": "#E5ECF6",
           "showlakes": true,
           "showland": true,
           "subunitcolor": "white"
          },
          "hoverlabel": {
           "align": "left"
          },
          "hovermode": "closest",
          "mapbox": {
           "style": "light"
          },
          "paper_bgcolor": "white",
          "plot_bgcolor": "#E5ECF6",
          "polar": {
           "angularaxis": {
            "gridcolor": "white",
            "linecolor": "white",
            "ticks": ""
           },
           "bgcolor": "#E5ECF6",
           "radialaxis": {
            "gridcolor": "white",
            "linecolor": "white",
            "ticks": ""
           }
          },
          "scene": {
           "xaxis": {
            "backgroundcolor": "#E5ECF6",
            "gridcolor": "white",
            "gridwidth": 2,
            "linecolor": "white",
            "showbackground": true,
            "ticks": "",
            "zerolinecolor": "white"
           },
           "yaxis": {
            "backgroundcolor": "#E5ECF6",
            "gridcolor": "white",
            "gridwidth": 2,
            "linecolor": "white",
            "showbackground": true,
            "ticks": "",
            "zerolinecolor": "white"
           },
           "zaxis": {
            "backgroundcolor": "#E5ECF6",
            "gridcolor": "white",
            "gridwidth": 2,
            "linecolor": "white",
            "showbackground": true,
            "ticks": "",
            "zerolinecolor": "white"
           }
          },
          "shapedefaults": {
           "line": {
            "color": "#2a3f5f"
           }
          },
          "ternary": {
           "aaxis": {
            "gridcolor": "white",
            "linecolor": "white",
            "ticks": ""
           },
           "baxis": {
            "gridcolor": "white",
            "linecolor": "white",
            "ticks": ""
           },
           "bgcolor": "#E5ECF6",
           "caxis": {
            "gridcolor": "white",
            "linecolor": "white",
            "ticks": ""
           }
          },
          "title": {
           "x": 0.05
          },
          "xaxis": {
           "automargin": true,
           "gridcolor": "white",
           "linecolor": "white",
           "ticks": "",
           "title": {
            "standoff": 15
           },
           "zerolinecolor": "white",
           "zerolinewidth": 2
          },
          "yaxis": {
           "automargin": true,
           "gridcolor": "white",
           "linecolor": "white",
           "ticks": "",
           "title": {
            "standoff": 15
           },
           "zerolinecolor": "white",
           "zerolinewidth": 2
          }
         }
        },
        "title": {
         "text": "Number of cars by company"
        },
        "xaxis": {
         "anchor": "y",
         "domain": [
          0,
          1
         ],
         "tickangle": -45,
         "title": {
          "text": "company name"
         }
        },
        "yaxis": {
         "anchor": "x",
         "domain": [
          0,
          1
         ],
         "title": {
          "text": "count"
         }
        }
       }
      }
     },
     "metadata": {},
     "output_type": "display_data"
    }
   ],
   "source": [
    "company_counts = df['Company Names'].value_counts().reset_index()\n",
    "company_counts.columns = ['Company Names', 'count'] \n",
    "\n",
    "fig = px.bar(\n",
    "    company_counts,\n",
    "    x='Company Names',\n",
    "    y='count', \n",
    "    title='Number of cars by company',\n",
    "    labels={'Company Names': 'company name', 'count': 'count'},\n",
    "    color='count',\n",
    "    color_continuous_scale='Viridis'\n",
    ")\n",
    "\n",
    "fig.update_layout(\n",
    "    xaxis_tickangle=-45,\n",
    "    hovermode='x unified',\n",
    "    plot_bgcolor='white',\n",
    ")\n",
    "\n",
    "fig.update_layout(\n",
    "    plot_bgcolor=\"#23233A\",  \n",
    "    paper_bgcolor=\"#0f1022\", \n",
    "    font=dict(color='white'))\n",
    "fig.show()"
   ]
  },
  {
   "cell_type": "code",
   "execution_count": 603,
   "metadata": {},
   "outputs": [
    {
     "data": {
      "application/vnd.plotly.v1+json": {
       "config": {
        "plotlyServerURL": "https://plot.ly"
       },
       "data": [
        {
         "alignmentgroup": "True",
         "hovertemplate": "seats=%{x}<br>count=%{marker.color}<extra></extra>",
         "legendgroup": "",
         "marker": {
          "color": [
           689,
           165,
           146,
           130,
           29,
           20,
           14,
           2,
           1,
           1,
           1,
           1
          ],
          "coloraxis": "coloraxis",
          "pattern": {
           "shape": ""
          }
         },
         "name": "",
         "offsetgroup": "",
         "orientation": "v",
         "showlegend": false,
         "textposition": "auto",
         "type": "bar",
         "x": [
          5,
          4,
          7,
          2,
          8,
          6,
          3,
          1,
          20,
          15,
          12,
          9
         ],
         "xaxis": "x",
         "y": [
          689,
          165,
          146,
          130,
          29,
          20,
          14,
          2,
          1,
          1,
          1,
          1
         ],
         "yaxis": "y"
        }
       ],
       "layout": {
        "barmode": "relative",
        "coloraxis": {
         "colorbar": {
          "title": {
           "text": "count"
          }
         },
         "colorscale": [
          [
           0,
           "#0508b8"
          ],
          [
           0.08333333333333333,
           "#1910d8"
          ],
          [
           0.16666666666666666,
           "#3c19f0"
          ],
          [
           0.25,
           "#6b1cfb"
          ],
          [
           0.3333333333333333,
           "#981cfd"
          ],
          [
           0.4166666666666667,
           "#bf1cfd"
          ],
          [
           0.5,
           "#dd2bfd"
          ],
          [
           0.5833333333333334,
           "#f246fe"
          ],
          [
           0.6666666666666666,
           "#fc67fd"
          ],
          [
           0.75,
           "#fe88fc"
          ],
          [
           0.8333333333333334,
           "#fea5fd"
          ],
          [
           0.9166666666666666,
           "#febefe"
          ],
          [
           1,
           "#fec3fe"
          ]
         ]
        },
        "font": {
         "color": "white"
        },
        "legend": {
         "tracegroupgap": 0
        },
        "paper_bgcolor": "#101021",
        "plot_bgcolor": "#252640",
        "template": {
         "data": {
          "bar": [
           {
            "error_x": {
             "color": "#2a3f5f"
            },
            "error_y": {
             "color": "#2a3f5f"
            },
            "marker": {
             "line": {
              "color": "#E5ECF6",
              "width": 0.5
             },
             "pattern": {
              "fillmode": "overlay",
              "size": 10,
              "solidity": 0.2
             }
            },
            "type": "bar"
           }
          ],
          "barpolar": [
           {
            "marker": {
             "line": {
              "color": "#E5ECF6",
              "width": 0.5
             },
             "pattern": {
              "fillmode": "overlay",
              "size": 10,
              "solidity": 0.2
             }
            },
            "type": "barpolar"
           }
          ],
          "carpet": [
           {
            "aaxis": {
             "endlinecolor": "#2a3f5f",
             "gridcolor": "white",
             "linecolor": "white",
             "minorgridcolor": "white",
             "startlinecolor": "#2a3f5f"
            },
            "baxis": {
             "endlinecolor": "#2a3f5f",
             "gridcolor": "white",
             "linecolor": "white",
             "minorgridcolor": "white",
             "startlinecolor": "#2a3f5f"
            },
            "type": "carpet"
           }
          ],
          "choropleth": [
           {
            "colorbar": {
             "outlinewidth": 0,
             "ticks": ""
            },
            "type": "choropleth"
           }
          ],
          "contour": [
           {
            "colorbar": {
             "outlinewidth": 0,
             "ticks": ""
            },
            "colorscale": [
             [
              0,
              "#0d0887"
             ],
             [
              0.1111111111111111,
              "#46039f"
             ],
             [
              0.2222222222222222,
              "#7201a8"
             ],
             [
              0.3333333333333333,
              "#9c179e"
             ],
             [
              0.4444444444444444,
              "#bd3786"
             ],
             [
              0.5555555555555556,
              "#d8576b"
             ],
             [
              0.6666666666666666,
              "#ed7953"
             ],
             [
              0.7777777777777778,
              "#fb9f3a"
             ],
             [
              0.8888888888888888,
              "#fdca26"
             ],
             [
              1,
              "#f0f921"
             ]
            ],
            "type": "contour"
           }
          ],
          "contourcarpet": [
           {
            "colorbar": {
             "outlinewidth": 0,
             "ticks": ""
            },
            "type": "contourcarpet"
           }
          ],
          "heatmap": [
           {
            "colorbar": {
             "outlinewidth": 0,
             "ticks": ""
            },
            "colorscale": [
             [
              0,
              "#0d0887"
             ],
             [
              0.1111111111111111,
              "#46039f"
             ],
             [
              0.2222222222222222,
              "#7201a8"
             ],
             [
              0.3333333333333333,
              "#9c179e"
             ],
             [
              0.4444444444444444,
              "#bd3786"
             ],
             [
              0.5555555555555556,
              "#d8576b"
             ],
             [
              0.6666666666666666,
              "#ed7953"
             ],
             [
              0.7777777777777778,
              "#fb9f3a"
             ],
             [
              0.8888888888888888,
              "#fdca26"
             ],
             [
              1,
              "#f0f921"
             ]
            ],
            "type": "heatmap"
           }
          ],
          "heatmapgl": [
           {
            "colorbar": {
             "outlinewidth": 0,
             "ticks": ""
            },
            "colorscale": [
             [
              0,
              "#0d0887"
             ],
             [
              0.1111111111111111,
              "#46039f"
             ],
             [
              0.2222222222222222,
              "#7201a8"
             ],
             [
              0.3333333333333333,
              "#9c179e"
             ],
             [
              0.4444444444444444,
              "#bd3786"
             ],
             [
              0.5555555555555556,
              "#d8576b"
             ],
             [
              0.6666666666666666,
              "#ed7953"
             ],
             [
              0.7777777777777778,
              "#fb9f3a"
             ],
             [
              0.8888888888888888,
              "#fdca26"
             ],
             [
              1,
              "#f0f921"
             ]
            ],
            "type": "heatmapgl"
           }
          ],
          "histogram": [
           {
            "marker": {
             "pattern": {
              "fillmode": "overlay",
              "size": 10,
              "solidity": 0.2
             }
            },
            "type": "histogram"
           }
          ],
          "histogram2d": [
           {
            "colorbar": {
             "outlinewidth": 0,
             "ticks": ""
            },
            "colorscale": [
             [
              0,
              "#0d0887"
             ],
             [
              0.1111111111111111,
              "#46039f"
             ],
             [
              0.2222222222222222,
              "#7201a8"
             ],
             [
              0.3333333333333333,
              "#9c179e"
             ],
             [
              0.4444444444444444,
              "#bd3786"
             ],
             [
              0.5555555555555556,
              "#d8576b"
             ],
             [
              0.6666666666666666,
              "#ed7953"
             ],
             [
              0.7777777777777778,
              "#fb9f3a"
             ],
             [
              0.8888888888888888,
              "#fdca26"
             ],
             [
              1,
              "#f0f921"
             ]
            ],
            "type": "histogram2d"
           }
          ],
          "histogram2dcontour": [
           {
            "colorbar": {
             "outlinewidth": 0,
             "ticks": ""
            },
            "colorscale": [
             [
              0,
              "#0d0887"
             ],
             [
              0.1111111111111111,
              "#46039f"
             ],
             [
              0.2222222222222222,
              "#7201a8"
             ],
             [
              0.3333333333333333,
              "#9c179e"
             ],
             [
              0.4444444444444444,
              "#bd3786"
             ],
             [
              0.5555555555555556,
              "#d8576b"
             ],
             [
              0.6666666666666666,
              "#ed7953"
             ],
             [
              0.7777777777777778,
              "#fb9f3a"
             ],
             [
              0.8888888888888888,
              "#fdca26"
             ],
             [
              1,
              "#f0f921"
             ]
            ],
            "type": "histogram2dcontour"
           }
          ],
          "mesh3d": [
           {
            "colorbar": {
             "outlinewidth": 0,
             "ticks": ""
            },
            "type": "mesh3d"
           }
          ],
          "parcoords": [
           {
            "line": {
             "colorbar": {
              "outlinewidth": 0,
              "ticks": ""
             }
            },
            "type": "parcoords"
           }
          ],
          "pie": [
           {
            "automargin": true,
            "type": "pie"
           }
          ],
          "scatter": [
           {
            "fillpattern": {
             "fillmode": "overlay",
             "size": 10,
             "solidity": 0.2
            },
            "type": "scatter"
           }
          ],
          "scatter3d": [
           {
            "line": {
             "colorbar": {
              "outlinewidth": 0,
              "ticks": ""
             }
            },
            "marker": {
             "colorbar": {
              "outlinewidth": 0,
              "ticks": ""
             }
            },
            "type": "scatter3d"
           }
          ],
          "scattercarpet": [
           {
            "marker": {
             "colorbar": {
              "outlinewidth": 0,
              "ticks": ""
             }
            },
            "type": "scattercarpet"
           }
          ],
          "scattergeo": [
           {
            "marker": {
             "colorbar": {
              "outlinewidth": 0,
              "ticks": ""
             }
            },
            "type": "scattergeo"
           }
          ],
          "scattergl": [
           {
            "marker": {
             "colorbar": {
              "outlinewidth": 0,
              "ticks": ""
             }
            },
            "type": "scattergl"
           }
          ],
          "scattermapbox": [
           {
            "marker": {
             "colorbar": {
              "outlinewidth": 0,
              "ticks": ""
             }
            },
            "type": "scattermapbox"
           }
          ],
          "scatterpolar": [
           {
            "marker": {
             "colorbar": {
              "outlinewidth": 0,
              "ticks": ""
             }
            },
            "type": "scatterpolar"
           }
          ],
          "scatterpolargl": [
           {
            "marker": {
             "colorbar": {
              "outlinewidth": 0,
              "ticks": ""
             }
            },
            "type": "scatterpolargl"
           }
          ],
          "scatterternary": [
           {
            "marker": {
             "colorbar": {
              "outlinewidth": 0,
              "ticks": ""
             }
            },
            "type": "scatterternary"
           }
          ],
          "surface": [
           {
            "colorbar": {
             "outlinewidth": 0,
             "ticks": ""
            },
            "colorscale": [
             [
              0,
              "#0d0887"
             ],
             [
              0.1111111111111111,
              "#46039f"
             ],
             [
              0.2222222222222222,
              "#7201a8"
             ],
             [
              0.3333333333333333,
              "#9c179e"
             ],
             [
              0.4444444444444444,
              "#bd3786"
             ],
             [
              0.5555555555555556,
              "#d8576b"
             ],
             [
              0.6666666666666666,
              "#ed7953"
             ],
             [
              0.7777777777777778,
              "#fb9f3a"
             ],
             [
              0.8888888888888888,
              "#fdca26"
             ],
             [
              1,
              "#f0f921"
             ]
            ],
            "type": "surface"
           }
          ],
          "table": [
           {
            "cells": {
             "fill": {
              "color": "#EBF0F8"
             },
             "line": {
              "color": "white"
             }
            },
            "header": {
             "fill": {
              "color": "#C8D4E3"
             },
             "line": {
              "color": "white"
             }
            },
            "type": "table"
           }
          ]
         },
         "layout": {
          "annotationdefaults": {
           "arrowcolor": "#2a3f5f",
           "arrowhead": 0,
           "arrowwidth": 1
          },
          "autotypenumbers": "strict",
          "coloraxis": {
           "colorbar": {
            "outlinewidth": 0,
            "ticks": ""
           }
          },
          "colorscale": {
           "diverging": [
            [
             0,
             "#8e0152"
            ],
            [
             0.1,
             "#c51b7d"
            ],
            [
             0.2,
             "#de77ae"
            ],
            [
             0.3,
             "#f1b6da"
            ],
            [
             0.4,
             "#fde0ef"
            ],
            [
             0.5,
             "#f7f7f7"
            ],
            [
             0.6,
             "#e6f5d0"
            ],
            [
             0.7,
             "#b8e186"
            ],
            [
             0.8,
             "#7fbc41"
            ],
            [
             0.9,
             "#4d9221"
            ],
            [
             1,
             "#276419"
            ]
           ],
           "sequential": [
            [
             0,
             "#0d0887"
            ],
            [
             0.1111111111111111,
             "#46039f"
            ],
            [
             0.2222222222222222,
             "#7201a8"
            ],
            [
             0.3333333333333333,
             "#9c179e"
            ],
            [
             0.4444444444444444,
             "#bd3786"
            ],
            [
             0.5555555555555556,
             "#d8576b"
            ],
            [
             0.6666666666666666,
             "#ed7953"
            ],
            [
             0.7777777777777778,
             "#fb9f3a"
            ],
            [
             0.8888888888888888,
             "#fdca26"
            ],
            [
             1,
             "#f0f921"
            ]
           ],
           "sequentialminus": [
            [
             0,
             "#0d0887"
            ],
            [
             0.1111111111111111,
             "#46039f"
            ],
            [
             0.2222222222222222,
             "#7201a8"
            ],
            [
             0.3333333333333333,
             "#9c179e"
            ],
            [
             0.4444444444444444,
             "#bd3786"
            ],
            [
             0.5555555555555556,
             "#d8576b"
            ],
            [
             0.6666666666666666,
             "#ed7953"
            ],
            [
             0.7777777777777778,
             "#fb9f3a"
            ],
            [
             0.8888888888888888,
             "#fdca26"
            ],
            [
             1,
             "#f0f921"
            ]
           ]
          },
          "colorway": [
           "#636efa",
           "#EF553B",
           "#00cc96",
           "#ab63fa",
           "#FFA15A",
           "#19d3f3",
           "#FF6692",
           "#B6E880",
           "#FF97FF",
           "#FECB52"
          ],
          "font": {
           "color": "#2a3f5f"
          },
          "geo": {
           "bgcolor": "white",
           "lakecolor": "white",
           "landcolor": "#E5ECF6",
           "showlakes": true,
           "showland": true,
           "subunitcolor": "white"
          },
          "hoverlabel": {
           "align": "left"
          },
          "hovermode": "closest",
          "mapbox": {
           "style": "light"
          },
          "paper_bgcolor": "white",
          "plot_bgcolor": "#E5ECF6",
          "polar": {
           "angularaxis": {
            "gridcolor": "white",
            "linecolor": "white",
            "ticks": ""
           },
           "bgcolor": "#E5ECF6",
           "radialaxis": {
            "gridcolor": "white",
            "linecolor": "white",
            "ticks": ""
           }
          },
          "scene": {
           "xaxis": {
            "backgroundcolor": "#E5ECF6",
            "gridcolor": "white",
            "gridwidth": 2,
            "linecolor": "white",
            "showbackground": true,
            "ticks": "",
            "zerolinecolor": "white"
           },
           "yaxis": {
            "backgroundcolor": "#E5ECF6",
            "gridcolor": "white",
            "gridwidth": 2,
            "linecolor": "white",
            "showbackground": true,
            "ticks": "",
            "zerolinecolor": "white"
           },
           "zaxis": {
            "backgroundcolor": "#E5ECF6",
            "gridcolor": "white",
            "gridwidth": 2,
            "linecolor": "white",
            "showbackground": true,
            "ticks": "",
            "zerolinecolor": "white"
           }
          },
          "shapedefaults": {
           "line": {
            "color": "#2a3f5f"
           }
          },
          "ternary": {
           "aaxis": {
            "gridcolor": "white",
            "linecolor": "white",
            "ticks": ""
           },
           "baxis": {
            "gridcolor": "white",
            "linecolor": "white",
            "ticks": ""
           },
           "bgcolor": "#E5ECF6",
           "caxis": {
            "gridcolor": "white",
            "linecolor": "white",
            "ticks": ""
           }
          },
          "title": {
           "x": 0.05
          },
          "xaxis": {
           "automargin": true,
           "gridcolor": "white",
           "linecolor": "white",
           "ticks": "",
           "title": {
            "standoff": 15
           },
           "zerolinecolor": "white",
           "zerolinewidth": 2
          },
          "yaxis": {
           "automargin": true,
           "gridcolor": "white",
           "linecolor": "white",
           "ticks": "",
           "title": {
            "standoff": 15
           },
           "zerolinecolor": "white",
           "zerolinewidth": 2
          }
         }
        },
        "title": {
         "text": "Number of cars by seats"
        },
        "xaxis": {
         "anchor": "y",
         "domain": [
          0,
          1
         ],
         "title": {
          "text": "seats"
         }
        },
        "yaxis": {
         "anchor": "x",
         "domain": [
          0,
          1
         ],
         "title": {
          "text": "count"
         }
        }
       }
      }
     },
     "metadata": {},
     "output_type": "display_data"
    }
   ],
   "source": [
    "company_counts = df['Seats'].value_counts().reset_index()\n",
    "company_counts.columns = ['Seats', 'count'] \n",
    "company_counts = company_counts.sort_values('count', ascending=False)\n",
    "\n",
    "fig = px.bar(\n",
    "    company_counts,\n",
    "    x='Seats',\n",
    "    y='count', \n",
    "    title='Number of cars by seats',\n",
    "    labels={'Seats': 'seats', 'count': 'count'},\n",
    "    color='count',\n",
    "    color_continuous_scale='plotly3'\n",
    ")\n",
    "fig.update_layout(\n",
    "    plot_bgcolor=\"#252640\",  \n",
    "    paper_bgcolor=\"#101021\", \n",
    "    font=dict(color='white'))\n",
    "fig.show()"
   ]
  },
  {
   "cell_type": "code",
   "execution_count": 604,
   "metadata": {},
   "outputs": [
    {
     "data": {
      "application/vnd.plotly.v1+json": {
       "config": {
        "plotlyServerURL": "https://plot.ly"
       },
       "data": [
        {
         "alignmentgroup": "True",
         "hovertemplate": "Cars Prices=%{y}<extra></extra>",
         "legendgroup": "",
         "marker": {
          "color": "#636efa"
         },
         "name": "",
         "notched": false,
         "offsetgroup": "",
         "orientation": "v",
         "showlegend": false,
         "type": "box",
         "x0": " ",
         "xaxis": "x",
         "y": [
          1100000,
          460000,
          13500,
          161000,
          253290,
          499000,
          193440,
          311000,
          280000,
          350000,
          210000,
          230000,
          1700000,
          280000,
          220000,
          240000,
          53900,
          27000,
          30000,
          85000,
          50000,
          113000,
          30000,
          40000,
          25000,
          35000,
          20000,
          28000,
          35000,
          30000,
          40000,
          1100000,
          316000,
          208000,
          142000,
          189000,
          240000,
          294000,
          1100000,
          1300000,
          2800000,
          518000,
          274000,
          261000,
          493000,
          211000,
          287000,
          445000,
          308000,
          421000,
          287000,
          242000,
          545000,
          258000,
          573000,
          263000,
          327000,
          545000,
          273000,
          603000,
          253000,
          342000,
          573000,
          332000,
          330000,
          360000,
          325000,
          500000,
          370000,
          360000,
          390000,
          350000,
          450000,
          340000,
          330000,
          380000,
          320000,
          116000,
          104000,
          53000,
          113000,
          109000,
          62000,
          70000,
          99000,
          63000,
          53000,
          52000,
          49000,
          53000,
          54000,
          48000,
          46000,
          71000,
          90000,
          102000,
          200000,
          142000,
          133000,
          76000,
          83000,
          114000,
          69000,
          146000,
          108000,
          398000,
          381000,
          475000,
          335000,
          349000,
          495000,
          355000,
          369000,
          418000,
          401000,
          515000,
          375000,
          389000,
          439000,
          421000,
          194000,
          114000,
          101000,
          109000,
          96000,
          86000,
          64000,
          62000,
          59000,
          52000,
          60000,
          43000,
          68000,
          58000,
          45000,
          39000,
          35000,
          75000,
          78000,
          49000,
          165000,
          45000,
          57000,
          48000,
          81000,
          57000,
          78000,
          32000,
          42000,
          30000,
          30000,
          38000,
          28000,
          34000,
          37000,
          42000,
          27000,
          26000,
          44000,
          34000,
          30000,
          35000,
          37000,
          39000,
          29000,
          31000,
          39000,
          36000,
          36000,
          40000,
          28000,
          35000,
          60000,
          55000,
          60000,
          27000,
          30000,
          32000,
          36000,
          33000,
          44000,
          41000,
          26000,
          38000,
          29000,
          32500,
          28000,
          29400,
          37000,
          42000,
          36000,
          38000,
          40000,
          26500,
          30000,
          40000,
          26350,
          27000,
          22500,
          26700,
          27100,
          38400,
          37400,
          26400,
          39900,
          41400,
          52400,
          44150,
          33400,
          40400,
          49400,
          43400,
          18400,
          24400,
          43400,
          38400,
          29000,
          25000,
          15400,
          20400,
          12400,
          15400,
          18400,
          18400,
          16400,
          20400,
          10400,
          11400,
          14400,
          31100,
          36995,
          58500,
          56000,
          25390,
          49500,
          50000,
          60000,
          55000,
          40000,
          70000,
          25000,
          18000,
          50000,
          55000,
          170000,
          24000,
          35000,
          45000,
          50000,
          41000,
          40799,
          20500,
          19950,
          28000,
          41450,
          30500,
          52000,
          25000,
          15000,
          18000,
          40000,
          25000,
          38000,
          18000,
          52000,
          55000,
          55000,
          19000,
          22000,
          23000,
          25000,
          28505,
          21995,
          18000,
          46000,
          39735,
          15000,
          55000,
          35000,
          20000,
          40000,
          30000,
          33000,
          28000,
          33000,
          24000,
          70000,
          35000,
          59995,
          31965,
          44640,
          36000,
          28000,
          20000,
          25000,
          45000,
          55000,
          70000,
          50000,
          22000,
          30000,
          35000,
          40000,
          35000,
          48000,
          50000,
          35000,
          32000,
          40000,
          15000,
          25000,
          85000,
          30000,
          15000,
          14000,
          25000,
          12000,
          18000,
          33000,
          20000,
          32000,
          24000,
          18000,
          35000,
          40000,
          35000,
          45000,
          25000,
          20000,
          40000,
          70000,
          30000,
          28000,
          45000,
          25000,
          31000,
          50000,
          27000,
          40000,
          26000,
          35000,
          20000,
          38000,
          45000,
          60000,
          28000,
          35000,
          150000,
          28000,
          30000,
          30000,
          45000,
          50000,
          30000,
          35000,
          25000,
          20000,
          22000,
          32000,
          40000,
          45000,
          35000,
          55000,
          50000,
          31000,
          25000,
          30000,
          40000,
          27000,
          30000,
          60000,
          42000,
          23000,
          70000,
          45000,
          40000,
          55000,
          16700,
          15500,
          77000,
          26000,
          39000,
          45000,
          51000,
          20000,
          29000,
          40000,
          14500,
          18000,
          16000,
          15000,
          14500,
          25000,
          15500,
          12000,
          35000,
          77000,
          220000,
          41820,
          58950,
          85000,
          70600,
          14500,
          19000,
          13000,
          18500,
          12000,
          24960,
          28500,
          42820,
          65300,
          14000,
          1100000,
          45790,
          60000,
          105000,
          41750,
          20000,
          50000,
          22000,
          30000,
          18500,
          55000,
          42500,
          40000,
          38000,
          36000,
          175000,
          55000,
          63000,
          98000,
          61750,
          20000,
          18000,
          17500,
          32000,
          24000,
          20000,
          18500,
          95000,
          60000,
          39000,
          185000,
          48000,
          70000,
          67000,
          50000,
          28000,
          32000,
          55000,
          25000,
          27000,
          14000,
          22000,
          45000,
          22000,
          16000,
          58000,
          44000,
          28000,
          47000,
          43000,
          600000,
          70000,
          42000,
          85000,
          68000,
          25000,
          30000,
          50000,
          1000000,
          20000,
          25000,
          35000,
          10000,
          28000,
          18000,
          23000,
          22000,
          35000,
          18000,
          95000,
          70000,
          32000,
          46000,
          40000,
          220000,
          50000,
          75000,
          70000,
          95000,
          45000,
          18000,
          60000,
          55000,
          35000,
          40000,
          55000,
          30000,
          35000,
          50000,
          25000,
          18000,
          30000,
          15000,
          12000,
          10000,
          25000,
          45000,
          38000,
          28000,
          70000,
          60000,
          45000,
          50000,
          50000,
          45000,
          35000,
          20000,
          25000,
          18000,
          36000,
          42000,
          35000,
          88000,
          92000,
          105000,
          180000,
          130000,
          102000,
          115000,
          120000,
          190000,
          95000,
          80000,
          85000,
          95000,
          130000,
          110000,
          170000,
          60000,
          75000,
          85000,
          65000,
          110000,
          131300,
          106500,
          113300,
          121300,
          197200,
          230400,
          161100,
          241300,
          222000,
          86700,
          103800,
          150900,
          185000,
          132750,
          97700,
          104000,
          63400,
          75400,
          100200,
          141700,
          65500,
          69600,
          90300,
          98300,
          92300,
          113300,
          101400,
          200200,
          128900,
          98300,
          136900,
          175200,
          290000,
          105000,
          58000,
          63000,
          70400,
          82900,
          85000,
          72200,
          91000,
          94300,
          182150,
          79000,
          167800,
          111200,
          69000,
          85500,
          182900,
          86700,
          34395,
          46595,
          38195,
          50995,
          94800,
          139400,
          90500,
          136700,
          190000,
          106100,
          129900,
          113300,
          137000,
          157300,
          184100,
          207000,
          170000,
          223800,
          222000,
          145300,
          135500,
          258000,
          293200,
          245000,
          222000,
          750000,
          116000,
          191300,
          233000,
          8200,
          11000,
          10400,
          11300,
          12000,
          11800,
          9200,
          4000,
          6200,
          5000,
          9400,
          14500,
          8700,
          6500,
          79295,
          8300,
          9000,
          7000,
          7200,
          82295,
          14000,
          25000,
          23000,
          25500,
          10500,
          20000,
          19000,
          15000,
          16500,
          22000,
          88490,
          108490,
          40240,
          53240,
          98490,
          113490,
          47490,
          50490,
          69900,
          200000,
          35195,
          42100,
          41530,
          43530,
          37695,
          31590,
          28345,
          38775,
          63595,
          91495,
          59865,
          50695,
          46500,
          44500,
          18500,
          80000,
          51570,
          66575,
          41295,
          82495,
          37490,
          44195,
          48595,
          58590,
          149990,
          104595,
          92000,
          60495,
          41390,
          51095,
          57095,
          59990,
          64990,
          41290,
          14595,
          16720,
          25000,
          26400,
          65895,
          35915,
          26600,
          44000,
          56995,
          59900,
          30695,
          42795,
          41500,
          45500,
          27495,
          28795,
          23100,
          33500,
          67300,
          65895,
          61595,
          55895,
          50895,
          48295,
          46600,
          33400,
          48900,
          28795,
          43500,
          65900,
          43700,
          45000,
          25800,
          17595,
          24100,
          28400,
          75700,
          29200,
          82400,
          33900,
          14395,
          37200,
          36100,
          34500,
          31900,
          34900,
          56400,
          64100,
          64400,
          31700,
          56995,
          62495,
          66700,
          71600,
          76700,
          65500,
          70000,
          29900,
          36800,
          57400,
          61100,
          36900,
          37100,
          43900,
          49000,
          108700,
          105600,
          72800,
          66800,
          36500,
          41400,
          53800,
          72200,
          45000,
          43900,
          48000,
          93800,
          38600,
          54300,
          71505,
          73305,
          52000,
          56000,
          70000,
          72000,
          36300,
          44000,
          80000,
          82000,
          28700,
          45000,
          96550,
          96550,
          65000,
          76805,
          75000,
          50000,
          65000,
          37700,
          60000,
          62000,
          31000,
          40000,
          38000,
          75000,
          82000,
          110000,
          108700,
          112700,
          55000,
          90000,
          85000,
          60000,
          35000,
          78000,
          105000,
          17000,
          18000,
          28000,
          55000,
          42000,
          50000,
          19000,
          28500,
          33000,
          50000,
          28000,
          28500,
          55000,
          47000,
          42500,
          51000,
          44000,
          58000,
          33000,
          25000,
          23500,
          42000,
          35500,
          44000,
          22000,
          18500,
          29000,
          39500,
          46000,
          30000,
          51500,
          48000,
          52000,
          47000,
          65000,
          34500,
          47000,
          32000,
          22500,
          23500,
          17500,
          18000,
          20500,
          23000,
          45000,
          47000,
          41500,
          43500,
          60000,
          25500,
          23000,
          30000,
          40000,
          53000,
          50000,
          45500,
          36000,
          62000,
          49000,
          22500,
          120000,
          160000,
          100000,
          110000,
          125000,
          95000,
          120000,
          85000,
          75000,
          70000,
          45000,
          50000,
          85000,
          50000,
          70000,
          60000,
          40000,
          65000,
          60000,
          120000,
          85000,
          85000,
          55000,
          65000,
          90000,
          110000,
          50000,
          90000,
          100000,
          70000,
          55000,
          60000,
          85000,
          60000,
          55000,
          80000,
          100000,
          65000,
          50000,
          80000,
          55000,
          60000,
          100000,
          85000,
          65000,
          90000,
          90000,
          75000,
          60000,
          157000,
          62000,
          60000,
          45000,
          30000,
          50000,
          50000,
          55000,
          55000,
          50000,
          35000,
          55000,
          50000,
          30000,
          150000,
          45000,
          50000,
          30000,
          55000,
          157000,
          58000,
          46000,
          157000,
          42000,
          28000,
          54000,
          52000,
          22000,
          25000,
          23500,
          28000,
          32000,
          35000,
          35500,
          22500,
          30000,
          32000,
          35000,
          38000,
          28000,
          35000,
          55000,
          25000,
          27000,
          30000,
          33000,
          35000,
          35000,
          40000,
          45000,
          48000,
          28000,
          25000,
          30000,
          35000,
          40000,
          45000,
          45000,
          55000,
          60000,
          50000,
          22000,
          30000,
          33000,
          32000,
          35000,
          35000,
          38000,
          25000,
          40000,
          35000,
          37000,
          28000,
          20000,
          22000,
          32500,
          37500,
          20000,
          25000,
          22500,
          31500,
          40000,
          45000,
          62500,
          42500,
          32000,
          55000,
          55000,
          60000,
          26000,
          35000,
          52000,
          65000,
          33000,
          52500,
          55000,
          500000,
          30000,
          23000,
          70000,
          45000,
          70000,
          28000,
          32000,
          52000,
          31000,
          43455,
          29365,
          61625,
          64540,
          79420,
          59140,
          64695,
          84910,
          56505,
          79560,
          35000,
          36000,
          37000,
          52000,
          53000,
          25000,
          60000,
          40000,
          38000,
          45000,
          55000,
          17000,
          18000,
          31500,
          41000,
          26500,
          24500,
          42500,
          37500,
          30000,
          45000,
          24500,
          22500,
          37500,
          17500,
          27500,
          33500,
          32500,
          30500,
          29000,
          27000,
          31000,
          47500,
          32500,
          16000,
          22500,
          37500,
          16000,
          24000,
          32500,
          40000,
          18500,
          47500,
          22500,
          37500,
          29000,
          37500,
          31000,
          26500,
          16000,
          32500,
          80000,
          55000,
          21500,
          11000,
          21500,
          22500,
          47500,
          32500,
          13500,
          16500,
          22500,
          11000,
          13500,
          27500,
          20000,
          31500,
          22500,
          37500,
          11000,
          19000,
          24000,
          26000,
          31000,
          23000,
          25500,
          29000,
          32500,
          39000,
          41500,
          55000,
          30000,
          36500,
          35000,
          25000,
          30500,
          27000,
          22500,
          31000,
          40000,
          17500,
          16000,
          14000,
          21000,
          15500,
          27500,
          45000,
          25000,
          22500,
          20000,
          27500,
          17500,
          16000,
          10500,
          15000,
          9000,
          16000,
          21000,
          27500,
          22500,
          25000,
          20000,
          10000,
          22500,
          27500,
          42500,
          47500,
          16500,
          20000,
          22000,
          11000,
          16500,
          27500,
          32500,
          13500,
          11000,
          13500,
          22500,
          27500,
          37500,
          32500,
          26500,
          16500,
          21000,
          30000,
          20000,
          16000,
          32500,
          24000,
          42500,
          9000,
          19000,
          16500,
          11000,
          14500,
          22000,
          15000,
          13500,
          20000,
          32500,
          42500,
          16500,
          20000,
          27500,
          32500,
          45795,
          50000,
          27172.5,
          33000,
          36000
         ],
         "y0": " ",
         "yaxis": "y"
        }
       ],
       "layout": {
        "boxmode": "group",
        "font": {
         "color": "white"
        },
        "legend": {
         "tracegroupgap": 0
        },
        "margin": {
         "t": 60
        },
        "paper_bgcolor": "#101021",
        "plot_bgcolor": "#252640",
        "template": {
         "data": {
          "bar": [
           {
            "error_x": {
             "color": "#2a3f5f"
            },
            "error_y": {
             "color": "#2a3f5f"
            },
            "marker": {
             "line": {
              "color": "#E5ECF6",
              "width": 0.5
             },
             "pattern": {
              "fillmode": "overlay",
              "size": 10,
              "solidity": 0.2
             }
            },
            "type": "bar"
           }
          ],
          "barpolar": [
           {
            "marker": {
             "line": {
              "color": "#E5ECF6",
              "width": 0.5
             },
             "pattern": {
              "fillmode": "overlay",
              "size": 10,
              "solidity": 0.2
             }
            },
            "type": "barpolar"
           }
          ],
          "carpet": [
           {
            "aaxis": {
             "endlinecolor": "#2a3f5f",
             "gridcolor": "white",
             "linecolor": "white",
             "minorgridcolor": "white",
             "startlinecolor": "#2a3f5f"
            },
            "baxis": {
             "endlinecolor": "#2a3f5f",
             "gridcolor": "white",
             "linecolor": "white",
             "minorgridcolor": "white",
             "startlinecolor": "#2a3f5f"
            },
            "type": "carpet"
           }
          ],
          "choropleth": [
           {
            "colorbar": {
             "outlinewidth": 0,
             "ticks": ""
            },
            "type": "choropleth"
           }
          ],
          "contour": [
           {
            "colorbar": {
             "outlinewidth": 0,
             "ticks": ""
            },
            "colorscale": [
             [
              0,
              "#0d0887"
             ],
             [
              0.1111111111111111,
              "#46039f"
             ],
             [
              0.2222222222222222,
              "#7201a8"
             ],
             [
              0.3333333333333333,
              "#9c179e"
             ],
             [
              0.4444444444444444,
              "#bd3786"
             ],
             [
              0.5555555555555556,
              "#d8576b"
             ],
             [
              0.6666666666666666,
              "#ed7953"
             ],
             [
              0.7777777777777778,
              "#fb9f3a"
             ],
             [
              0.8888888888888888,
              "#fdca26"
             ],
             [
              1,
              "#f0f921"
             ]
            ],
            "type": "contour"
           }
          ],
          "contourcarpet": [
           {
            "colorbar": {
             "outlinewidth": 0,
             "ticks": ""
            },
            "type": "contourcarpet"
           }
          ],
          "heatmap": [
           {
            "colorbar": {
             "outlinewidth": 0,
             "ticks": ""
            },
            "colorscale": [
             [
              0,
              "#0d0887"
             ],
             [
              0.1111111111111111,
              "#46039f"
             ],
             [
              0.2222222222222222,
              "#7201a8"
             ],
             [
              0.3333333333333333,
              "#9c179e"
             ],
             [
              0.4444444444444444,
              "#bd3786"
             ],
             [
              0.5555555555555556,
              "#d8576b"
             ],
             [
              0.6666666666666666,
              "#ed7953"
             ],
             [
              0.7777777777777778,
              "#fb9f3a"
             ],
             [
              0.8888888888888888,
              "#fdca26"
             ],
             [
              1,
              "#f0f921"
             ]
            ],
            "type": "heatmap"
           }
          ],
          "heatmapgl": [
           {
            "colorbar": {
             "outlinewidth": 0,
             "ticks": ""
            },
            "colorscale": [
             [
              0,
              "#0d0887"
             ],
             [
              0.1111111111111111,
              "#46039f"
             ],
             [
              0.2222222222222222,
              "#7201a8"
             ],
             [
              0.3333333333333333,
              "#9c179e"
             ],
             [
              0.4444444444444444,
              "#bd3786"
             ],
             [
              0.5555555555555556,
              "#d8576b"
             ],
             [
              0.6666666666666666,
              "#ed7953"
             ],
             [
              0.7777777777777778,
              "#fb9f3a"
             ],
             [
              0.8888888888888888,
              "#fdca26"
             ],
             [
              1,
              "#f0f921"
             ]
            ],
            "type": "heatmapgl"
           }
          ],
          "histogram": [
           {
            "marker": {
             "pattern": {
              "fillmode": "overlay",
              "size": 10,
              "solidity": 0.2
             }
            },
            "type": "histogram"
           }
          ],
          "histogram2d": [
           {
            "colorbar": {
             "outlinewidth": 0,
             "ticks": ""
            },
            "colorscale": [
             [
              0,
              "#0d0887"
             ],
             [
              0.1111111111111111,
              "#46039f"
             ],
             [
              0.2222222222222222,
              "#7201a8"
             ],
             [
              0.3333333333333333,
              "#9c179e"
             ],
             [
              0.4444444444444444,
              "#bd3786"
             ],
             [
              0.5555555555555556,
              "#d8576b"
             ],
             [
              0.6666666666666666,
              "#ed7953"
             ],
             [
              0.7777777777777778,
              "#fb9f3a"
             ],
             [
              0.8888888888888888,
              "#fdca26"
             ],
             [
              1,
              "#f0f921"
             ]
            ],
            "type": "histogram2d"
           }
          ],
          "histogram2dcontour": [
           {
            "colorbar": {
             "outlinewidth": 0,
             "ticks": ""
            },
            "colorscale": [
             [
              0,
              "#0d0887"
             ],
             [
              0.1111111111111111,
              "#46039f"
             ],
             [
              0.2222222222222222,
              "#7201a8"
             ],
             [
              0.3333333333333333,
              "#9c179e"
             ],
             [
              0.4444444444444444,
              "#bd3786"
             ],
             [
              0.5555555555555556,
              "#d8576b"
             ],
             [
              0.6666666666666666,
              "#ed7953"
             ],
             [
              0.7777777777777778,
              "#fb9f3a"
             ],
             [
              0.8888888888888888,
              "#fdca26"
             ],
             [
              1,
              "#f0f921"
             ]
            ],
            "type": "histogram2dcontour"
           }
          ],
          "mesh3d": [
           {
            "colorbar": {
             "outlinewidth": 0,
             "ticks": ""
            },
            "type": "mesh3d"
           }
          ],
          "parcoords": [
           {
            "line": {
             "colorbar": {
              "outlinewidth": 0,
              "ticks": ""
             }
            },
            "type": "parcoords"
           }
          ],
          "pie": [
           {
            "automargin": true,
            "type": "pie"
           }
          ],
          "scatter": [
           {
            "fillpattern": {
             "fillmode": "overlay",
             "size": 10,
             "solidity": 0.2
            },
            "type": "scatter"
           }
          ],
          "scatter3d": [
           {
            "line": {
             "colorbar": {
              "outlinewidth": 0,
              "ticks": ""
             }
            },
            "marker": {
             "colorbar": {
              "outlinewidth": 0,
              "ticks": ""
             }
            },
            "type": "scatter3d"
           }
          ],
          "scattercarpet": [
           {
            "marker": {
             "colorbar": {
              "outlinewidth": 0,
              "ticks": ""
             }
            },
            "type": "scattercarpet"
           }
          ],
          "scattergeo": [
           {
            "marker": {
             "colorbar": {
              "outlinewidth": 0,
              "ticks": ""
             }
            },
            "type": "scattergeo"
           }
          ],
          "scattergl": [
           {
            "marker": {
             "colorbar": {
              "outlinewidth": 0,
              "ticks": ""
             }
            },
            "type": "scattergl"
           }
          ],
          "scattermapbox": [
           {
            "marker": {
             "colorbar": {
              "outlinewidth": 0,
              "ticks": ""
             }
            },
            "type": "scattermapbox"
           }
          ],
          "scatterpolar": [
           {
            "marker": {
             "colorbar": {
              "outlinewidth": 0,
              "ticks": ""
             }
            },
            "type": "scatterpolar"
           }
          ],
          "scatterpolargl": [
           {
            "marker": {
             "colorbar": {
              "outlinewidth": 0,
              "ticks": ""
             }
            },
            "type": "scatterpolargl"
           }
          ],
          "scatterternary": [
           {
            "marker": {
             "colorbar": {
              "outlinewidth": 0,
              "ticks": ""
             }
            },
            "type": "scatterternary"
           }
          ],
          "surface": [
           {
            "colorbar": {
             "outlinewidth": 0,
             "ticks": ""
            },
            "colorscale": [
             [
              0,
              "#0d0887"
             ],
             [
              0.1111111111111111,
              "#46039f"
             ],
             [
              0.2222222222222222,
              "#7201a8"
             ],
             [
              0.3333333333333333,
              "#9c179e"
             ],
             [
              0.4444444444444444,
              "#bd3786"
             ],
             [
              0.5555555555555556,
              "#d8576b"
             ],
             [
              0.6666666666666666,
              "#ed7953"
             ],
             [
              0.7777777777777778,
              "#fb9f3a"
             ],
             [
              0.8888888888888888,
              "#fdca26"
             ],
             [
              1,
              "#f0f921"
             ]
            ],
            "type": "surface"
           }
          ],
          "table": [
           {
            "cells": {
             "fill": {
              "color": "#EBF0F8"
             },
             "line": {
              "color": "white"
             }
            },
            "header": {
             "fill": {
              "color": "#C8D4E3"
             },
             "line": {
              "color": "white"
             }
            },
            "type": "table"
           }
          ]
         },
         "layout": {
          "annotationdefaults": {
           "arrowcolor": "#2a3f5f",
           "arrowhead": 0,
           "arrowwidth": 1
          },
          "autotypenumbers": "strict",
          "coloraxis": {
           "colorbar": {
            "outlinewidth": 0,
            "ticks": ""
           }
          },
          "colorscale": {
           "diverging": [
            [
             0,
             "#8e0152"
            ],
            [
             0.1,
             "#c51b7d"
            ],
            [
             0.2,
             "#de77ae"
            ],
            [
             0.3,
             "#f1b6da"
            ],
            [
             0.4,
             "#fde0ef"
            ],
            [
             0.5,
             "#f7f7f7"
            ],
            [
             0.6,
             "#e6f5d0"
            ],
            [
             0.7,
             "#b8e186"
            ],
            [
             0.8,
             "#7fbc41"
            ],
            [
             0.9,
             "#4d9221"
            ],
            [
             1,
             "#276419"
            ]
           ],
           "sequential": [
            [
             0,
             "#0d0887"
            ],
            [
             0.1111111111111111,
             "#46039f"
            ],
            [
             0.2222222222222222,
             "#7201a8"
            ],
            [
             0.3333333333333333,
             "#9c179e"
            ],
            [
             0.4444444444444444,
             "#bd3786"
            ],
            [
             0.5555555555555556,
             "#d8576b"
            ],
            [
             0.6666666666666666,
             "#ed7953"
            ],
            [
             0.7777777777777778,
             "#fb9f3a"
            ],
            [
             0.8888888888888888,
             "#fdca26"
            ],
            [
             1,
             "#f0f921"
            ]
           ],
           "sequentialminus": [
            [
             0,
             "#0d0887"
            ],
            [
             0.1111111111111111,
             "#46039f"
            ],
            [
             0.2222222222222222,
             "#7201a8"
            ],
            [
             0.3333333333333333,
             "#9c179e"
            ],
            [
             0.4444444444444444,
             "#bd3786"
            ],
            [
             0.5555555555555556,
             "#d8576b"
            ],
            [
             0.6666666666666666,
             "#ed7953"
            ],
            [
             0.7777777777777778,
             "#fb9f3a"
            ],
            [
             0.8888888888888888,
             "#fdca26"
            ],
            [
             1,
             "#f0f921"
            ]
           ]
          },
          "colorway": [
           "#636efa",
           "#EF553B",
           "#00cc96",
           "#ab63fa",
           "#FFA15A",
           "#19d3f3",
           "#FF6692",
           "#B6E880",
           "#FF97FF",
           "#FECB52"
          ],
          "font": {
           "color": "#2a3f5f"
          },
          "geo": {
           "bgcolor": "white",
           "lakecolor": "white",
           "landcolor": "#E5ECF6",
           "showlakes": true,
           "showland": true,
           "subunitcolor": "white"
          },
          "hoverlabel": {
           "align": "left"
          },
          "hovermode": "closest",
          "mapbox": {
           "style": "light"
          },
          "paper_bgcolor": "white",
          "plot_bgcolor": "#E5ECF6",
          "polar": {
           "angularaxis": {
            "gridcolor": "white",
            "linecolor": "white",
            "ticks": ""
           },
           "bgcolor": "#E5ECF6",
           "radialaxis": {
            "gridcolor": "white",
            "linecolor": "white",
            "ticks": ""
           }
          },
          "scene": {
           "xaxis": {
            "backgroundcolor": "#E5ECF6",
            "gridcolor": "white",
            "gridwidth": 2,
            "linecolor": "white",
            "showbackground": true,
            "ticks": "",
            "zerolinecolor": "white"
           },
           "yaxis": {
            "backgroundcolor": "#E5ECF6",
            "gridcolor": "white",
            "gridwidth": 2,
            "linecolor": "white",
            "showbackground": true,
            "ticks": "",
            "zerolinecolor": "white"
           },
           "zaxis": {
            "backgroundcolor": "#E5ECF6",
            "gridcolor": "white",
            "gridwidth": 2,
            "linecolor": "white",
            "showbackground": true,
            "ticks": "",
            "zerolinecolor": "white"
           }
          },
          "shapedefaults": {
           "line": {
            "color": "#2a3f5f"
           }
          },
          "ternary": {
           "aaxis": {
            "gridcolor": "white",
            "linecolor": "white",
            "ticks": ""
           },
           "baxis": {
            "gridcolor": "white",
            "linecolor": "white",
            "ticks": ""
           },
           "bgcolor": "#E5ECF6",
           "caxis": {
            "gridcolor": "white",
            "linecolor": "white",
            "ticks": ""
           }
          },
          "title": {
           "x": 0.05
          },
          "xaxis": {
           "automargin": true,
           "gridcolor": "white",
           "linecolor": "white",
           "ticks": "",
           "title": {
            "standoff": 15
           },
           "zerolinecolor": "white",
           "zerolinewidth": 2
          },
          "yaxis": {
           "automargin": true,
           "gridcolor": "white",
           "linecolor": "white",
           "ticks": "",
           "title": {
            "standoff": 15
           },
           "zerolinecolor": "white",
           "zerolinewidth": 2
          }
         }
        },
        "xaxis": {
         "anchor": "y",
         "domain": [
          0,
          1
         ]
        },
        "yaxis": {
         "anchor": "x",
         "domain": [
          0,
          1
         ],
         "title": {
          "text": "Cars Prices"
         }
        }
       }
      }
     },
     "metadata": {},
     "output_type": "display_data"
    }
   ],
   "source": [
    "fig = px.box(df['Cars Prices'], y=\"Cars Prices\")\n",
    "fig.update_layout(\n",
    "    plot_bgcolor=\"#252640\",  \n",
    "    paper_bgcolor=\"#101021\", \n",
    "    font=dict(color='white'))\n",
    "fig.show()"
   ]
  },
  {
   "cell_type": "markdown",
   "metadata": {},
   "source": [
    "# 🤖 | **Model**"
   ]
  },
  {
   "cell_type": "code",
   "execution_count": 605,
   "metadata": {},
   "outputs": [
    {
     "data": {
      "text/html": [
       "<div>\n",
       "<style scoped>\n",
       "    .dataframe tbody tr th:only-of-type {\n",
       "        vertical-align: middle;\n",
       "    }\n",
       "\n",
       "    .dataframe tbody tr th {\n",
       "        vertical-align: top;\n",
       "    }\n",
       "\n",
       "    .dataframe thead th {\n",
       "        text-align: right;\n",
       "    }\n",
       "</style>\n",
       "<table border=\"1\" class=\"dataframe\">\n",
       "  <thead>\n",
       "    <tr style=\"text-align: right;\">\n",
       "      <th></th>\n",
       "      <th>Company Names</th>\n",
       "      <th>Cars Names</th>\n",
       "      <th>Engines</th>\n",
       "      <th>HorsePower</th>\n",
       "      <th>Total Speed</th>\n",
       "      <th>Performance(0 - 100 )KM/H</th>\n",
       "      <th>Cars Prices</th>\n",
       "      <th>Seats</th>\n",
       "      <th>Torque</th>\n",
       "      <th>awd</th>\n",
       "      <th>...</th>\n",
       "      <th>hybrid</th>\n",
       "      <th>hydrogen</th>\n",
       "      <th>petrol</th>\n",
       "      <th>plugin</th>\n",
       "      <th>plugin hybrid</th>\n",
       "      <th>Engine_CC</th>\n",
       "      <th>Battery_W</th>\n",
       "      <th>power_to_cc</th>\n",
       "      <th>is_luxury</th>\n",
       "      <th>log_price</th>\n",
       "    </tr>\n",
       "  </thead>\n",
       "  <tbody>\n",
       "    <tr>\n",
       "      <th>0</th>\n",
       "      <td>187645.513214</td>\n",
       "      <td>212365.568620</td>\n",
       "      <td>119185.656027</td>\n",
       "      <td>963.0</td>\n",
       "      <td>340</td>\n",
       "      <td>2</td>\n",
       "      <td>1100000.0</td>\n",
       "      <td>2</td>\n",
       "      <td>800</td>\n",
       "      <td>0</td>\n",
       "      <td>...</td>\n",
       "      <td>0</td>\n",
       "      <td>0</td>\n",
       "      <td>0</td>\n",
       "      <td>0</td>\n",
       "      <td>1</td>\n",
       "      <td>3990.0</td>\n",
       "      <td>77000.0</td>\n",
       "      <td>0.241353</td>\n",
       "      <td>1</td>\n",
       "      <td>13.910822</td>\n",
       "    </tr>\n",
       "    <tr>\n",
       "      <th>1</th>\n",
       "      <td>301995.768056</td>\n",
       "      <td>129096.145027</td>\n",
       "      <td>486508.713740</td>\n",
       "      <td>563.0</td>\n",
       "      <td>250</td>\n",
       "      <td>5</td>\n",
       "      <td>460000.0</td>\n",
       "      <td>5</td>\n",
       "      <td>900</td>\n",
       "      <td>0</td>\n",
       "      <td>...</td>\n",
       "      <td>0</td>\n",
       "      <td>0</td>\n",
       "      <td>1</td>\n",
       "      <td>0</td>\n",
       "      <td>0</td>\n",
       "      <td>6749.0</td>\n",
       "      <td>77000.0</td>\n",
       "      <td>0.083420</td>\n",
       "      <td>1</td>\n",
       "      <td>13.038984</td>\n",
       "    </tr>\n",
       "    <tr>\n",
       "      <th>2</th>\n",
       "      <td>55114.817045</td>\n",
       "      <td>71002.711224</td>\n",
       "      <td>61618.308670</td>\n",
       "      <td>77.5</td>\n",
       "      <td>165</td>\n",
       "      <td>10</td>\n",
       "      <td>13500.0</td>\n",
       "      <td>5</td>\n",
       "      <td>120</td>\n",
       "      <td>0</td>\n",
       "      <td>...</td>\n",
       "      <td>0</td>\n",
       "      <td>0</td>\n",
       "      <td>1</td>\n",
       "      <td>0</td>\n",
       "      <td>0</td>\n",
       "      <td>1200.0</td>\n",
       "      <td>77000.0</td>\n",
       "      <td>0.064583</td>\n",
       "      <td>0</td>\n",
       "      <td>9.510519</td>\n",
       "    </tr>\n",
       "    <tr>\n",
       "      <th>3</th>\n",
       "      <td>82011.477893</td>\n",
       "      <td>90193.711193</td>\n",
       "      <td>119185.656027</td>\n",
       "      <td>630.0</td>\n",
       "      <td>250</td>\n",
       "      <td>3</td>\n",
       "      <td>161000.0</td>\n",
       "      <td>4</td>\n",
       "      <td>900</td>\n",
       "      <td>0</td>\n",
       "      <td>...</td>\n",
       "      <td>0</td>\n",
       "      <td>0</td>\n",
       "      <td>1</td>\n",
       "      <td>0</td>\n",
       "      <td>0</td>\n",
       "      <td>3982.0</td>\n",
       "      <td>77000.0</td>\n",
       "      <td>0.158212</td>\n",
       "      <td>0</td>\n",
       "      <td>11.989166</td>\n",
       "    </tr>\n",
       "    <tr>\n",
       "      <th>4</th>\n",
       "      <td>81318.755355</td>\n",
       "      <td>102201.422292</td>\n",
       "      <td>137115.257918</td>\n",
       "      <td>602.0</td>\n",
       "      <td>320</td>\n",
       "      <td>3</td>\n",
       "      <td>253290.0</td>\n",
       "      <td>2</td>\n",
       "      <td>560</td>\n",
       "      <td>0</td>\n",
       "      <td>...</td>\n",
       "      <td>0</td>\n",
       "      <td>0</td>\n",
       "      <td>1</td>\n",
       "      <td>0</td>\n",
       "      <td>0</td>\n",
       "      <td>5204.0</td>\n",
       "      <td>77000.0</td>\n",
       "      <td>0.115680</td>\n",
       "      <td>1</td>\n",
       "      <td>12.442294</td>\n",
       "    </tr>\n",
       "    <tr>\n",
       "      <th>...</th>\n",
       "      <td>...</td>\n",
       "      <td>...</td>\n",
       "      <td>...</td>\n",
       "      <td>...</td>\n",
       "      <td>...</td>\n",
       "      <td>...</td>\n",
       "      <td>...</td>\n",
       "      <td>...</td>\n",
       "      <td>...</td>\n",
       "      <td>...</td>\n",
       "      <td>...</td>\n",
       "      <td>...</td>\n",
       "      <td>...</td>\n",
       "      <td>...</td>\n",
       "      <td>...</td>\n",
       "      <td>...</td>\n",
       "      <td>...</td>\n",
       "      <td>...</td>\n",
       "      <td>...</td>\n",
       "      <td>...</td>\n",
       "      <td>...</td>\n",
       "    </tr>\n",
       "    <tr>\n",
       "      <th>1213</th>\n",
       "      <td>44181.593536</td>\n",
       "      <td>75204.564404</td>\n",
       "      <td>36922.839988</td>\n",
       "      <td>240.0</td>\n",
       "      <td>180</td>\n",
       "      <td>7</td>\n",
       "      <td>45795.0</td>\n",
       "      <td>5</td>\n",
       "      <td>239</td>\n",
       "      <td>0</td>\n",
       "      <td>...</td>\n",
       "      <td>1</td>\n",
       "      <td>0</td>\n",
       "      <td>1</td>\n",
       "      <td>0</td>\n",
       "      <td>0</td>\n",
       "      <td>2487.0</td>\n",
       "      <td>77000.0</td>\n",
       "      <td>0.096502</td>\n",
       "      <td>0</td>\n",
       "      <td>10.731952</td>\n",
       "    </tr>\n",
       "    <tr>\n",
       "      <th>1214</th>\n",
       "      <td>44181.593536</td>\n",
       "      <td>75751.670539</td>\n",
       "      <td>36922.839988</td>\n",
       "      <td>326.0</td>\n",
       "      <td>180</td>\n",
       "      <td>6</td>\n",
       "      <td>50000.0</td>\n",
       "      <td>7</td>\n",
       "      <td>630</td>\n",
       "      <td>0</td>\n",
       "      <td>...</td>\n",
       "      <td>1</td>\n",
       "      <td>0</td>\n",
       "      <td>0</td>\n",
       "      <td>0</td>\n",
       "      <td>0</td>\n",
       "      <td>2393.0</td>\n",
       "      <td>20000.0</td>\n",
       "      <td>0.136231</td>\n",
       "      <td>0</td>\n",
       "      <td>10.819798</td>\n",
       "    </tr>\n",
       "    <tr>\n",
       "      <th>1215</th>\n",
       "      <td>44181.593536</td>\n",
       "      <td>72781.619340</td>\n",
       "      <td>48842.949553</td>\n",
       "      <td>169196.0</td>\n",
       "      <td>190</td>\n",
       "      <td>7</td>\n",
       "      <td>27172.5</td>\n",
       "      <td>5</td>\n",
       "      <td>190210</td>\n",
       "      <td>0</td>\n",
       "      <td>...</td>\n",
       "      <td>1</td>\n",
       "      <td>0</td>\n",
       "      <td>1</td>\n",
       "      <td>0</td>\n",
       "      <td>0</td>\n",
       "      <td>1987.0</td>\n",
       "      <td>20000.0</td>\n",
       "      <td>85.151485</td>\n",
       "      <td>0</td>\n",
       "      <td>10.209998</td>\n",
       "    </tr>\n",
       "    <tr>\n",
       "      <th>1216</th>\n",
       "      <td>44181.593536</td>\n",
       "      <td>73539.826474</td>\n",
       "      <td>48842.949553</td>\n",
       "      <td>140198.0</td>\n",
       "      <td>180</td>\n",
       "      <td>7</td>\n",
       "      <td>33000.0</td>\n",
       "      <td>5</td>\n",
       "      <td>190205</td>\n",
       "      <td>0</td>\n",
       "      <td>...</td>\n",
       "      <td>1</td>\n",
       "      <td>0</td>\n",
       "      <td>0</td>\n",
       "      <td>0</td>\n",
       "      <td>0</td>\n",
       "      <td>1987.0</td>\n",
       "      <td>20000.0</td>\n",
       "      <td>70.557625</td>\n",
       "      <td>0</td>\n",
       "      <td>10.404293</td>\n",
       "    </tr>\n",
       "    <tr>\n",
       "      <th>1217</th>\n",
       "      <td>44181.593536</td>\n",
       "      <td>73930.151897</td>\n",
       "      <td>48842.949553</td>\n",
       "      <td>219302.0</td>\n",
       "      <td>200</td>\n",
       "      <td>7</td>\n",
       "      <td>36000.0</td>\n",
       "      <td>5</td>\n",
       "      <td>221400</td>\n",
       "      <td>0</td>\n",
       "      <td>...</td>\n",
       "      <td>1</td>\n",
       "      <td>0</td>\n",
       "      <td>0</td>\n",
       "      <td>1</td>\n",
       "      <td>0</td>\n",
       "      <td>2487.0</td>\n",
       "      <td>20000.0</td>\n",
       "      <td>88.179333</td>\n",
       "      <td>0</td>\n",
       "      <td>10.491302</td>\n",
       "    </tr>\n",
       "  </tbody>\n",
       "</table>\n",
       "<p>1199 rows × 23 columns</p>\n",
       "</div>"
      ],
      "text/plain": [
       "      Company Names     Cars Names        Engines  HorsePower  Total Speed  \\\n",
       "0     187645.513214  212365.568620  119185.656027       963.0          340   \n",
       "1     301995.768056  129096.145027  486508.713740       563.0          250   \n",
       "2      55114.817045   71002.711224   61618.308670        77.5          165   \n",
       "3      82011.477893   90193.711193  119185.656027       630.0          250   \n",
       "4      81318.755355  102201.422292  137115.257918       602.0          320   \n",
       "...             ...            ...            ...         ...          ...   \n",
       "1213   44181.593536   75204.564404   36922.839988       240.0          180   \n",
       "1214   44181.593536   75751.670539   36922.839988       326.0          180   \n",
       "1215   44181.593536   72781.619340   48842.949553    169196.0          190   \n",
       "1216   44181.593536   73539.826474   48842.949553    140198.0          180   \n",
       "1217   44181.593536   73930.151897   48842.949553    219302.0          200   \n",
       "\n",
       "      Performance(0 - 100 )KM/H  Cars Prices  Seats  Torque  awd  ...  hybrid  \\\n",
       "0                             2    1100000.0      2     800    0  ...       0   \n",
       "1                             5     460000.0      5     900    0  ...       0   \n",
       "2                            10      13500.0      5     120    0  ...       0   \n",
       "3                             3     161000.0      4     900    0  ...       0   \n",
       "4                             3     253290.0      2     560    0  ...       0   \n",
       "...                         ...          ...    ...     ...  ...  ...     ...   \n",
       "1213                          7      45795.0      5     239    0  ...       1   \n",
       "1214                          6      50000.0      7     630    0  ...       1   \n",
       "1215                          7      27172.5      5  190210    0  ...       1   \n",
       "1216                          7      33000.0      5  190205    0  ...       1   \n",
       "1217                          7      36000.0      5  221400    0  ...       1   \n",
       "\n",
       "      hydrogen  petrol  plugin  plugin hybrid  Engine_CC  Battery_W  \\\n",
       "0            0       0       0              1     3990.0    77000.0   \n",
       "1            0       1       0              0     6749.0    77000.0   \n",
       "2            0       1       0              0     1200.0    77000.0   \n",
       "3            0       1       0              0     3982.0    77000.0   \n",
       "4            0       1       0              0     5204.0    77000.0   \n",
       "...        ...     ...     ...            ...        ...        ...   \n",
       "1213         0       1       0              0     2487.0    77000.0   \n",
       "1214         0       0       0              0     2393.0    20000.0   \n",
       "1215         0       1       0              0     1987.0    20000.0   \n",
       "1216         0       0       0              0     1987.0    20000.0   \n",
       "1217         0       0       1              0     2487.0    20000.0   \n",
       "\n",
       "      power_to_cc  is_luxury  log_price  \n",
       "0        0.241353          1  13.910822  \n",
       "1        0.083420          1  13.038984  \n",
       "2        0.064583          0   9.510519  \n",
       "3        0.158212          0  11.989166  \n",
       "4        0.115680          1  12.442294  \n",
       "...           ...        ...        ...  \n",
       "1213     0.096502          0  10.731952  \n",
       "1214     0.136231          0  10.819798  \n",
       "1215    85.151485          0  10.209998  \n",
       "1216    70.557625          0  10.404293  \n",
       "1217    88.179333          0  10.491302  \n",
       "\n",
       "[1199 rows x 23 columns]"
      ]
     },
     "execution_count": 605,
     "metadata": {},
     "output_type": "execute_result"
    }
   ],
   "source": [
    "df"
   ]
  },
  {
   "cell_type": "code",
   "execution_count": null,
   "metadata": {},
   "outputs": [],
   "source": [
    "X = df.drop('Cars Prices', axis=1)\n",
    "y = df['Cars Prices']\n",
    "X_train, X_test, y_train, y_test = train_test_split(X, y, test_size=0.2, random_state=42)"
   ]
  },
  {
   "cell_type": "code",
   "execution_count": null,
   "metadata": {},
   "outputs": [
    {
     "name": "stdout",
     "output_type": "stream",
     "text": [
      "0:\tlearn: 150373.4434261\ttest: 120570.9058245\tbest: 120570.9058245 (0)\ttotal: 4.81ms\tremaining: 9.62s\n",
      "100:\tlearn: 59195.0393056\ttest: 33603.6798683\tbest: 33603.6798683 (100)\ttotal: 329ms\tremaining: 6.18s\n",
      "200:\tlearn: 36525.9692982\ttest: 25134.1523432\tbest: 25134.1523432 (200)\ttotal: 655ms\tremaining: 5.86s\n",
      "300:\tlearn: 23149.7918623\ttest: 20958.6406048\tbest: 20958.6406048 (300)\ttotal: 981ms\tremaining: 5.53s\n",
      "400:\tlearn: 14755.8261902\ttest: 18499.4558634\tbest: 18499.4558634 (400)\ttotal: 1.3s\tremaining: 5.21s\n",
      "500:\tlearn: 9991.8166823\ttest: 17021.5586788\tbest: 17021.5586788 (500)\ttotal: 1.63s\tremaining: 4.89s\n",
      "600:\tlearn: 7290.9796927\ttest: 16121.0154248\tbest: 16121.0154248 (600)\ttotal: 1.96s\tremaining: 4.56s\n",
      "700:\tlearn: 5716.9819607\ttest: 15578.8112846\tbest: 15578.8112846 (700)\ttotal: 2.27s\tremaining: 4.21s\n",
      "800:\tlearn: 4611.4615264\ttest: 15209.3271426\tbest: 15209.3271426 (800)\ttotal: 2.59s\tremaining: 3.88s\n",
      "900:\tlearn: 3808.8601718\ttest: 14872.2079738\tbest: 14872.2079738 (900)\ttotal: 2.91s\tremaining: 3.55s\n",
      "1000:\tlearn: 3217.1958417\ttest: 14624.0783965\tbest: 14624.0783965 (1000)\ttotal: 3.23s\tremaining: 3.22s\n",
      "1100:\tlearn: 2713.8055182\ttest: 14426.5247383\tbest: 14426.5247383 (1100)\ttotal: 3.56s\tremaining: 2.9s\n",
      "1200:\tlearn: 2342.2626781\ttest: 14314.0710443\tbest: 14314.0710443 (1200)\ttotal: 3.88s\tremaining: 2.58s\n",
      "1300:\tlearn: 2060.3085462\ttest: 14258.5203815\tbest: 14258.5203815 (1300)\ttotal: 4.21s\tremaining: 2.26s\n",
      "1400:\tlearn: 1857.7460024\ttest: 14214.4741563\tbest: 14214.4741563 (1400)\ttotal: 4.54s\tremaining: 1.94s\n",
      "1500:\tlearn: 1680.2393092\ttest: 14169.4688559\tbest: 14169.0037387 (1498)\ttotal: 4.87s\tremaining: 1.62s\n",
      "1600:\tlearn: 1569.4881658\ttest: 14119.8146595\tbest: 14119.8146595 (1600)\ttotal: 5.19s\tremaining: 1.29s\n",
      "1700:\tlearn: 1482.7382744\ttest: 14083.8725476\tbest: 14083.8725476 (1700)\ttotal: 5.52s\tremaining: 970ms\n",
      "1800:\tlearn: 1409.9319594\ttest: 14069.6671363\tbest: 14069.1170866 (1799)\ttotal: 5.84s\tremaining: 646ms\n",
      "1900:\tlearn: 1345.4922539\ttest: 14053.0935355\tbest: 14053.0539891 (1888)\ttotal: 6.17s\tremaining: 321ms\n",
      "1999:\tlearn: 1294.0715728\ttest: 14041.1042862\tbest: 14041.1042862 (1999)\ttotal: 6.5s\tremaining: 0us\n",
      "\n",
      "bestTest = 14041.10429\n",
      "bestIteration = 1999\n",
      "\n",
      "CatBoost Results:\n",
      "MAPE: 5.43%\n",
      "\n",
      "Stacking Model Results:\n",
      "MAPE: 16.11%\n"
     ]
    }
   ],
   "source": [
    "# Initialize CatBoost model\n",
    "catboost_model = CatBoostRegressor(\n",
    "    iterations=2000,\n",
    "    learning_rate=0.03,\n",
    "    depth=8,\n",
    "    l2_leaf_reg=5,\n",
    "    loss_function='RMSE',\n",
    "    eval_metric='RMSE',\n",
    "    early_stopping_rounds=100,\n",
    "    random_seed=42,\n",
    "    verbose=100\n",
    ")\n",
    "\n",
    "# Train CatBoost model\n",
    "catboost_model.fit(X_train, y_train, eval_set=(X_test, y_test))\n",
    "\n",
    "# Make predictions with CatBoost\n",
    "catboost_preds = catboost_model.predict(X_test)\n",
    "\n",
    "# Now let's create the stacking model\n",
    "estimators = [\n",
    "    ('catboost', CatBoostRegressor(\n",
    "        iterations=2000,\n",
    "        learning_rate=0.03,\n",
    "        depth=8,\n",
    "        l2_leaf_reg=5,\n",
    "        loss_function='RMSE',\n",
    "        eval_metric='RMSE',\n",
    "        early_stopping_rounds=100,\n",
    "        random_seed=42,\n",
    "        verbose=0\n",
    "    )),\n",
    "    ('xgb', XGBRegressor(random_state=42))\n",
    "]\n",
    "\n",
    "stack = StackingRegressor(\n",
    "    estimators=estimators,\n",
    "    final_estimator=Ridge(),\n",
    "    cv=5\n",
    ")\n",
    "\n",
    "# Train the stacking model\n",
    "stack.fit(X_train, y_train)\n",
    "\n",
    "# Make predictions with stacking model\n",
    "stack_preds = stack.predict(X_test)\n",
    "\n",
    "# Evaluation function\n",
    "def calculate_mape(y_true, y_pred):\n",
    "    return 100 * np.mean(np.abs((y_true - y_pred) / y_true))\n",
    "\n",
    "# Evaluate both models\n",
    "print(\"CatBoost Results:\")\n",
    "print(f\"MAPE: {calculate_mape(y_test, catboost_preds):.2f}%\")\n",
    "\n",
    "print(\"\\nStacking Model Results:\")\n",
    "print(f\"MAPE: {calculate_mape(y_test, stack_preds):.2f}%\")"
   ]
  },
  {
   "cell_type": "code",
   "execution_count": 611,
   "metadata": {},
   "outputs": [
    {
     "name": "stdout",
     "output_type": "stream",
     "text": [
      "CatBoost Results:\n",
      "MAPE: 5.43%\n",
      "\n",
      "Stacking Model Results:\n",
      "MAPE: 16.11%\n"
     ]
    }
   ],
   "source": [
    "print(\"CatBoost Results:\")\n",
    "print(f\"MAPE: {calculate_mape(y_test, catboost_preds):.2f}%\")\n",
    "\n",
    "print(\"\\nStacking Model Results:\")\n",
    "print(f\"MAPE: {calculate_mape(y_test, stack_preds):.2f}%\")"
   ]
  }
 ],
 "metadata": {
  "kaggle": {
   "accelerator": "none",
   "dataSources": [
    {
     "datasetId": 7890578,
     "sourceId": 12502275,
     "sourceType": "datasetVersion"
    }
   ],
   "dockerImageVersionId": 31089,
   "isGpuEnabled": false,
   "isInternetEnabled": true,
   "language": "python",
   "sourceType": "notebook"
  },
  "kernelspec": {
   "display_name": "mykerenv",
   "language": "python",
   "name": "python3"
  },
  "language_info": {
   "codemirror_mode": {
    "name": "ipython",
    "version": 3
   },
   "file_extension": ".py",
   "mimetype": "text/x-python",
   "name": "python",
   "nbconvert_exporter": "python",
   "pygments_lexer": "ipython3",
   "version": "3.10.16"
  }
 },
 "nbformat": 4,
 "nbformat_minor": 4
}
